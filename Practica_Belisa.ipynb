{
  "cells": [
    {
      "cell_type": "code",
      "execution_count": 1,
      "metadata": {
        "colab": {
          "base_uri": "https://localhost:8080/"
        },
        "id": "vbWOkR2NOwp4",
        "outputId": "9a5aa370-cac3-4fe1-de56-e10e2444ff13"
      },
      "outputs": [
        {
          "output_type": "stream",
          "name": "stdout",
          "text": [
            "Looking in indexes: https://pypi.org/simple, https://us-python.pkg.dev/colab-wheels/public/simple/\n",
            "Collecting unzip\n",
            "  Downloading unzip-1.0.0.tar.gz (704 bytes)\n",
            "  Preparing metadata (setup.py) ... \u001b[?25l\u001b[?25hdone\n",
            "Building wheels for collected packages: unzip\n",
            "  Building wheel for unzip (setup.py) ... \u001b[?25l\u001b[?25hdone\n",
            "  Created wheel for unzip: filename=unzip-1.0.0-py3-none-any.whl size=1322 sha256=846caa718eb121ddbc488818836f5cb49ecd1ca8be23211c78548facfc2d7f2a\n",
            "  Stored in directory: /root/.cache/pip/wheels/88/2c/2b/d12ab5bb9f34eba42f98231b969311f33d7dc1a2f484b902d1\n",
            "Successfully built unzip\n",
            "Installing collected packages: unzip\n",
            "Successfully installed unzip-1.0.0\n",
            "Looking in indexes: https://pypi.org/simple, https://us-python.pkg.dev/colab-wheels/public/simple/\n",
            "Requirement already satisfied: gensim in /usr/local/lib/python3.9/dist-packages (from -r requirements.txt (line 1)) (3.6.0)\n",
            "Requirement already satisfied: ipykernel in /usr/local/lib/python3.9/dist-packages (from -r requirements.txt (line 2)) (5.3.4)\n",
            "Requirement already satisfied: ipython in /usr/local/lib/python3.9/dist-packages (from -r requirements.txt (line 3)) (7.9.0)\n",
            "Collecting jellyfish\n",
            "  Downloading jellyfish-0.9.0.tar.gz (132 kB)\n",
            "\u001b[2K     \u001b[90m━━━━━━━━━━━━━━━━━━━━━━━━━━━━━━━━━━━━━━\u001b[0m \u001b[32m132.6/132.6 KB\u001b[0m \u001b[31m11.4 MB/s\u001b[0m eta \u001b[36m0:00:00\u001b[0m\n",
            "\u001b[?25h  Preparing metadata (setup.py) ... \u001b[?25l\u001b[?25hdone\n",
            "Requirement already satisfied: lxml in /usr/local/lib/python3.9/dist-packages (from -r requirements.txt (line 5)) (4.9.2)\n",
            "Requirement already satisfied: keras in /usr/local/lib/python3.9/dist-packages (from -r requirements.txt (line 6)) (2.11.0)\n",
            "Requirement already satisfied: matplotlib in /usr/local/lib/python3.9/dist-packages (from -r requirements.txt (line 7)) (3.5.3)\n",
            "Requirement already satisfied: nltk in /usr/local/lib/python3.9/dist-packages (from -r requirements.txt (line 8)) (3.7)\n",
            "Collecting num2words\n",
            "  Downloading num2words-0.5.12-py3-none-any.whl (125 kB)\n",
            "\u001b[2K     \u001b[90m━━━━━━━━━━━━━━━━━━━━━━━━━━━━━━━━━━━━━━\u001b[0m \u001b[32m125.2/125.2 KB\u001b[0m \u001b[31m16.8 MB/s\u001b[0m eta \u001b[36m0:00:00\u001b[0m\n",
            "\u001b[?25hRequirement already satisfied: numpy in /usr/local/lib/python3.9/dist-packages (from -r requirements.txt (line 10)) (1.22.4)\n",
            "Requirement already satisfied: pandas in /usr/local/lib/python3.9/dist-packages (from -r requirements.txt (line 11)) (1.3.5)\n",
            "Collecting plotly_express\n",
            "  Downloading plotly_express-0.4.1-py2.py3-none-any.whl (2.9 kB)\n",
            "Collecting pyDAWG\n",
            "  Downloading pyDAWG-1.0.1.tar.gz (28 kB)\n",
            "  Preparing metadata (setup.py) ... \u001b[?25l\u001b[?25hdone\n",
            "Collecting pyLDAvis\n",
            "  Downloading pyLDAvis-3.4.0-py3-none-any.whl (2.6 MB)\n",
            "\u001b[2K     \u001b[90m━━━━━━━━━━━━━━━━━━━━━━━━━━━━━━━━━━━━━━━━\u001b[0m \u001b[32m2.6/2.6 MB\u001b[0m \u001b[31m85.5 MB/s\u001b[0m eta \u001b[36m0:00:00\u001b[0m\n",
            "\u001b[?25hRequirement already satisfied: scikit-learn in /usr/local/lib/python3.9/dist-packages (from -r requirements.txt (line 15)) (1.2.1)\n",
            "Requirement already satisfied: scipy in /usr/local/lib/python3.9/dist-packages (from -r requirements.txt (line 16)) (1.10.1)\n",
            "Collecting sklearn_crfsuite\n",
            "  Downloading sklearn_crfsuite-0.3.6-py2.py3-none-any.whl (12 kB)\n",
            "Collecting stop_words\n",
            "  Downloading stop-words-2018.7.23.tar.gz (31 kB)\n",
            "  Preparing metadata (setup.py) ... \u001b[?25l\u001b[?25hdone\n",
            "Requirement already satisfied: tensorflow in /usr/local/lib/python3.9/dist-packages (from -r requirements.txt (line 19)) (2.11.0)\n",
            "Requirement already satisfied: tqdm in /usr/local/lib/python3.9/dist-packages (from -r requirements.txt (line 20)) (4.65.0)\n",
            "Requirement already satisfied: wordcloud in /usr/local/lib/python3.9/dist-packages (from -r requirements.txt (line 21)) (1.8.2.2)\n",
            "Requirement already satisfied: six>=1.5.0 in /usr/local/lib/python3.9/dist-packages (from gensim->-r requirements.txt (line 1)) (1.15.0)\n",
            "Requirement already satisfied: smart-open>=1.2.1 in /usr/local/lib/python3.9/dist-packages (from gensim->-r requirements.txt (line 1)) (6.3.0)\n",
            "Requirement already satisfied: tornado>=4.2 in /usr/local/lib/python3.9/dist-packages (from ipykernel->-r requirements.txt (line 2)) (6.2)\n",
            "Requirement already satisfied: jupyter-client in /usr/local/lib/python3.9/dist-packages (from ipykernel->-r requirements.txt (line 2)) (6.1.12)\n",
            "Requirement already satisfied: traitlets>=4.1.0 in /usr/local/lib/python3.9/dist-packages (from ipykernel->-r requirements.txt (line 2)) (5.7.1)\n",
            "Requirement already satisfied: prompt-toolkit<2.1.0,>=2.0.0 in /usr/local/lib/python3.9/dist-packages (from ipython->-r requirements.txt (line 3)) (2.0.10)\n",
            "Requirement already satisfied: pickleshare in /usr/local/lib/python3.9/dist-packages (from ipython->-r requirements.txt (line 3)) (0.7.5)\n",
            "Requirement already satisfied: pexpect in /usr/local/lib/python3.9/dist-packages (from ipython->-r requirements.txt (line 3)) (4.8.0)\n",
            "Requirement already satisfied: decorator in /usr/local/lib/python3.9/dist-packages (from ipython->-r requirements.txt (line 3)) (4.4.2)\n",
            "Collecting jedi>=0.10\n",
            "  Downloading jedi-0.18.2-py2.py3-none-any.whl (1.6 MB)\n",
            "\u001b[2K     \u001b[90m━━━━━━━━━━━━━━━━━━━━━━━━━━━━━━━━━━━━━━━━\u001b[0m \u001b[32m1.6/1.6 MB\u001b[0m \u001b[31m76.4 MB/s\u001b[0m eta \u001b[36m0:00:00\u001b[0m\n",
            "\u001b[?25hRequirement already satisfied: pygments in /usr/local/lib/python3.9/dist-packages (from ipython->-r requirements.txt (line 3)) (2.6.1)\n",
            "Requirement already satisfied: backcall in /usr/local/lib/python3.9/dist-packages (from ipython->-r requirements.txt (line 3)) (0.2.0)\n",
            "Requirement already satisfied: setuptools>=18.5 in /usr/local/lib/python3.9/dist-packages (from ipython->-r requirements.txt (line 3)) (57.4.0)\n",
            "Requirement already satisfied: kiwisolver>=1.0.1 in /usr/local/lib/python3.9/dist-packages (from matplotlib->-r requirements.txt (line 7)) (1.4.4)\n",
            "Requirement already satisfied: cycler>=0.10 in /usr/local/lib/python3.9/dist-packages (from matplotlib->-r requirements.txt (line 7)) (0.11.0)\n",
            "Requirement already satisfied: python-dateutil>=2.7 in /usr/local/lib/python3.9/dist-packages (from matplotlib->-r requirements.txt (line 7)) (2.8.2)\n",
            "Requirement already satisfied: fonttools>=4.22.0 in /usr/local/lib/python3.9/dist-packages (from matplotlib->-r requirements.txt (line 7)) (4.39.0)\n",
            "Requirement already satisfied: packaging>=20.0 in /usr/local/lib/python3.9/dist-packages (from matplotlib->-r requirements.txt (line 7)) (23.0)\n",
            "Requirement already satisfied: pyparsing>=2.2.1 in /usr/local/lib/python3.9/dist-packages (from matplotlib->-r requirements.txt (line 7)) (3.0.9)\n",
            "Requirement already satisfied: pillow>=6.2.0 in /usr/local/lib/python3.9/dist-packages (from matplotlib->-r requirements.txt (line 7)) (8.4.0)\n",
            "Requirement already satisfied: joblib in /usr/local/lib/python3.9/dist-packages (from nltk->-r requirements.txt (line 8)) (1.2.0)\n",
            "Requirement already satisfied: regex>=2021.8.3 in /usr/local/lib/python3.9/dist-packages (from nltk->-r requirements.txt (line 8)) (2022.6.2)\n",
            "Requirement already satisfied: click in /usr/local/lib/python3.9/dist-packages (from nltk->-r requirements.txt (line 8)) (8.1.3)\n",
            "Collecting docopt>=0.6.2\n",
            "  Downloading docopt-0.6.2.tar.gz (25 kB)\n",
            "  Preparing metadata (setup.py) ... \u001b[?25l\u001b[?25hdone\n",
            "Requirement already satisfied: pytz>=2017.3 in /usr/local/lib/python3.9/dist-packages (from pandas->-r requirements.txt (line 11)) (2022.7.1)\n",
            "Requirement already satisfied: plotly>=4.1.0 in /usr/local/lib/python3.9/dist-packages (from plotly_express->-r requirements.txt (line 12)) (5.5.0)\n",
            "Requirement already satisfied: patsy>=0.5 in /usr/local/lib/python3.9/dist-packages (from plotly_express->-r requirements.txt (line 12)) (0.5.3)\n",
            "Requirement already satisfied: statsmodels>=0.9.0 in /usr/local/lib/python3.9/dist-packages (from plotly_express->-r requirements.txt (line 12)) (0.13.5)\n",
            "Requirement already satisfied: jinja2 in /usr/local/lib/python3.9/dist-packages (from pyLDAvis->-r requirements.txt (line 14)) (3.1.2)\n",
            "Requirement already satisfied: numexpr in /usr/local/lib/python3.9/dist-packages (from pyLDAvis->-r requirements.txt (line 14)) (2.8.4)\n",
            "Collecting funcy\n",
            "  Downloading funcy-1.18-py2.py3-none-any.whl (33 kB)\n",
            "Requirement already satisfied: threadpoolctl>=2.0.0 in /usr/local/lib/python3.9/dist-packages (from scikit-learn->-r requirements.txt (line 15)) (3.1.0)\n",
            "Requirement already satisfied: tabulate in /usr/local/lib/python3.9/dist-packages (from sklearn_crfsuite->-r requirements.txt (line 17)) (0.8.10)\n",
            "Collecting python-crfsuite>=0.8.3\n",
            "  Downloading python_crfsuite-0.9.9-cp39-cp39-manylinux_2_17_x86_64.manylinux2014_x86_64.whl (1.0 MB)\n",
            "\u001b[2K     \u001b[90m━━━━━━━━━━━━━━━━━━━━━━━━━━━━━━━━━━━━━━━━\u001b[0m \u001b[32m1.0/1.0 MB\u001b[0m \u001b[31m62.4 MB/s\u001b[0m eta \u001b[36m0:00:00\u001b[0m\n",
            "\u001b[?25hRequirement already satisfied: typing-extensions>=3.6.6 in /usr/local/lib/python3.9/dist-packages (from tensorflow->-r requirements.txt (line 19)) (4.5.0)\n",
            "Requirement already satisfied: wrapt>=1.11.0 in /usr/local/lib/python3.9/dist-packages (from tensorflow->-r requirements.txt (line 19)) (1.15.0)\n",
            "Requirement already satisfied: absl-py>=1.0.0 in /usr/local/lib/python3.9/dist-packages (from tensorflow->-r requirements.txt (line 19)) (1.4.0)\n",
            "Requirement already satisfied: h5py>=2.9.0 in /usr/local/lib/python3.9/dist-packages (from tensorflow->-r requirements.txt (line 19)) (3.1.0)\n",
            "Requirement already satisfied: libclang>=13.0.0 in /usr/local/lib/python3.9/dist-packages (from tensorflow->-r requirements.txt (line 19)) (15.0.6.1)\n",
            "Requirement already satisfied: protobuf<3.20,>=3.9.2 in /usr/local/lib/python3.9/dist-packages (from tensorflow->-r requirements.txt (line 19)) (3.19.6)\n",
            "Requirement already satisfied: termcolor>=1.1.0 in /usr/local/lib/python3.9/dist-packages (from tensorflow->-r requirements.txt (line 19)) (2.2.0)\n",
            "Requirement already satisfied: opt-einsum>=2.3.2 in /usr/local/lib/python3.9/dist-packages (from tensorflow->-r requirements.txt (line 19)) (3.3.0)\n",
            "Requirement already satisfied: tensorboard<2.12,>=2.11 in /usr/local/lib/python3.9/dist-packages (from tensorflow->-r requirements.txt (line 19)) (2.11.2)\n",
            "Requirement already satisfied: flatbuffers>=2.0 in /usr/local/lib/python3.9/dist-packages (from tensorflow->-r requirements.txt (line 19)) (23.3.3)\n",
            "Requirement already satisfied: google-pasta>=0.1.1 in /usr/local/lib/python3.9/dist-packages (from tensorflow->-r requirements.txt (line 19)) (0.2.0)\n",
            "Requirement already satisfied: grpcio<2.0,>=1.24.3 in /usr/local/lib/python3.9/dist-packages (from tensorflow->-r requirements.txt (line 19)) (1.51.3)\n",
            "Requirement already satisfied: tensorflow-io-gcs-filesystem>=0.23.1 in /usr/local/lib/python3.9/dist-packages (from tensorflow->-r requirements.txt (line 19)) (0.31.0)\n",
            "Requirement already satisfied: astunparse>=1.6.0 in /usr/local/lib/python3.9/dist-packages (from tensorflow->-r requirements.txt (line 19)) (1.6.3)\n",
            "Requirement already satisfied: gast<=0.4.0,>=0.2.1 in /usr/local/lib/python3.9/dist-packages (from tensorflow->-r requirements.txt (line 19)) (0.4.0)\n",
            "Requirement already satisfied: tensorflow-estimator<2.12,>=2.11.0 in /usr/local/lib/python3.9/dist-packages (from tensorflow->-r requirements.txt (line 19)) (2.11.0)\n",
            "Requirement already satisfied: wheel<1.0,>=0.23.0 in /usr/local/lib/python3.9/dist-packages (from astunparse>=1.6.0->tensorflow->-r requirements.txt (line 19)) (0.38.4)\n",
            "Requirement already satisfied: parso<0.9.0,>=0.8.0 in /usr/local/lib/python3.9/dist-packages (from jedi>=0.10->ipython->-r requirements.txt (line 3)) (0.8.3)\n",
            "Requirement already satisfied: tenacity>=6.2.0 in /usr/local/lib/python3.9/dist-packages (from plotly>=4.1.0->plotly_express->-r requirements.txt (line 12)) (8.2.2)\n",
            "Requirement already satisfied: wcwidth in /usr/local/lib/python3.9/dist-packages (from prompt-toolkit<2.1.0,>=2.0.0->ipython->-r requirements.txt (line 3)) (0.2.6)\n",
            "Requirement already satisfied: werkzeug>=1.0.1 in /usr/local/lib/python3.9/dist-packages (from tensorboard<2.12,>=2.11->tensorflow->-r requirements.txt (line 19)) (2.2.3)\n",
            "Requirement already satisfied: tensorboard-plugin-wit>=1.6.0 in /usr/local/lib/python3.9/dist-packages (from tensorboard<2.12,>=2.11->tensorflow->-r requirements.txt (line 19)) (1.8.1)\n",
            "Requirement already satisfied: requests<3,>=2.21.0 in /usr/local/lib/python3.9/dist-packages (from tensorboard<2.12,>=2.11->tensorflow->-r requirements.txt (line 19)) (2.25.1)\n",
            "Requirement already satisfied: tensorboard-data-server<0.7.0,>=0.6.0 in /usr/local/lib/python3.9/dist-packages (from tensorboard<2.12,>=2.11->tensorflow->-r requirements.txt (line 19)) (0.6.1)\n",
            "Requirement already satisfied: google-auth<3,>=1.6.3 in /usr/local/lib/python3.9/dist-packages (from tensorboard<2.12,>=2.11->tensorflow->-r requirements.txt (line 19)) (2.16.2)\n",
            "Requirement already satisfied: google-auth-oauthlib<0.5,>=0.4.1 in /usr/local/lib/python3.9/dist-packages (from tensorboard<2.12,>=2.11->tensorflow->-r requirements.txt (line 19)) (0.4.6)\n",
            "Requirement already satisfied: markdown>=2.6.8 in /usr/local/lib/python3.9/dist-packages (from tensorboard<2.12,>=2.11->tensorflow->-r requirements.txt (line 19)) (3.4.1)\n",
            "Requirement already satisfied: MarkupSafe>=2.0 in /usr/local/lib/python3.9/dist-packages (from jinja2->pyLDAvis->-r requirements.txt (line 14)) (2.1.2)\n",
            "Requirement already satisfied: pyzmq>=13 in /usr/local/lib/python3.9/dist-packages (from jupyter-client->ipykernel->-r requirements.txt (line 2)) (23.2.1)\n",
            "Requirement already satisfied: jupyter-core>=4.6.0 in /usr/local/lib/python3.9/dist-packages (from jupyter-client->ipykernel->-r requirements.txt (line 2)) (5.2.0)\n",
            "Requirement already satisfied: ptyprocess>=0.5 in /usr/local/lib/python3.9/dist-packages (from pexpect->ipython->-r requirements.txt (line 3)) (0.7.0)\n",
            "Requirement already satisfied: pyasn1-modules>=0.2.1 in /usr/local/lib/python3.9/dist-packages (from google-auth<3,>=1.6.3->tensorboard<2.12,>=2.11->tensorflow->-r requirements.txt (line 19)) (0.2.8)\n",
            "Requirement already satisfied: cachetools<6.0,>=2.0.0 in /usr/local/lib/python3.9/dist-packages (from google-auth<3,>=1.6.3->tensorboard<2.12,>=2.11->tensorflow->-r requirements.txt (line 19)) (5.3.0)\n",
            "Requirement already satisfied: rsa<5,>=3.1.4 in /usr/local/lib/python3.9/dist-packages (from google-auth<3,>=1.6.3->tensorboard<2.12,>=2.11->tensorflow->-r requirements.txt (line 19)) (4.9)\n",
            "Requirement already satisfied: requests-oauthlib>=0.7.0 in /usr/local/lib/python3.9/dist-packages (from google-auth-oauthlib<0.5,>=0.4.1->tensorboard<2.12,>=2.11->tensorflow->-r requirements.txt (line 19)) (1.3.1)\n",
            "Requirement already satisfied: platformdirs>=2.5 in /usr/local/lib/python3.9/dist-packages (from jupyter-core>=4.6.0->jupyter-client->ipykernel->-r requirements.txt (line 2)) (3.1.0)\n",
            "Requirement already satisfied: importlib-metadata>=4.4 in /usr/local/lib/python3.9/dist-packages (from markdown>=2.6.8->tensorboard<2.12,>=2.11->tensorflow->-r requirements.txt (line 19)) (6.0.0)\n",
            "Requirement already satisfied: idna<3,>=2.5 in /usr/local/lib/python3.9/dist-packages (from requests<3,>=2.21.0->tensorboard<2.12,>=2.11->tensorflow->-r requirements.txt (line 19)) (2.10)\n",
            "Requirement already satisfied: certifi>=2017.4.17 in /usr/local/lib/python3.9/dist-packages (from requests<3,>=2.21.0->tensorboard<2.12,>=2.11->tensorflow->-r requirements.txt (line 19)) (2022.12.7)\n",
            "Requirement already satisfied: urllib3<1.27,>=1.21.1 in /usr/local/lib/python3.9/dist-packages (from requests<3,>=2.21.0->tensorboard<2.12,>=2.11->tensorflow->-r requirements.txt (line 19)) (1.26.14)\n",
            "Requirement already satisfied: chardet<5,>=3.0.2 in /usr/local/lib/python3.9/dist-packages (from requests<3,>=2.21.0->tensorboard<2.12,>=2.11->tensorflow->-r requirements.txt (line 19)) (4.0.0)\n",
            "Requirement already satisfied: zipp>=0.5 in /usr/local/lib/python3.9/dist-packages (from importlib-metadata>=4.4->markdown>=2.6.8->tensorboard<2.12,>=2.11->tensorflow->-r requirements.txt (line 19)) (3.15.0)\n",
            "Requirement already satisfied: pyasn1<0.5.0,>=0.4.6 in /usr/local/lib/python3.9/dist-packages (from pyasn1-modules>=0.2.1->google-auth<3,>=1.6.3->tensorboard<2.12,>=2.11->tensorflow->-r requirements.txt (line 19)) (0.4.8)\n",
            "Requirement already satisfied: oauthlib>=3.0.0 in /usr/local/lib/python3.9/dist-packages (from requests-oauthlib>=0.7.0->google-auth-oauthlib<0.5,>=0.4.1->tensorboard<2.12,>=2.11->tensorflow->-r requirements.txt (line 19)) (3.2.2)\n",
            "Building wheels for collected packages: jellyfish, pyDAWG, stop_words, docopt\n",
            "  Building wheel for jellyfish (setup.py) ... \u001b[?25l\u001b[?25hdone\n",
            "  Created wheel for jellyfish: filename=jellyfish-0.9.0-cp39-cp39-linux_x86_64.whl size=81459 sha256=baa04e73dc15f5923200dfbacdd09279283058a3db3918e67ff7c9cacae92fdb\n",
            "  Stored in directory: /root/.cache/pip/wheels/a6/28/ba/284e37010e5d3aeed5e45345b58ab8683f97bdce46c9e147f9\n",
            "  Building wheel for pyDAWG (setup.py) ... \u001b[?25l\u001b[?25hdone\n",
            "  Created wheel for pyDAWG: filename=pyDAWG-1.0.1-cp39-cp39-linux_x86_64.whl size=65914 sha256=7b05f4bb72b7f68055f55d0afb2db83279a43e9d12735976f29fd17225ea2b4a\n",
            "  Stored in directory: /root/.cache/pip/wheels/2b/46/09/23af15e75c282523ef4f199c41db4874918b59c21939cd16af\n",
            "  Building wheel for stop_words (setup.py) ... \u001b[?25l\u001b[?25hdone\n",
            "  Created wheel for stop_words: filename=stop_words-2018.7.23-py3-none-any.whl size=32910 sha256=f488fb73692f68f372363e761b3eaf9d8e27f26fb78050f7b09ca5077bbc9a17\n",
            "  Stored in directory: /root/.cache/pip/wheels/da/d8/66/395317506a23a9d1d7de433ad6a7d9e6e16aab48cf028a0f60\n",
            "  Building wheel for docopt (setup.py) ... \u001b[?25l\u001b[?25hdone\n",
            "  Created wheel for docopt: filename=docopt-0.6.2-py2.py3-none-any.whl size=13723 sha256=2c31c98cdd739cbf599ca884a8cab913a3505f87a25db723ccfb6f8fc0207b7d\n",
            "  Stored in directory: /root/.cache/pip/wheels/70/4a/46/1309fc853b8d395e60bafaf1b6df7845bdd82c95fd59dd8d2b\n",
            "Successfully built jellyfish pyDAWG stop_words docopt\n",
            "Installing collected packages: stop_words, python-crfsuite, pyDAWG, funcy, docopt, sklearn_crfsuite, num2words, jellyfish, jedi, pyLDAvis, plotly_express\n",
            "Successfully installed docopt-0.6.2 funcy-1.18 jedi-0.18.2 jellyfish-0.9.0 num2words-0.5.12 plotly_express-0.4.1 pyDAWG-1.0.1 pyLDAvis-3.4.0 python-crfsuite-0.9.9 sklearn_crfsuite-0.3.6 stop_words-2018.7.23\n",
            "Looking in indexes: https://pypi.org/simple, https://us-python.pkg.dev/colab-wheels/public/simple/\n",
            "Collecting utils.py\n",
            "  Downloading utils_py-0.3.0.tar.gz (9.9 kB)\n",
            "  Preparing metadata (setup.py) ... \u001b[?25l\u001b[?25hdone\n",
            "Collecting nose\n",
            "  Downloading nose-1.3.7-py3-none-any.whl (154 kB)\n",
            "\u001b[2K     \u001b[90m━━━━━━━━━━━━━━━━━━━━━━━━━━━━━━━━━━━━━━\u001b[0m \u001b[32m154.7/154.7 KB\u001b[0m \u001b[31m15.9 MB/s\u001b[0m eta \u001b[36m0:00:00\u001b[0m\n",
            "\u001b[?25hBuilding wheels for collected packages: utils.py\n",
            "  Building wheel for utils.py (setup.py) ... \u001b[?25l\u001b[?25hdone\n",
            "  Created wheel for utils.py: filename=utils_py-0.3.0-py3-none-any.whl size=12333 sha256=e47f727c79407e6a12a0dade431e3f2b77ce31034098ef0804e98d9d4f6b4234\n",
            "  Stored in directory: /root/.cache/pip/wheels/06/87/4e/609d23ea2cf2f02bcac224280cdc02a36d20ce9ccfed2afd87\n",
            "Successfully built utils.py\n",
            "Installing collected packages: nose, utils.py\n",
            "Successfully installed nose-1.3.7 utils.py-0.3.0\n",
            "Looking in indexes: https://pypi.org/simple, https://us-python.pkg.dev/colab-wheels/public/simple/\n",
            "Collecting rarfile\n",
            "  Downloading rarfile-4.0-py3-none-any.whl (28 kB)\n",
            "Installing collected packages: rarfile\n",
            "Successfully installed rarfile-4.0\n"
          ]
        }
      ],
      "source": [
        "!pip install unzip\n",
        "!pip install -r requirements.txt\n",
        "!pip install utils.py\n",
        "!pip install rarfile\n"
      ]
    },
    {
      "cell_type": "code",
      "execution_count": 2,
      "metadata": {
        "colab": {
          "base_uri": "https://localhost:8080/"
        },
        "id": "kXWOvvCTJmU3",
        "outputId": "ddeffa87-6f6d-40cf-c503-2d6e44fd5a44"
      },
      "outputs": [
        {
          "output_type": "stream",
          "name": "stdout",
          "text": [
            "Looking in indexes: https://pypi.org/simple, https://us-python.pkg.dev/colab-wheels/public/simple/\n",
            "Requirement already satisfied: num2words in /usr/local/lib/python3.9/dist-packages (0.5.12)\n",
            "Requirement already satisfied: docopt>=0.6.2 in /usr/local/lib/python3.9/dist-packages (from num2words) (0.6.2)\n",
            "Looking in indexes: https://pypi.org/simple, https://us-python.pkg.dev/colab-wheels/public/simple/\n",
            "Requirement already satisfied: stop-words in /usr/local/lib/python3.9/dist-packages (2018.7.23)\n"
          ]
        }
      ],
      "source": [
        "!pip install num2words\n",
        "!pip install stop-words"
      ]
    },
    {
      "cell_type": "code",
      "execution_count": 3,
      "metadata": {
        "colab": {
          "base_uri": "https://localhost:8080/"
        },
        "id": "HM5YFnT_CgPy",
        "outputId": "7807b34e-4eb8-4d0b-86ec-c9190cad84b0"
      },
      "outputs": [
        {
          "output_type": "stream",
          "name": "stderr",
          "text": [
            "[nltk_data] Downloading package wordnet to /root/nltk_data...\n",
            "[nltk_data] Downloading package omw-1.4 to /root/nltk_data...\n",
            "[nltk_data] Downloading package stopwords to /root/nltk_data...\n",
            "[nltk_data]   Unzipping corpora/stopwords.zip.\n"
          ]
        },
        {
          "output_type": "execute_result",
          "data": {
            "text/plain": [
              "True"
            ]
          },
          "metadata": {},
          "execution_count": 3
        }
      ],
      "source": [
        "import unicodedata\n",
        "from num2words import num2words\n",
        "import nltk\n",
        "from nltk import RegexpTokenizer\n",
        "from nltk.corpus import stopwords\n",
        "from nltk.stem import WordNetLemmatizer\n",
        "nltk.download('wordnet')\n",
        "from nltk.stem import WordNetLemmatizer\n",
        "import nltk\n",
        "nltk.download('omw-1.4')\n",
        "nltk.download('stopwords')\n"
      ]
    },
    {
      "cell_type": "markdown",
      "metadata": {
        "id": "UqsgTZoKJmU2"
      },
      "source": [
        "# Lectura de datos y Exploración"
      ]
    },
    {
      "cell_type": "code",
      "execution_count": 4,
      "metadata": {
        "id": "U4ar2hFbZEPn"
      },
      "outputs": [],
      "source": [
        "import random\n",
        "import numpy as np\n",
        "import pandas as pd\n",
        "from collections import Counter # Exploración\n",
        "from nltk import ngrams # Exploración\n",
        "from nltk.probability import FreqDist # Exploración\n",
        "from stop_words import get_stop_words # Preprocesado\n",
        "import unicodedata # Preprocesado\n",
        "import re # Preprocesado\n",
        "\n",
        "\n",
        "from sklearn.model_selection import train_test_split # Modelado\n",
        "from sklearn.pipeline import Pipeline # Modelado\n",
        "from sklearn.feature_extraction.text import CountVectorizer, TfidfVectorizer # Modelado\n",
        "from sklearn.feature_selection import chi2 # Reporte\n",
        "from sklearn.linear_model import LogisticRegression # Reporte\n",
        "from sklearn.metrics import accuracy_score, confusion_matrix, classification_report, roc_curve, precision_recall_curve # Reporte\n",
        "\n",
        "import matplotlib.pyplot as plt"
      ]
    },
    {
      "cell_type": "code",
      "execution_count": 5,
      "metadata": {
        "id": "fSvkdyP_JmU2"
      },
      "outputs": [],
      "source": [
        "import json"
      ]
    },
    {
      "cell_type": "code",
      "execution_count": 6,
      "metadata": {
        "id": "sOJ-xFI-WDpC"
      },
      "outputs": [],
      "source": [
        "import rarfile\n",
        "\n",
        "with rarfile.RarFile('/content/filter_all_t.rar', 'r') as rf:\n",
        "    rf.extractall('/content/')\n",
        "\n"
      ]
    },
    {
      "cell_type": "code",
      "execution_count": 7,
      "metadata": {
        "colab": {
          "base_uri": "https://localhost:8080/"
        },
        "id": "ShN2t11vaO1q",
        "outputId": "25187546-18fd-4f06-a424-22b99cefee84"
      },
      "outputs": [
        {
          "output_type": "stream",
          "name": "stdout",
          "text": [
            "{'business_id': '6050fa9f5b4ccec8d5cae994', 'user_id': '117065749986299237881', 'rating': 5, 'review_text': 'Chicken and waffles were really good!', 'pics': ['AF1QipMpfxIZUT_aymQ3qPGO-QgGYzxbtLZGmHufAp2s'], 'history_reviews': [['117065749986299237881_605206f8d8c08f462b93e826', 'This was the Chipotle Deviled Eggs.']]}\n"
          ]
        }
      ],
      "source": [
        "\n",
        "\n",
        "with open('/content/filter_all_t.json', 'r') as f:\n",
        "    data = json.load(f)\n",
        "\n",
        "primeros_datos_train = data['train'][:4000] # Como no puedo descargar el dataset entero me descargo los primeros datos\n",
        "\n",
        "print(primeros_datos_train[1])"
      ]
    },
    {
      "cell_type": "code",
      "execution_count": 8,
      "metadata": {
        "colab": {
          "base_uri": "https://localhost:8080/"
        },
        "id": "gjLaKNIcreON",
        "outputId": "ca307a22-9294-4009-e450-fb2b00695aee"
      },
      "outputs": [
        {
          "output_type": "stream",
          "name": "stdout",
          "text": [
            "2955\n",
            "2955\n",
            "The meat was well fried (see picture), but unfortunately also had very little taste. The fries were O.K., but unfortunately just average. The onion rings only tasted of breadcrumbs and fat \n",
            "2\n",
            "Initially the bartender was friendly and engaging and recommended me a margarita to get being it was my first time.\n",
            "2\n",
            "The fried options were the best options. (oysters\\clam strips\\French fries). The blackened scallops had too much seasoning on it, salty and spicey. The crab dip and shrimp dip were a disappointment, thought they would be served hot. Overall the seafood was ok, but nothing special or to run home about.\n",
            "2\n"
          ]
        }
      ],
      "source": [
        "#En una primera revision de los datos he visto que los datos estan desbalanceados. \n",
        "#Por lo tnato voy a aumentar mi dataset solo con comentarios negativos\n",
        "with open('/content/filter_all_t.json', 'r') as f:\n",
        "    data = json.load(f)\n",
        "busqueda_datos_train = data['train'][4001:130000] # Para compensar los positivos!\n",
        "\n",
        "\n",
        "\n",
        "compensacion_negativa=[]\n",
        "review_negativa=[]\n",
        "rating_negativo=[]\n",
        "\n",
        "for i in range(len(busqueda_datos_train)):\n",
        "  if busqueda_datos_train[i]['rating']<3:\n",
        "    rating_negativo.append(busqueda_datos_train[i]['rating'])\n",
        "    compensacion_negativa.append(i)\n",
        "\n",
        "print(len(compensacion_negativa))\n",
        "\n",
        "\n",
        "for i in compensacion_negativa:\n",
        "  review_ne=busqueda_datos_train[i]['review_text']\n",
        "  review_negativa.append(review_ne)\n",
        "print(len(review_negativa))\n",
        "print(review_negativa[1])\n",
        "print(rating_negativo[1])\n",
        "print(review_negativa[2])\n",
        "print(rating_negativo[2])\n",
        "print(review_negativa[25])\n",
        "print(rating_negativo[25])\n",
        "\n"
      ]
    },
    {
      "cell_type": "code",
      "execution_count": 9,
      "metadata": {
        "colab": {
          "base_uri": "https://localhost:8080/"
        },
        "id": "ZqVOzuNnw4l5",
        "outputId": "bb9b83aa-875e-4f32-b90d-33b8047da4ac"
      },
      "outputs": [
        {
          "output_type": "stream",
          "name": "stdout",
          "text": [
            "                                              review  rating\n",
            "0  We ordered their benchmark named beer ,which w...       1\n",
            "1  The meat was well fried (see picture), but unf...       2\n",
            "2  Initially the bartender was friendly and engag...       2\n",
            "3  Burgers are ok, ice cream is good, fries are a...       2\n",
            "4  We got the Asian Zing, Teriyaki, and Original ...       1\n",
            "2955\n"
          ]
        }
      ],
      "source": [
        "reviews_text_train_n = []\n",
        "rating_train_n = []\n",
        "\n",
        "\n",
        "df_train_negativo = pd.DataFrame({\n",
        "    'review': review_negativa,\n",
        "    'rating': rating_negativo\n",
        "})\n",
        "\n",
        "df_train_negativo.reset_index(drop=True, inplace=True)\n",
        "print(df_train_negativo.head())\n",
        "print(len(df_train_negativo))"
      ]
    },
    {
      "cell_type": "code",
      "execution_count": 10,
      "metadata": {
        "colab": {
          "base_uri": "https://localhost:8080/"
        },
        "id": "9qRlcHredJ8c",
        "outputId": "c4f2b92f-d16d-4582-8803-d0a30b8aedad"
      },
      "outputs": [
        {
          "output_type": "stream",
          "name": "stdout",
          "text": [
            "{'business_id': '604ee8b388c7af3f893e613b', 'user_id': '108111397722253060630', 'rating': 5, 'review_text': \"I tried the spicy 'Nashville Hot Chicken'.\", 'pics': ['AF1QipMQwmNbcM2swmTNjzJWrwpnkOrUiKPcFsFdo_EO', 'AF1QipNYI-T7dWvmSzl9sXOZVaY3-PB001HOC8ZT-yUH'], 'history_reviews': [['108111397722253060630_604bca76d40e4bc9b841777c', 'Amazing and delicious pizzas and Pretzel bites .'], ['108111397722253060630_6041e2e8475f3961ca526f49', 'For starters: paneer pakoras are a must try. We also liked the lamb seekh kebab and lamb shahi korma (comes with a side of jeera rice).']]}\n"
          ]
        }
      ],
      "source": [
        "primeros_datos_test = data['test'][:750]\n",
        "print(primeros_datos_test[1])"
      ]
    },
    {
      "cell_type": "code",
      "execution_count": 11,
      "metadata": {
        "colab": {
          "base_uri": "https://localhost:8080/"
        },
        "id": "wKOS2pIIfE-P",
        "outputId": "20ad560b-9402-426c-8a28-52408813148f"
      },
      "outputs": [
        {
          "output_type": "stream",
          "name": "stdout",
          "text": [
            "365\n",
            "[81, 102, 106, 114, 126, 144, 162, 188, 212, 226, 249, 276, 304, 305, 306, 308, 310, 315, 322, 333, 350, 364, 376, 404, 415, 452, 470, 520, 530, 534, 555, 591, 605, 612, 622, 629, 670, 685, 698, 741, 744, 797, 800, 812, 847, 855, 867, 903, 941, 942, 944, 948, 982, 1031, 1035, 1099, 1115, 1125, 1180, 1189, 1191, 1221, 1227, 1269, 1282, 1303, 1341, 1369, 1424, 1456, 1513, 1524, 1535, 1624, 1702, 1719, 1755, 1820, 1845, 1855, 1901, 1923, 1928, 1951, 1979, 2002, 2018, 2057, 2063, 2065, 2075, 2132, 2166, 2167, 2193, 2206, 2251, 2281, 2312, 2340, 2405, 2413, 2429, 2439, 2445, 2447, 2476, 2487, 2512, 2525, 2553, 2592, 2594, 2606, 2608, 2622, 2649, 2665, 2780, 2818, 2839, 2853, 2866, 2890, 2911, 2917, 2922, 2955, 3006, 3026, 3049, 3165, 3170, 3234, 3250, 3265, 3376, 3430, 3451, 3465, 3482, 3484, 3527, 3535, 3570, 3597, 3603, 3606, 3615, 3695, 3705, 3742, 3758, 3819, 3823, 3838, 3878, 3921, 3926, 3928, 4036, 4041, 4047, 4078, 4079, 4107, 4147, 4222, 4339, 4388, 4416, 4418, 4450, 4484, 4546, 4581, 4626, 4635, 4689, 4752, 4776, 4800, 4873, 4948, 4962, 4977, 4994, 5010, 5065, 5069, 5079, 5115, 5231, 5232, 5234, 5246, 5259, 5264, 5320, 5400, 5540, 5560, 5638, 5662, 5688, 5730, 5749, 5788, 5805, 5818, 5835, 5855, 5863, 5934, 5952, 6011, 6065, 6089, 6112, 6154, 6215, 6239, 6253, 6257, 6297, 6330, 6384, 6406, 6417, 6421, 6446, 6463, 6481, 6484, 6541, 6545, 6568, 6578, 6599, 6666, 6668, 6748, 6774, 6780, 6789, 6802, 6914, 6917, 6958, 6989, 7011, 7047, 7101, 7129, 7135, 7136, 7201, 7259, 7325, 7326, 7357, 7365, 7379, 7407, 7472, 7490, 7500, 7511, 7531, 7552, 7593, 7651, 7683, 7695, 7703, 7713, 7717, 7749, 7751, 7758, 7759, 7879, 7880, 8049, 8060, 8182, 8200, 8216, 8234, 8252, 8259, 8283, 8314, 8360, 8405, 8432, 8437, 8445, 8455, 8473, 8479, 8520, 8585, 8607, 8667, 8668, 8680, 8725, 8730, 8735, 8764, 8787, 8796, 8847, 8848, 8850, 8885, 8903, 8927, 8949, 8957, 9006, 9011, 9060, 9067, 9068, 9144, 9176, 9197, 9209, 9212, 9218, 9228, 9240, 9285, 9390, 9418, 9424, 9468, 9487, 9500, 9503, 9516, 9525, 9532, 9550, 9690, 9752, 9830, 9864, 9919, 9949, 9963, 9967, 10008, 10057, 10058, 10082, 10115, 10180, 10194, 10213, 10222, 10232, 10261]\n",
            "365\n",
            "Very oddly, one of the dishes he recommended & the 1st to arrive was a fried cauliflower dish in a hot wing sauce served with blue cheese dressing. Next up was the fried okra, which was borderline oversalted & felt like I was eating dry straw. In particular, the tandoori squid & chicken were both fork-tender, the bread service was divine, & the samosas were filling.\n",
            "2\n",
            "Look at the order of supersized fries that I paid extra for.\n",
            "1\n",
            "When it did arrive, the crust was doughy in the middle with a very greasy buttery taste on the edge of the crust that was not to my liking.\n",
            "1\n",
            "                                              review  rating\n",
            "0  But cold food... the salad was good, the zucch...       2\n",
            "1  Very oddly, one of the dishes he recommended &...       2\n",
            "2  Look at the order of supersized fries that I p...       1\n",
            "3  The menu will make you believe that the fries ...       2\n",
            "4  It was worth the wait...Ciroque Punch....Howev...       2\n",
            "365\n"
          ]
        }
      ],
      "source": [
        "#Vamos a realizar la misma búsqueda de datos negativos en test\n",
        "with open('/content/filter_all_t.json', 'r') as f:\n",
        "    data = json.load(f)\n",
        "busqueda_datos_test = data['test'][751:40000] # Para compensar los positivos!\n",
        "\n",
        "\n",
        "\n",
        "compensacion_negativa_test=[]\n",
        "review_negativa_test=[]\n",
        "rating_negativo_test=[]\n",
        "\n",
        "for i in range(len(busqueda_datos_test)):\n",
        "  if busqueda_datos_test[i]['rating']<3:\n",
        "    rating_negativo_test.append(busqueda_datos_test[i]['rating'])\n",
        "    compensacion_negativa_test.append(i)\n",
        "\n",
        "print(len(compensacion_negativa_test))\n",
        "print(compensacion_negativa_test)\n",
        "\n",
        "for i in compensacion_negativa_test:\n",
        "  review_ne_test=busqueda_datos_test[i]['review_text']\n",
        "  review_negativa_test.append(review_ne_test)\n",
        "print(len(review_negativa_test))\n",
        "print(review_negativa_test[1])\n",
        "print(rating_negativo_test[1])\n",
        "print(review_negativa_test[2])\n",
        "print(rating_negativo_test[2])\n",
        "print(review_negativa_test[25])\n",
        "print(rating_negativo_test[25])\n",
        "\n",
        "reviews_test_train_n = []\n",
        "rating_test_n = []\n",
        "\n",
        "\n",
        "df_test_negativo = pd.DataFrame({\n",
        "    'review': review_negativa_test,\n",
        "    'rating': rating_negativo_test\n",
        "})\n",
        "\n",
        "df_test_negativo.reset_index(drop=True, inplace=True)\n",
        "print(df_test_negativo.head())\n",
        "print(len(df_test_negativo))"
      ]
    },
    {
      "cell_type": "code",
      "execution_count": 12,
      "metadata": {
        "colab": {
          "base_uri": "https://localhost:8080/"
        },
        "id": "QLRWxwjOjoZs",
        "outputId": "bc75c73b-2aa9-428f-cc1f-0d2d3b532173"
      },
      "outputs": [
        {
          "output_type": "stream",
          "name": "stdout",
          "text": [
            "[4, 5, 4, 5, 4, 5, 5, 5, 5, 5, 5, 5, 5, 5, 4, 5, 5, 5, 5, 3, 5, 3, 5, 5, 4, 5, 5, 4, 5, 5, 3, 4, 5, 3, 4, 4, 4, 5, 3, 4, 4, 4, 5, 5, 5, 4, 4, 5, 2, 5, 5, 5, 5, 5, 4, 5, 3, 5, 4, 5, 5, 5, 5, 4, 4, 5, 4, 2, 4, 5, 4, 4, 5, 4, 3, 5, 5, 5, 5, 5, 5, 4, 5, 5, 4, 4, 4, 5, 5, 5, 5, 4, 4, 4, 1, 5, 5, 4, 4, 5, 5, 4, 4, 5, 4, 4, 5, 5, 5, 3, 2, 5, 5, 5, 5, 5, 4, 4, 4, 4, 4, 5, 5, 4, 5, 5, 5, 3, 5, 5, 4, 5, 5, 3, 4, 5, 3, 5, 5, 4, 5, 4, 4, 4, 4, 5, 5, 5, 5, 4, 5, 3, 5, 4, 5, 4, 4, 1, 4, 4, 5, 5, 1, 4, 5, 4, 5, 5, 4, 4, 5, 5, 4, 2, 5, 5, 4, 5, 5, 4, 5, 5, 5, 3, 5, 4, 5, 5, 5, 4, 5, 5, 5, 3, 5, 4, 5, 5, 4, 4, 5, 5, 4, 4, 4, 5, 5, 5, 5, 5, 4, 5, 4, 3, 5, 5, 5, 5, 5, 4, 5, 4, 5, 5, 4, 5, 5, 1, 3, 4, 4, 3, 4, 5, 1, 5, 5, 4, 5, 5, 5, 5, 5, 5, 5, 5, 5, 4, 5, 5, 5, 5, 5, 4, 4, 5, 4, 4, 5, 4, 3, 4, 4, 5, 5, 5, 5, 5, 3, 5, 5, 4, 5, 5, 5, 2, 4, 5, 5, 5, 5, 5, 3, 4, 3, 5, 5, 4, 4, 5, 5, 5, 5, 5, 5, 4, 4, 5, 4, 5, 4, 5, 5, 5, 5, 4, 5, 4, 4, 4, 3, 5, 5, 5, 5, 5, 5, 5, 5, 5, 5, 5, 4, 5, 2, 4, 5, 5, 5, 5, 5, 2, 5, 3, 5, 5, 4, 4, 5, 5, 4, 3, 5, 4, 4, 4, 2, 5, 5, 3, 5, 3, 3, 5, 5, 3, 5, 5, 4, 4, 5, 5, 5, 3, 5, 3, 5, 4, 2, 4, 5, 4, 4, 5, 4, 5, 5, 4, 5, 4, 5, 5, 5, 5, 4, 5, 5, 5, 3, 5, 5, 3, 5, 5, 5, 5, 5, 5, 5, 5, 2, 3, 5, 3, 5, 5, 4, 1, 5, 3, 5, 4, 5, 5, 5, 4, 4, 4, 5, 3, 5, 3, 5, 5, 5, 5, 3, 5, 5, 5, 5, 4, 5, 5, 5, 5, 5, 4, 5, 5, 5, 3, 5, 5, 5, 5, 5, 4, 4, 4, 4, 4, 4, 4, 5, 5, 5, 5, 4, 5, 5, 5, 5, 5, 5, 4, 5, 5, 4, 5, 5, 5, 5, 5, 4, 5, 5, 3, 5, 5, 5, 1, 5, 3, 5, 5, 4, 5, 5, 2, 5, 5, 5, 4, 5, 3, 5, 4, 5, 3, 5, 5, 4, 3, 1, 5, 5, 5, 5, 5, 5, 4, 5, 5, 5, 5, 4, 5, 1, 5, 5, 5, 5, 5, 3, 4, 4, 5, 5, 4, 3, 5, 5, 5, 5, 5, 5, 4, 5, 4, 5, 5, 5, 5, 5, 5, 2, 4, 5, 4, 5, 5, 5, 5, 5, 4, 5, 4, 5, 4, 5, 4, 5, 4, 5, 4, 4, 5, 5, 5, 5, 5, 5, 4, 2, 5, 5, 5, 5, 4, 4, 5, 5, 5, 5, 5, 4, 4, 5, 4, 5, 5, 5, 5, 5, 3, 5, 5, 5, 5, 4, 5, 5, 5, 3, 4, 5, 3, 4, 4, 4, 4, 5, 4, 4, 3, 5, 3, 5, 3, 3, 4, 5, 5, 5, 4, 5, 5, 5, 5, 5, 4, 5, 4, 5, 4, 5, 5, 3, 4, 5, 4, 5, 4, 3, 2, 4, 5, 5, 5, 5, 5, 5, 4, 4, 5, 5, 5, 4, 5, 5, 5, 4, 3, 5, 5, 4, 5, 4, 3, 4, 4, 5, 5, 5, 5, 4, 5, 5, 2, 5, 4, 5, 5, 4, 4, 4, 5, 5, 4, 5, 4, 5, 2, 5, 4, 3, 5, 5, 5, 4, 4, 5, 4, 3, 5, 4, 5, 5, 4, 5, 3, 5, 5, 5, 5, 3, 5, 3, 5, 5, 5, 5, 4, 5, 5, 5, 5, 5, 5, 5, 5, 5, 5, 3, 5, 5, 5, 5, 4, 5, 4, 5, 5, 4, 5, 5, 4, 4, 1, 5, 4, 5, 4, 5, 4, 5, 4, 5, 4, 5, 4, 4, 4, 4, 5, 4, 5, 5, 3, 5, 3, 5, 5, 5, 5, 5, 4, 4, 4, 5, 5, 5, 4, 5, 5, 5, 5, 5, 5, 5, 5, 4, 5, 5, 5, 5, 4, 4, 5, 5, 5, 5, 4, 4, 5, 3, 5, 4, 4, 5, 2, 5, 5, 5, 3, 4, 4, 5, 4, 3, 4, 5, 4, 4, 5, 5, 2, 4, 5, 5, 5, 5, 5, 5, 3, 5, 4, 3, 5, 4, 5, 5, 5, 5, 5, 5, 5, 4, 3, 4, 5, 4, 5, 5, 4, 5, 5, 4, 4, 4, 5, 5, 4, 4, 4, 5, 5, 4, 3, 5, 5, 5, 5, 5, 5, 4, 5, 5, 5, 5, 5, 5, 5, 5, 5, 5, 5, 5, 4, 5, 5, 4, 5, 5, 5, 5, 4, 5, 5, 4, 5, 5, 5, 3, 5, 5, 5, 5, 5, 5, 5, 5, 1, 4, 5, 4, 5, 5, 4, 4, 5, 4, 4, 5, 4, 4, 5, 2, 5, 5, 5, 5, 5, 4, 3, 5, 5, 5, 5, 5, 5, 5, 3, 5, 5, 5, 3, 5, 5, 4, 5, 5, 5, 4, 4, 5, 5, 5, 3, 5, 5, 5, 5, 5, 5, 2, 5, 4, 5, 4, 5, 5, 4, 5, 4, 4, 4, 1, 5, 4, 4, 5, 5, 4, 5, 5, 4, 4, 5, 5, 5, 5, 5, 5, 5, 5, 5, 5, 4, 4, 5, 5, 4, 5, 5, 5, 5, 5, 4, 5, 5, 5, 5, 5, 1, 5, 5, 5, 3, 5, 5, 3, 3, 4, 5, 5, 4, 5, 5, 5, 5, 5, 4, 5, 5, 5, 2, 5, 5, 5, 4, 4, 4, 1, 5, 5, 5, 5, 4, 5, 5, 5, 4, 5, 5, 5, 3, 3, 5, 4, 5, 5, 5, 4, 5, 4, 5, 2, 5, 5, 4, 5, 5, 5, 5, 3, 5, 5, 5, 1, 3, 3, 4, 5, 3, 5, 4, 3, 5, 4, 5, 4, 5, 5, 3, 3, 5, 5, 5, 5, 3, 5, 5, 5, 5, 5, 4, 3, 5, 5, 5, 5, 2, 4, 5, 5, 3, 4, 5, 5, 5, 3, 5, 4, 4, 4, 5, 5, 5, 5, 5, 5, 5, 5, 5, 5, 5, 5, 5, 4, 2, 5, 3, 5, 5, 4, 4, 5, 3, 5, 5, 4, 5, 5, 4, 5, 5, 5, 3, 5, 5, 5, 5, 5, 5, 5, 4, 5, 5, 4, 5, 3, 4, 5, 5, 5, 5, 4, 4, 3, 5, 4, 5, 4, 5, 4, 3, 4, 5, 5, 5, 5, 5, 5, 5, 5, 5, 3, 5, 5, 5, 5, 5, 5, 5, 4, 3, 5, 5, 5, 4, 4, 4, 5, 5, 4, 5, 5, 5, 3, 2, 4, 5, 5, 5, 3, 5, 4, 4, 5, 5, 5, 4, 5, 4, 1, 4, 5, 4, 5, 5, 4, 5, 5, 5, 5, 5, 5, 5, 5, 5, 5, 4, 5, 5, 3, 4, 2, 4, 5, 3, 5, 3, 4, 5, 4, 4, 4, 5, 5, 5, 4, 5, 5, 5, 4, 4, 2, 5, 5, 5, 5, 3, 5, 5, 5, 4, 3, 4, 4, 4, 5, 5, 5, 5, 4, 5, 4, 5, 5, 4, 5, 5, 4, 4, 5, 4, 5, 4, 1, 2, 4, 5, 5, 5, 5, 5, 5, 5, 5, 4, 5, 5, 3, 5, 5, 4, 4, 3, 5, 5, 5, 5, 5, 4, 4, 5, 4, 5, 4, 4, 5, 4, 5, 5, 5, 5, 5, 5, 5, 5, 5, 5, 5, 5, 5, 5, 4, 3, 5, 3, 4, 5, 4, 5, 5, 5, 3, 4, 5, 5, 5, 5, 4, 5, 4, 5, 5, 1, 5, 3, 5, 5, 5, 5, 5, 4, 5, 5, 5, 5, 5, 5, 5, 5, 5, 5, 4, 5, 5, 5, 5, 4, 4, 5, 5, 5, 5, 5, 4, 5, 1, 3, 4, 5, 4, 5, 3, 2, 5, 4, 5, 5, 4, 5, 5, 5, 5, 5, 5, 4, 4, 4, 5, 4, 4, 5, 5, 5, 1, 3, 5, 4, 5, 5, 5, 4, 5, 5, 4, 3, 5, 5, 5, 5, 5, 4, 4, 5, 5, 5, 5, 4, 5, 5, 5, 3, 1, 5, 5, 3, 5, 5, 5, 5, 4, 5, 5, 5, 5, 5, 5, 4, 3, 5, 5, 5, 5, 5, 4, 5, 3, 5, 5, 3, 5, 4, 4, 4, 5, 5, 4, 4, 5, 3, 2, 5, 4, 5, 4, 5, 2, 2, 4, 5, 5, 5, 3, 5, 5, 5, 4, 5, 5, 5, 5, 4, 5, 5, 4, 5, 5, 3, 4, 4, 5, 5, 3, 5, 5, 4, 4, 5, 5, 5, 5, 5, 5, 5, 1, 5, 4, 5, 5, 5, 5, 4, 4, 4, 4, 5, 5, 5, 3, 5, 3, 5, 5, 5, 2, 5, 4, 5, 2, 4, 5, 4, 4, 3, 2, 4, 4, 5, 5, 5, 4, 4, 5, 5, 4, 5, 5, 5, 5, 5, 4, 5, 2, 4, 5, 4, 5, 5, 5, 4, 5, 3, 2, 4, 5, 5, 4, 5, 3, 5, 5, 5, 5, 2, 5, 5, 4, 5, 5, 5, 4, 5, 5, 3, 5, 3, 5, 5, 4, 5, 4, 3, 5, 5, 4, 5, 5, 4, 5, 5, 5, 3, 3, 3, 5, 4, 5, 4, 5, 4, 5, 4, 5, 4, 4, 5, 5, 3, 4, 4, 4, 4, 5, 5, 4, 5, 5, 5, 5, 5, 5, 4, 4, 3, 5, 4, 5, 3, 1, 3, 5, 5, 4, 3, 5, 5, 4, 5, 5, 5, 5, 5, 5, 5, 5, 5, 5, 5, 3, 5, 5, 4, 5, 4, 4, 4, 5, 5, 5, 3, 5, 5, 5, 4, 5, 5, 5, 5, 4, 5, 5, 5, 5, 5, 3, 5, 5, 5, 4, 5, 5, 5, 5, 3, 5, 4, 5, 5, 5, 4, 5, 5, 3, 5, 4, 3, 5, 5, 5, 2, 4, 5, 4, 4, 5, 5, 5, 5, 5, 5, 4, 4, 5, 5, 5, 4, 4, 5, 3, 5, 5, 5, 4, 5, 5, 5, 5, 5, 5, 5, 4, 5, 4, 5, 4, 5, 5, 5, 3, 5, 5, 5, 4, 1, 5, 5, 5, 3, 3, 4, 5, 4, 5, 5, 5, 3, 3, 5, 5, 5, 5, 4, 5, 5, 5, 5, 4, 5, 5, 4, 4, 5, 5, 1, 3, 4, 4, 5, 5, 4, 5, 5, 4, 5, 5, 3, 5, 5, 5, 5, 4, 5, 5, 4, 5, 5, 4, 1, 5, 4, 5, 4, 4, 5, 4, 4, 5, 4, 5, 5, 3, 5, 5, 5, 5, 4, 5, 5, 5, 5, 5, 5, 3, 5, 5, 4, 5, 5, 5, 4, 5, 2, 4, 5, 5, 5, 5, 4, 4, 5, 5, 5, 5, 5, 5, 4, 5, 5, 5, 5, 1, 5, 5, 5, 4, 5, 5, 5, 5, 4, 5, 5, 5, 4, 5, 5, 5, 4, 3, 4, 5, 4, 5, 4, 5, 3, 5, 3, 5, 5, 5, 5, 5, 4, 4, 5, 3, 5, 5, 5, 3, 5, 5, 5, 4, 3, 5, 4, 5, 3, 5, 4, 5, 5, 5, 5, 5, 5, 5, 5, 5, 4, 2, 4, 4, 2, 5, 5, 5, 5, 5, 5, 4, 5, 5, 5, 4, 4, 5, 5, 5, 4, 5, 3, 5, 5, 5, 5, 4, 5, 4, 5, 5, 5, 5, 5, 4, 5, 4, 5, 5, 1, 4, 4, 5, 4, 5, 5, 5, 5, 3, 5, 5, 2, 4, 5, 5, 4, 5, 3, 5, 4, 2, 5, 5, 4, 5, 5, 5, 5, 4, 4, 4, 5, 4, 5, 5, 5, 4, 5, 5, 5, 5, 5, 5, 4, 4, 5, 4, 3, 5, 5, 5, 5, 5, 5, 4, 3, 4, 5, 5, 5, 5, 5, 5, 5, 5, 4, 5, 5, 5, 5, 5, 5, 4, 5, 5, 3, 4, 4, 5, 5, 1, 5, 5, 5, 5, 5, 3, 5, 5, 4, 5, 5, 4, 4, 5, 3, 5, 5, 4, 4, 5, 4, 5, 3, 3, 5, 5, 5, 5, 5, 5, 5, 5, 4, 5, 4, 4, 4, 3, 5, 3, 5, 5, 5, 5, 5, 5, 5, 5, 4, 5, 4, 5, 4, 4, 3, 5, 4, 4, 4, 5, 5, 5, 4, 4, 5, 4, 4, 5, 3, 5, 5, 5, 5, 4, 5, 1, 5, 4, 5, 5, 5, 5, 5, 4, 4, 5, 5, 5, 4, 5, 4, 5, 4, 4, 5, 1, 5, 2, 5, 5, 5, 5, 4, 5, 5, 5, 5, 4, 4, 5, 2, 5, 4, 5, 5, 5, 5, 4, 5, 5, 5, 5, 3, 4, 5, 5, 5, 5, 5, 5, 5, 4, 4, 5, 5, 5, 5, 5, 4, 3, 5, 5, 5, 5, 4, 5, 5, 5, 5, 3, 5, 4, 3, 5, 5, 4, 4, 4, 5, 5, 3, 4, 5, 5, 5, 5, 5, 5, 4, 5, 4, 4, 3, 5, 3, 3, 4, 4, 5, 5, 5, 4, 3, 4, 5, 5, 5, 5, 5, 5, 5, 5, 4, 3, 5, 5, 5, 5, 4, 4, 4, 5, 5, 5, 5, 4, 3, 5, 5, 3, 4, 5, 5, 5, 4, 5, 4, 5, 4, 5, 3, 4, 4, 4, 5, 5, 4, 5, 5, 5, 5, 5, 5, 4, 5, 4, 5, 4, 5, 5, 4, 4, 5, 3, 4, 5, 5, 5, 4, 5, 3, 5, 5, 2, 4, 5, 5, 5, 5, 4, 2, 5, 5, 4, 5, 5, 5, 4, 4, 5, 5, 3, 4, 5, 4, 5, 3, 3, 3, 5, 4, 4, 4, 5, 5, 5, 5, 5, 2, 5, 5, 2, 5, 5, 5, 4, 4, 5, 5, 4, 5, 5, 4, 5, 4, 5, 5, 4, 4, 5, 5, 5, 5, 5, 4, 4, 4, 4, 5, 5, 3, 5, 5, 4, 3, 4, 5, 5, 5, 4, 5, 5, 5, 5, 1, 4, 4, 5, 5, 5, 5, 5, 5, 5, 5, 5, 4, 5, 5, 5, 5, 5, 4, 5, 5, 5, 5, 5, 3, 4, 4, 5, 4, 3, 5, 5, 5, 5, 5, 2, 5, 5, 5, 5, 1, 5, 1, 5, 4, 4, 3, 5, 4, 5, 5, 4, 5, 5, 4, 5, 5, 5, 5, 3, 4, 4, 3, 5, 5, 5, 3, 4, 3, 4, 5, 5, 5, 5, 5, 4, 4, 3, 2, 5, 5, 5, 5, 5, 5, 3, 4, 5, 4, 5, 5, 5, 5, 5, 5, 5, 4, 5, 4, 5, 5, 3, 5, 5, 3, 5, 5, 4, 5, 4, 5, 4, 5, 5, 3, 5, 5, 5, 5, 4, 5, 5, 4, 3, 5, 5, 5, 4, 5, 3, 5, 5, 5, 4, 4, 5, 5, 5, 3, 5, 4, 5, 5, 5, 4, 5, 5, 4, 5, 4, 5, 4, 3, 5, 3, 5, 4, 5, 5, 3, 5, 5, 5, 4, 3, 5, 5, 4, 5, 5, 3, 4, 4, 5, 5, 5, 5, 4, 3, 5, 5, 3, 5, 5, 4, 5, 5, 4, 4, 5, 5, 5, 5, 4, 5, 5, 4, 3, 4, 2, 5, 5, 5, 3, 5, 5, 4, 5, 5, 5, 4, 1, 3, 4, 4, 5, 5, 4, 3, 5, 4, 5, 5, 5, 4, 5, 5, 5, 5, 5, 4, 5, 3, 4, 5, 5, 3, 5, 5, 5, 4, 5, 5, 5, 5, 5, 4, 3, 5, 4, 5, 5, 5, 5, 5, 4, 4, 4, 5, 5, 5, 5, 5, 5, 5, 4, 4, 4, 3, 4, 2, 4, 5, 5, 5, 4, 5, 5, 5, 3, 3, 4, 4, 4, 5, 5, 5, 5, 5, 5, 4, 4, 4, 5, 5, 3, 4, 4, 5, 5, 5, 4, 4, 3, 4, 4, 4, 1, 4, 5, 4, 5, 4, 5, 5, 4, 5, 5, 5, 2, 5, 5, 4, 3, 3, 5, 5, 5, 5, 5, 5, 1, 3, 5, 3, 4, 5, 5, 5, 5, 5, 5, 5, 5, 4, 5, 4, 3, 5, 4, 4, 4, 3, 4, 5, 3, 5, 5, 5, 5, 5, 5, 5, 5, 5, 5, 5, 4, 5, 5, 5, 4, 5, 5, 4, 4, 4, 5, 5, 4, 5, 5, 5, 5, 4, 4, 5, 5, 5, 4, 4, 5, 5, 1, 5, 5, 5, 5, 5, 3, 3, 5, 5, 5, 5, 5, 5, 5, 5, 4, 4, 5, 5, 4, 3, 5, 5, 5, 4, 2, 4, 5, 5, 4, 3, 4, 5, 4, 5, 5, 2, 5, 4, 4, 5, 5, 5, 4, 5, 5, 5, 5, 3, 4, 4, 5, 5, 4, 5, 4, 5, 4, 5, 5, 4, 4, 4, 5, 4, 5, 5, 5, 4, 5, 5, 5, 5, 4, 5, 5, 5, 4, 5, 4, 5, 5, 5, 5, 4, 5, 4, 3, 5, 5, 5, 5, 5, 5, 5, 5, 5, 5, 5, 5, 5, 5, 5, 5, 4, 4, 5, 5, 3, 5, 5, 5, 5, 4, 4, 5, 4, 5, 5, 5, 5, 5, 4, 4, 5, 1, 5, 5, 3, 5, 5, 4, 4, 5, 4, 4, 4, 4, 3, 5, 4, 5, 3, 2, 3, 2, 4, 4, 5, 4, 5, 5, 5, 4, 4, 4, 5, 5, 4, 5, 3, 5, 4, 5, 4, 4, 4, 5, 5, 4, 2, 5, 4, 5, 5, 5, 5, 5, 5, 5, 5, 5, 5, 5, 5, 5, 1, 1, 5, 5, 3, 2, 5, 4, 5, 3, 5, 5, 5, 5, 5, 5, 5, 5, 5, 5, 5, 5, 3, 5, 5, 4, 4, 5, 5, 5, 2, 5, 5, 5, 5, 5, 3, 5, 3, 5, 4, 4, 5, 4, 4, 5, 3, 5, 3, 3, 5, 5, 5, 5, 4, 4, 5, 5, 5, 5, 4, 5, 5, 5, 3, 3, 4, 5, 5, 5, 5, 5, 5, 5, 5, 5, 5, 4, 4, 5, 5, 5, 5, 4, 5, 5, 5, 4, 5, 5, 5, 5, 4, 5, 2, 4, 5, 4, 3, 5, 5, 5, 4, 5, 4, 5, 4, 5, 5, 4, 5, 5, 5, 5, 5, 5, 5, 4, 5, 5, 4, 4, 4, 5, 4, 4, 5, 4, 5, 5, 5, 3, 5, 5, 5, 5, 5, 3, 5, 3, 5, 5, 4, 4, 5, 5, 4, 5, 5, 4, 4, 3, 5, 5, 5, 5, 4, 4, 4, 5, 4, 5, 5, 5, 4, 5, 5, 4, 5, 3, 5, 4, 5, 5, 5, 3, 5, 5, 5, 5, 4, 5, 4, 4, 3, 5, 4, 5, 5, 3, 5, 5, 5, 3, 5, 3, 5, 4, 5, 3, 4, 5, 5, 5, 5, 3, 5, 3, 5, 1, 5, 5, 5, 5, 5, 5, 1, 5, 4, 5, 4, 5, 5, 4, 4, 4, 4, 5, 5, 5, 4, 5, 5, 5, 5, 5, 5, 5, 3, 5, 4, 5, 5, 5, 4, 3, 5, 4, 5, 5, 5, 4, 4, 4, 3, 5, 5, 5, 5, 5, 5, 4, 5, 5, 4, 4, 4, 5, 5, 4, 4, 5, 5, 5, 5, 5, 4, 5, 5, 5, 5, 5, 5, 4, 5, 5, 4, 3, 5, 5, 5, 4, 5, 5, 3, 5, 4, 3, 5, 4, 5, 5, 5, 5, 5, 5, 5, 3, 5, 5, 4, 5, 5, 5, 3, 5, 5, 5, 4, 4, 5, 3, 3, 5, 5, 5, 5, 5, 4, 5, 5, 5, 5, 5, 5, 5, 4, 5, 4, 1, 5, 5, 5, 5, 5, 5, 4, 5, 5, 4, 5, 5, 3, 5, 5, 3, 4, 3, 4, 2, 4, 4, 4, 3, 5, 2, 5, 4, 4, 5, 5, 2, 5, 5, 5, 5, 5, 5, 4, 5, 5, 5, 5, 5, 4, 5, 3, 5, 4, 4, 5, 5, 5, 5, 4, 5, 1, 4, 5, 5, 5, 5, 4, 4, 5, 4, 5, 4, 4, 5, 4, 4, 4, 4, 1, 3, 5, 3, 5, 4, 5, 4, 3, 3, 4, 5, 1, 3, 5, 4, 5, 5, 5, 5, 5, 3, 1, 5, 4, 4, 3, 5, 4, 5, 4, 4, 5, 5, 5, 5, 4, 4, 4, 3, 5, 5, 4, 2, 4, 4, 1, 4, 4, 5, 5, 5, 5, 4, 3, 3, 5, 4, 4, 5, 5, 2, 5, 5, 5, 5, 4, 1, 3, 5, 3, 5, 3, 5, 5, 4, 5, 4, 5, 5, 5, 4, 5, 3, 5, 1, 5, 5, 5, 5, 5, 5, 4, 5, 4, 5, 5, 5, 4, 5, 3, 4, 4, 4, 4, 5, 5, 5, 4, 5, 5, 5, 5, 2, 5, 5, 5, 4, 5, 5, 3, 2, 4, 4, 5, 3, 4, 5, 3, 3, 4, 5, 5, 5, 5, 5, 5, 4, 4, 5, 5, 5, 2, 3, 5, 4, 5, 4, 3, 5, 3, 4, 5, 5, 5, 5, 5, 4, 3, 4, 5, 4, 2, 4, 5, 5, 5, 5, 4, 4, 5, 3, 5, 5, 4, 5, 5, 5, 5, 5, 3, 5, 1, 5, 1, 5, 5, 5, 5, 5, 5, 5, 4, 5, 5, 5, 5, 5, 5, 5, 4, 2, 5, 5, 5, 5, 4, 4, 5, 3, 5, 2, 5, 5, 4, 5, 4, 5, 5, 3, 4, 4, 5, 4, 5, 5, 3, 5, 3, 5, 3, 4, 4, 4, 4, 4, 5, 5, 5, 4, 3, 5, 5, 3, 5, 5, 5, 5, 4, 4, 4, 5, 5, 4, 4, 5, 5, 5, 5, 5, 5, 2, 5, 5, 5, 4, 4, 5, 5, 4, 3, 4, 5, 5, 4, 5, 5, 5, 5, 5, 5, 5, 3, 5, 5, 4, 5, 4, 5, 5, 4, 5, 4, 5, 4, 5, 5, 5, 5, 5, 4, 5, 5, 5, 5, 4, 5, 5, 5, 5, 5, 5, 5, 5, 4, 5, 1, 5, 5, 4, 5, 5, 5, 5, 3, 5, 5, 4, 5, 3, 5, 5, 4, 5, 5, 5, 4, 4, 3, 5, 5, 5, 5, 3, 4, 5, 4, 5, 5, 4, 5, 5, 5, 4, 3, 5, 4, 5, 5, 5, 4, 5, 5, 5, 3, 5, 4, 4, 5, 2, 5, 5, 5, 5, 5, 5, 4, 5, 5, 5, 5, 5, 5, 4, 4, 2, 4, 4, 5, 5, 5, 5, 1, 5, 5, 2, 4, 5, 5, 5, 5, 4, 3, 5, 5, 4, 5, 1, 1, 5, 4, 5, 4, 5, 5, 4, 5, 5, 5, 4, 5, 5, 5, 5, 5, 5, 5, 4, 5, 2, 5, 5, 3, 5, 5, 5, 5, 5, 5, 5, 5, 5, 4, 5, 5, 5, 4, 4, 5, 4, 5, 3, 5, 5, 5, 5, 5, 5, 5, 5, 5, 5, 2, 2, 5, 5, 5, 3, 5, 5, 3, 5, 5, 4, 1, 4, 5, 5, 4, 5, 5, 5, 5, 4, 3, 5, 5, 5, 1, 5, 5, 5, 5, 5, 4, 4, 5, 4, 5, 5, 5, 2, 4, 5, 5, 5, 3, 5, 5, 4, 4, 5, 5, 5, 5, 5, 4, 5, 5, 5, 3, 5, 3, 5, 5, 4, 5, 3, 5, 4, 4, 5, 5, 5, 5, 5, 5, 4, 4, 4, 5, 4, 5, 5, 5, 5, 5, 5, 2, 5, 5, 5, 5, 4, 5, 5, 5, 5, 5, 5, 5, 5, 5, 5, 5, 5, 3, 4, 5, 5, 5, 5, 5, 4, 4, 5, 4, 4, 5, 5, 5, 5, 3]\n",
            "4000\n"
          ]
        }
      ],
      "source": [
        "result_rating_train=[]\n",
        "\n",
        "for i in range(len(primeros_datos_train)):\n",
        "  rating_train= primeros_datos_train[i]['rating']\n",
        "  result_rating_train.append(rating_train)\n",
        "\n",
        "print(result_rating_train)\n",
        "print(len(result_rating_train))\n"
      ]
    },
    {
      "cell_type": "code",
      "execution_count": 13,
      "metadata": {
        "colab": {
          "base_uri": "https://localhost:8080/"
        },
        "id": "4iumFgnmj8se",
        "outputId": "29ceecec-5b62-4ec5-86b8-049dfce556c2"
      },
      "outputs": [
        {
          "output_type": "stream",
          "name": "stdout",
          "text": [
            "Chicken and waffles were really good!\n",
            "4000\n"
          ]
        }
      ],
      "source": [
        "result_review_text_train=[]\n",
        "\n",
        "for i in range(len(primeros_datos_train)):\n",
        "  review_text_train= primeros_datos_train[i]['review_text']\n",
        "  result_review_text_train.append(review_text_train)\n",
        "\n",
        "print(result_review_text_train[1])\n",
        "print(len(result_review_text_train))"
      ]
    },
    {
      "cell_type": "code",
      "execution_count": 14,
      "metadata": {
        "id": "qaYY_bru-NFd"
      },
      "outputs": [],
      "source": [
        "reviews_text_train = []\n",
        "rating_train = []\n",
        "\n",
        "\n",
        "df_train = pd.DataFrame({\n",
        "    'review': result_review_text_train,\n",
        "    'rating': result_rating_train\n",
        "})\n",
        "\n",
        "df_train.reset_index(drop=True, inplace=True)"
      ]
    },
    {
      "cell_type": "code",
      "execution_count": 15,
      "metadata": {
        "colab": {
          "base_uri": "https://localhost:8080/",
          "height": 206
        },
        "id": "0gOA15iTn5CC",
        "outputId": "3a27b699-b72b-48fa-dfa0-ec260152d59a"
      },
      "outputs": [
        {
          "output_type": "execute_result",
          "data": {
            "text/plain": [
              "                                              review  rating\n",
              "0  The tang of the tomato sauce is outstanding. A...       4\n",
              "1              Chicken and waffles were really good!       5\n",
              "2  The appetizer of colossal shrimp was very good...       4\n",
              "3  The fish tacos here  omg! The salad was great ...       5\n",
              "4  Ribs are great, as are the mac and cheese, fri...       4"
            ],
            "text/html": [
              "\n",
              "  <div id=\"df-3aa6d5f9-397e-420b-8a4d-75a9826b9b23\">\n",
              "    <div class=\"colab-df-container\">\n",
              "      <div>\n",
              "<style scoped>\n",
              "    .dataframe tbody tr th:only-of-type {\n",
              "        vertical-align: middle;\n",
              "    }\n",
              "\n",
              "    .dataframe tbody tr th {\n",
              "        vertical-align: top;\n",
              "    }\n",
              "\n",
              "    .dataframe thead th {\n",
              "        text-align: right;\n",
              "    }\n",
              "</style>\n",
              "<table border=\"1\" class=\"dataframe\">\n",
              "  <thead>\n",
              "    <tr style=\"text-align: right;\">\n",
              "      <th></th>\n",
              "      <th>review</th>\n",
              "      <th>rating</th>\n",
              "    </tr>\n",
              "  </thead>\n",
              "  <tbody>\n",
              "    <tr>\n",
              "      <th>0</th>\n",
              "      <td>The tang of the tomato sauce is outstanding. A...</td>\n",
              "      <td>4</td>\n",
              "    </tr>\n",
              "    <tr>\n",
              "      <th>1</th>\n",
              "      <td>Chicken and waffles were really good!</td>\n",
              "      <td>5</td>\n",
              "    </tr>\n",
              "    <tr>\n",
              "      <th>2</th>\n",
              "      <td>The appetizer of colossal shrimp was very good...</td>\n",
              "      <td>4</td>\n",
              "    </tr>\n",
              "    <tr>\n",
              "      <th>3</th>\n",
              "      <td>The fish tacos here  omg! The salad was great ...</td>\n",
              "      <td>5</td>\n",
              "    </tr>\n",
              "    <tr>\n",
              "      <th>4</th>\n",
              "      <td>Ribs are great, as are the mac and cheese, fri...</td>\n",
              "      <td>4</td>\n",
              "    </tr>\n",
              "  </tbody>\n",
              "</table>\n",
              "</div>\n",
              "      <button class=\"colab-df-convert\" onclick=\"convertToInteractive('df-3aa6d5f9-397e-420b-8a4d-75a9826b9b23')\"\n",
              "              title=\"Convert this dataframe to an interactive table.\"\n",
              "              style=\"display:none;\">\n",
              "        \n",
              "  <svg xmlns=\"http://www.w3.org/2000/svg\" height=\"24px\"viewBox=\"0 0 24 24\"\n",
              "       width=\"24px\">\n",
              "    <path d=\"M0 0h24v24H0V0z\" fill=\"none\"/>\n",
              "    <path d=\"M18.56 5.44l.94 2.06.94-2.06 2.06-.94-2.06-.94-.94-2.06-.94 2.06-2.06.94zm-11 1L8.5 8.5l.94-2.06 2.06-.94-2.06-.94L8.5 2.5l-.94 2.06-2.06.94zm10 10l.94 2.06.94-2.06 2.06-.94-2.06-.94-.94-2.06-.94 2.06-2.06.94z\"/><path d=\"M17.41 7.96l-1.37-1.37c-.4-.4-.92-.59-1.43-.59-.52 0-1.04.2-1.43.59L10.3 9.45l-7.72 7.72c-.78.78-.78 2.05 0 2.83L4 21.41c.39.39.9.59 1.41.59.51 0 1.02-.2 1.41-.59l7.78-7.78 2.81-2.81c.8-.78.8-2.07 0-2.86zM5.41 20L4 18.59l7.72-7.72 1.47 1.35L5.41 20z\"/>\n",
              "  </svg>\n",
              "      </button>\n",
              "      \n",
              "  <style>\n",
              "    .colab-df-container {\n",
              "      display:flex;\n",
              "      flex-wrap:wrap;\n",
              "      gap: 12px;\n",
              "    }\n",
              "\n",
              "    .colab-df-convert {\n",
              "      background-color: #E8F0FE;\n",
              "      border: none;\n",
              "      border-radius: 50%;\n",
              "      cursor: pointer;\n",
              "      display: none;\n",
              "      fill: #1967D2;\n",
              "      height: 32px;\n",
              "      padding: 0 0 0 0;\n",
              "      width: 32px;\n",
              "    }\n",
              "\n",
              "    .colab-df-convert:hover {\n",
              "      background-color: #E2EBFA;\n",
              "      box-shadow: 0px 1px 2px rgba(60, 64, 67, 0.3), 0px 1px 3px 1px rgba(60, 64, 67, 0.15);\n",
              "      fill: #174EA6;\n",
              "    }\n",
              "\n",
              "    [theme=dark] .colab-df-convert {\n",
              "      background-color: #3B4455;\n",
              "      fill: #D2E3FC;\n",
              "    }\n",
              "\n",
              "    [theme=dark] .colab-df-convert:hover {\n",
              "      background-color: #434B5C;\n",
              "      box-shadow: 0px 1px 3px 1px rgba(0, 0, 0, 0.15);\n",
              "      filter: drop-shadow(0px 1px 2px rgba(0, 0, 0, 0.3));\n",
              "      fill: #FFFFFF;\n",
              "    }\n",
              "  </style>\n",
              "\n",
              "      <script>\n",
              "        const buttonEl =\n",
              "          document.querySelector('#df-3aa6d5f9-397e-420b-8a4d-75a9826b9b23 button.colab-df-convert');\n",
              "        buttonEl.style.display =\n",
              "          google.colab.kernel.accessAllowed ? 'block' : 'none';\n",
              "\n",
              "        async function convertToInteractive(key) {\n",
              "          const element = document.querySelector('#df-3aa6d5f9-397e-420b-8a4d-75a9826b9b23');\n",
              "          const dataTable =\n",
              "            await google.colab.kernel.invokeFunction('convertToInteractive',\n",
              "                                                     [key], {});\n",
              "          if (!dataTable) return;\n",
              "\n",
              "          const docLinkHtml = 'Like what you see? Visit the ' +\n",
              "            '<a target=\"_blank\" href=https://colab.research.google.com/notebooks/data_table.ipynb>data table notebook</a>'\n",
              "            + ' to learn more about interactive tables.';\n",
              "          element.innerHTML = '';\n",
              "          dataTable['output_type'] = 'display_data';\n",
              "          await google.colab.output.renderOutput(dataTable, element);\n",
              "          const docLink = document.createElement('div');\n",
              "          docLink.innerHTML = docLinkHtml;\n",
              "          element.appendChild(docLink);\n",
              "        }\n",
              "      </script>\n",
              "    </div>\n",
              "  </div>\n",
              "  "
            ]
          },
          "metadata": {},
          "execution_count": 15
        }
      ],
      "source": [
        "df_train.head()"
      ]
    },
    {
      "cell_type": "code",
      "execution_count": 16,
      "metadata": {
        "colab": {
          "base_uri": "https://localhost:8080/"
        },
        "id": "yfTipLjjyxij",
        "outputId": "39aeec2c-f72c-494e-b86c-26adc1a9aa3d"
      },
      "outputs": [
        {
          "output_type": "stream",
          "name": "stdout",
          "text": [
            "6955\n"
          ]
        }
      ],
      "source": [
        "#Jutamos abmos datasframes\n",
        "\n",
        "\n",
        "df_train = pd.concat([df_train, df_train_negativo])\n",
        "df_train.head()\n",
        "#df_train.iloc[2]['rating']\n",
        "print(len(df_train))"
      ]
    },
    {
      "cell_type": "code",
      "execution_count": 17,
      "metadata": {
        "colab": {
          "base_uri": "https://localhost:8080/"
        },
        "id": "EH-Kx3S31QTd",
        "outputId": "2bbaf0c6-7da6-48a1-e8a4-55e8c47df5eb"
      },
      "outputs": [
        {
          "output_type": "stream",
          "name": "stdout",
          "text": [
            "                                              review  rating\n",
            "0  This was my first time having sushi and I defi...       5\n",
            "1         I tried the spicy 'Nashville Hot Chicken'.       5\n",
            "2  I had some of biggest chicken tamales I've eve...       5\n",
            "3  First let me say, this isn't your Grandpas don...       5\n",
            "4  We got the New York strip with mashed potatoes...       4\n",
            "1115\n"
          ]
        }
      ],
      "source": [
        "#Hago lo mismo con los datos de test\n",
        "result_rating_test=[]\n",
        "\n",
        "for i in range(len(primeros_datos_test)):\n",
        "  rating_test= primeros_datos_test[i]['rating']\n",
        "  result_rating_test.append(rating_test)\n",
        "\n",
        "result_review_text_test=[]\n",
        "\n",
        "for i in range(len(primeros_datos_test)):\n",
        "  review_text_test= primeros_datos_test[i]['review_text']\n",
        "  result_review_text_test.append(review_text_test)\n",
        "\n",
        "\n",
        "df_test = pd.DataFrame({\n",
        "    'review': result_review_text_test,\n",
        "    'rating': result_rating_test\n",
        "})\n",
        "\n",
        "#Jutamos abmos datasframes de test negativos con el resto\n",
        "\n",
        "\n",
        "df_test = pd.concat([df_test, df_test_negativo])\n",
        "print(df_test.head())\n",
        "#df_train.iloc[2]['rating']\n",
        "print(len(df_test))"
      ]
    },
    {
      "cell_type": "code",
      "execution_count": 18,
      "metadata": {
        "colab": {
          "base_uri": "https://localhost:8080/"
        },
        "id": "4H4anSIRLOPn",
        "outputId": "922efa68-d647-4ce7-e0a6-e1dbb75dd8a9"
      },
      "outputs": [
        {
          "output_type": "stream",
          "name": "stdout",
          "text": [
            "Mounted at /content/drive\n"
          ]
        }
      ],
      "source": [
        "from google.colab import drive\n",
        "drive.mount('/content/drive')"
      ]
    },
    {
      "cell_type": "code",
      "execution_count": 19,
      "metadata": {
        "id": "ncAYvGNLMM-s"
      },
      "outputs": [],
      "source": [
        "#guardamos en un nuevo fichero con nuestros datos\n",
        "df_train.to_csv('/content/drive/MyDrive/Practica_NLP_Belisa/datos_train.csv', index=False)\n",
        "df_test.to_csv('/content/drive/MyDrive/Practica_NLP_Belisa/datos_test.csv', index=False)"
      ]
    },
    {
      "cell_type": "code",
      "execution_count": 20,
      "metadata": {
        "colab": {
          "base_uri": "https://localhost:8080/"
        },
        "id": "c-icFkLkiFIo",
        "outputId": "4498dbaf-7a85-434c-9676-b42c27605a7e"
      },
      "outputs": [
        {
          "output_type": "execute_result",
          "data": {
            "text/plain": [
              "6955"
            ]
          },
          "metadata": {},
          "execution_count": 20
        }
      ],
      "source": [
        "df_train = pd.read_csv('/content/drive/MyDrive/Practica_NLP_Belisa/datos_train.csv')\n",
        "#df_train = pd.read_csv('datos_train.csv')\n",
        "df_train.head()\n",
        "len(df_train)\n"
      ]
    },
    {
      "cell_type": "code",
      "execution_count": 21,
      "metadata": {
        "colab": {
          "base_uri": "https://localhost:8080/"
        },
        "id": "Hl59hslbLQuM",
        "outputId": "2287e55a-d823-4403-ac62-e7347ad874c6"
      },
      "outputs": [
        {
          "output_type": "execute_result",
          "data": {
            "text/plain": [
              "1115"
            ]
          },
          "metadata": {},
          "execution_count": 21
        }
      ],
      "source": [
        "df_test = pd.read_csv('/content/drive/MyDrive/Practica_NLP_Belisa/datos_test.csv')\n",
        "df_test.head()\n",
        "len(df_test)"
      ]
    },
    {
      "cell_type": "code",
      "execution_count": 22,
      "metadata": {
        "colab": {
          "base_uri": "https://localhost:8080/"
        },
        "id": "Alws8Qdon-ka",
        "outputId": "9703fd38-2de7-482e-99d8-de612d3b1933"
      },
      "outputs": [
        {
          "output_type": "stream",
          "name": "stdout",
          "text": [
            "los datos negativos de train son:  3097\n",
            "Total de datos de train 6955\n"
          ]
        }
      ],
      "source": [
        "cont=0\n",
        "for i in range (len(df_train)):\n",
        "  if df_train.iloc[i]['rating']<3:\n",
        "    cont+=1\n",
        "\n",
        "print(\"los datos negativos de train son: \",cont)\n",
        "print(\"Total de datos de train\",len(df_train))\n",
        "\n"
      ]
    },
    {
      "cell_type": "code",
      "execution_count": 23,
      "metadata": {
        "colab": {
          "base_uri": "https://localhost:8080/"
        },
        "id": "2JrqgTAJALFV",
        "outputId": "f5c18054-83c6-4723-cb14-134c41ad7a6d"
      },
      "outputs": [
        {
          "output_type": "stream",
          "name": "stdout",
          "text": [
            "los datos negativos de test son:  390\n",
            "Total de datos de test 1115\n"
          ]
        }
      ],
      "source": [
        "cont=0\n",
        "for i in range (len(df_test)):\n",
        "  if df_test.iloc[i]['rating']<3:\n",
        "    cont+=1\n",
        "\n",
        "print(\"los datos negativos de test son: \",cont)\n",
        "print(\"Total de datos de test\",len(df_test))"
      ]
    },
    {
      "cell_type": "code",
      "execution_count": 24,
      "metadata": {
        "id": "ZHiNAgu-vP03"
      },
      "outputs": [],
      "source": [
        "def label_rating(row):\n",
        "    if int(row['rating']) < 3:\n",
        "        return 0\n",
        "    else:\n",
        "        return 1\n",
        "\n",
        "\n",
        "\n"
      ]
    },
    {
      "cell_type": "code",
      "execution_count": 25,
      "metadata": {
        "id": "vj1aAYC6AaVt"
      },
      "outputs": [],
      "source": [
        "df_train['rating_label'] = df_train.apply(lambda row: label_rating(row), axis=1)"
      ]
    },
    {
      "cell_type": "code",
      "execution_count": 26,
      "metadata": {
        "colab": {
          "base_uri": "https://localhost:8080/",
          "height": 206
        },
        "id": "MdEl2zdJAziB",
        "outputId": "a7887f67-a145-42e1-9878-a106b4faded5"
      },
      "outputs": [
        {
          "output_type": "execute_result",
          "data": {
            "text/plain": [
              "                                                review  rating  rating_label\n",
              "48   The BLT bloody mary was cute, but it was by fa...       2             0\n",
              "67   *Update: Respose to Owner*. . I appreciate you...       2             0\n",
              "110    The meat is too chewy. Salad vegetables crispy.       2             0\n",
              "173  Spaghetti noodles aren't ripe and I eat pasta ...       2             0\n",
              "275  My fries were very greasy to the point that no...       2             0"
            ],
            "text/html": [
              "\n",
              "  <div id=\"df-983b6e70-b3a6-444e-88f8-7236f879726b\">\n",
              "    <div class=\"colab-df-container\">\n",
              "      <div>\n",
              "<style scoped>\n",
              "    .dataframe tbody tr th:only-of-type {\n",
              "        vertical-align: middle;\n",
              "    }\n",
              "\n",
              "    .dataframe tbody tr th {\n",
              "        vertical-align: top;\n",
              "    }\n",
              "\n",
              "    .dataframe thead th {\n",
              "        text-align: right;\n",
              "    }\n",
              "</style>\n",
              "<table border=\"1\" class=\"dataframe\">\n",
              "  <thead>\n",
              "    <tr style=\"text-align: right;\">\n",
              "      <th></th>\n",
              "      <th>review</th>\n",
              "      <th>rating</th>\n",
              "      <th>rating_label</th>\n",
              "    </tr>\n",
              "  </thead>\n",
              "  <tbody>\n",
              "    <tr>\n",
              "      <th>48</th>\n",
              "      <td>The BLT bloody mary was cute, but it was by fa...</td>\n",
              "      <td>2</td>\n",
              "      <td>0</td>\n",
              "    </tr>\n",
              "    <tr>\n",
              "      <th>67</th>\n",
              "      <td>*Update: Respose to Owner*. . I appreciate you...</td>\n",
              "      <td>2</td>\n",
              "      <td>0</td>\n",
              "    </tr>\n",
              "    <tr>\n",
              "      <th>110</th>\n",
              "      <td>The meat is too chewy. Salad vegetables crispy.</td>\n",
              "      <td>2</td>\n",
              "      <td>0</td>\n",
              "    </tr>\n",
              "    <tr>\n",
              "      <th>173</th>\n",
              "      <td>Spaghetti noodles aren't ripe and I eat pasta ...</td>\n",
              "      <td>2</td>\n",
              "      <td>0</td>\n",
              "    </tr>\n",
              "    <tr>\n",
              "      <th>275</th>\n",
              "      <td>My fries were very greasy to the point that no...</td>\n",
              "      <td>2</td>\n",
              "      <td>0</td>\n",
              "    </tr>\n",
              "  </tbody>\n",
              "</table>\n",
              "</div>\n",
              "      <button class=\"colab-df-convert\" onclick=\"convertToInteractive('df-983b6e70-b3a6-444e-88f8-7236f879726b')\"\n",
              "              title=\"Convert this dataframe to an interactive table.\"\n",
              "              style=\"display:none;\">\n",
              "        \n",
              "  <svg xmlns=\"http://www.w3.org/2000/svg\" height=\"24px\"viewBox=\"0 0 24 24\"\n",
              "       width=\"24px\">\n",
              "    <path d=\"M0 0h24v24H0V0z\" fill=\"none\"/>\n",
              "    <path d=\"M18.56 5.44l.94 2.06.94-2.06 2.06-.94-2.06-.94-.94-2.06-.94 2.06-2.06.94zm-11 1L8.5 8.5l.94-2.06 2.06-.94-2.06-.94L8.5 2.5l-.94 2.06-2.06.94zm10 10l.94 2.06.94-2.06 2.06-.94-2.06-.94-.94-2.06-.94 2.06-2.06.94z\"/><path d=\"M17.41 7.96l-1.37-1.37c-.4-.4-.92-.59-1.43-.59-.52 0-1.04.2-1.43.59L10.3 9.45l-7.72 7.72c-.78.78-.78 2.05 0 2.83L4 21.41c.39.39.9.59 1.41.59.51 0 1.02-.2 1.41-.59l7.78-7.78 2.81-2.81c.8-.78.8-2.07 0-2.86zM5.41 20L4 18.59l7.72-7.72 1.47 1.35L5.41 20z\"/>\n",
              "  </svg>\n",
              "      </button>\n",
              "      \n",
              "  <style>\n",
              "    .colab-df-container {\n",
              "      display:flex;\n",
              "      flex-wrap:wrap;\n",
              "      gap: 12px;\n",
              "    }\n",
              "\n",
              "    .colab-df-convert {\n",
              "      background-color: #E8F0FE;\n",
              "      border: none;\n",
              "      border-radius: 50%;\n",
              "      cursor: pointer;\n",
              "      display: none;\n",
              "      fill: #1967D2;\n",
              "      height: 32px;\n",
              "      padding: 0 0 0 0;\n",
              "      width: 32px;\n",
              "    }\n",
              "\n",
              "    .colab-df-convert:hover {\n",
              "      background-color: #E2EBFA;\n",
              "      box-shadow: 0px 1px 2px rgba(60, 64, 67, 0.3), 0px 1px 3px 1px rgba(60, 64, 67, 0.15);\n",
              "      fill: #174EA6;\n",
              "    }\n",
              "\n",
              "    [theme=dark] .colab-df-convert {\n",
              "      background-color: #3B4455;\n",
              "      fill: #D2E3FC;\n",
              "    }\n",
              "\n",
              "    [theme=dark] .colab-df-convert:hover {\n",
              "      background-color: #434B5C;\n",
              "      box-shadow: 0px 1px 3px 1px rgba(0, 0, 0, 0.15);\n",
              "      filter: drop-shadow(0px 1px 2px rgba(0, 0, 0, 0.3));\n",
              "      fill: #FFFFFF;\n",
              "    }\n",
              "  </style>\n",
              "\n",
              "      <script>\n",
              "        const buttonEl =\n",
              "          document.querySelector('#df-983b6e70-b3a6-444e-88f8-7236f879726b button.colab-df-convert');\n",
              "        buttonEl.style.display =\n",
              "          google.colab.kernel.accessAllowed ? 'block' : 'none';\n",
              "\n",
              "        async function convertToInteractive(key) {\n",
              "          const element = document.querySelector('#df-983b6e70-b3a6-444e-88f8-7236f879726b');\n",
              "          const dataTable =\n",
              "            await google.colab.kernel.invokeFunction('convertToInteractive',\n",
              "                                                     [key], {});\n",
              "          if (!dataTable) return;\n",
              "\n",
              "          const docLinkHtml = 'Like what you see? Visit the ' +\n",
              "            '<a target=\"_blank\" href=https://colab.research.google.com/notebooks/data_table.ipynb>data table notebook</a>'\n",
              "            + ' to learn more about interactive tables.';\n",
              "          element.innerHTML = '';\n",
              "          dataTable['output_type'] = 'display_data';\n",
              "          await google.colab.output.renderOutput(dataTable, element);\n",
              "          const docLink = document.createElement('div');\n",
              "          docLink.innerHTML = docLinkHtml;\n",
              "          element.appendChild(docLink);\n",
              "        }\n",
              "      </script>\n",
              "    </div>\n",
              "  </div>\n",
              "  "
            ]
          },
          "metadata": {},
          "execution_count": 26
        }
      ],
      "source": [
        "df_train.head()\n",
        "vista=df_train[df_train[\"rating\"]==2]\n",
        "vista.head()"
      ]
    },
    {
      "cell_type": "code",
      "execution_count": 27,
      "metadata": {
        "colab": {
          "base_uri": "https://localhost:8080/",
          "height": 278
        },
        "id": "j6iFOS5iBEby",
        "outputId": "69a45738-13ad-4321-b872-76a85847eec4"
      },
      "outputs": [
        {
          "output_type": "display_data",
          "data": {
            "text/plain": [
              "<Figure size 576x288 with 1 Axes>"
            ],
            "image/png": "[encoded data removed]"
          },
          "metadata": {
            "needs_background": "light"
          }
        }
      ],
      "source": [
        "aux_df = pd.DataFrame(df_train['rating'].value_counts(sort=False).sort_index())\n",
        "aux_df = aux_df.plot(kind='bar', title='Overall sentiment distribution (review)--TRAIN', figsize=(8, 4))"
      ]
    },
    {
      "cell_type": "code",
      "execution_count": 28,
      "metadata": {
        "id": "JRADVEH0QLH7"
      },
      "outputs": [],
      "source": [
        "\n",
        "\n",
        "df_test.reset_index(drop=True, inplace=True)\n",
        "df_test['rating_label'] = df_test.apply(lambda row: label_rating(row), axis=1)\n",
        "\n",
        "\n"
      ]
    },
    {
      "cell_type": "code",
      "execution_count": 29,
      "metadata": {
        "colab": {
          "base_uri": "https://localhost:8080/",
          "height": 424
        },
        "id": "-hE7RTFNFoFn",
        "outputId": "b94f2c7e-fdd0-429d-cb1f-72ff2feb9db6"
      },
      "outputs": [
        {
          "output_type": "execute_result",
          "data": {
            "text/plain": [
              "                                                 review  rating  rating_label\n",
              "0     This was my first time having sushi and I defi...       5             1\n",
              "1            I tried the spicy 'Nashville Hot Chicken'.       5             1\n",
              "2     I had some of biggest chicken tamales I've eve...       5             1\n",
              "3     First let me say, this isn't your Grandpas don...       5             1\n",
              "4     We got the New York strip with mashed potatoes...       4             1\n",
              "...                                                 ...     ...           ...\n",
              "1110  Got the ribs and white chunk BBQ  chicken. Chi...       2             0\n",
              "1111          I could hardly find any Papdi in the dish       1             0\n",
              "1112  This pizza was good, but NOT anywhere near bei...       2             0\n",
              "1113  I ordered their sirloin burger and my date ord...       2             0\n",
              "1114  The place is known for quantity and not qualit...       2             0\n",
              "\n",
              "[1115 rows x 3 columns]"
            ],
            "text/html": [
              "\n",
              "  <div id=\"df-3815fefc-959d-4ec2-bbf9-74d9bed45757\">\n",
              "    <div class=\"colab-df-container\">\n",
              "      <div>\n",
              "<style scoped>\n",
              "    .dataframe tbody tr th:only-of-type {\n",
              "        vertical-align: middle;\n",
              "    }\n",
              "\n",
              "    .dataframe tbody tr th {\n",
              "        vertical-align: top;\n",
              "    }\n",
              "\n",
              "    .dataframe thead th {\n",
              "        text-align: right;\n",
              "    }\n",
              "</style>\n",
              "<table border=\"1\" class=\"dataframe\">\n",
              "  <thead>\n",
              "    <tr style=\"text-align: right;\">\n",
              "      <th></th>\n",
              "      <th>review</th>\n",
              "      <th>rating</th>\n",
              "      <th>rating_label</th>\n",
              "    </tr>\n",
              "  </thead>\n",
              "  <tbody>\n",
              "    <tr>\n",
              "      <th>0</th>\n",
              "      <td>This was my first time having sushi and I defi...</td>\n",
              "      <td>5</td>\n",
              "      <td>1</td>\n",
              "    </tr>\n",
              "    <tr>\n",
              "      <th>1</th>\n",
              "      <td>I tried the spicy 'Nashville Hot Chicken'.</td>\n",
              "      <td>5</td>\n",
              "      <td>1</td>\n",
              "    </tr>\n",
              "    <tr>\n",
              "      <th>2</th>\n",
              "      <td>I had some of biggest chicken tamales I've eve...</td>\n",
              "      <td>5</td>\n",
              "      <td>1</td>\n",
              "    </tr>\n",
              "    <tr>\n",
              "      <th>3</th>\n",
              "      <td>First let me say, this isn't your Grandpas don...</td>\n",
              "      <td>5</td>\n",
              "      <td>1</td>\n",
              "    </tr>\n",
              "    <tr>\n",
              "      <th>4</th>\n",
              "      <td>We got the New York strip with mashed potatoes...</td>\n",
              "      <td>4</td>\n",
              "      <td>1</td>\n",
              "    </tr>\n",
              "    <tr>\n",
              "      <th>...</th>\n",
              "      <td>...</td>\n",
              "      <td>...</td>\n",
              "      <td>...</td>\n",
              "    </tr>\n",
              "    <tr>\n",
              "      <th>1110</th>\n",
              "      <td>Got the ribs and white chunk BBQ  chicken. Chi...</td>\n",
              "      <td>2</td>\n",
              "      <td>0</td>\n",
              "    </tr>\n",
              "    <tr>\n",
              "      <th>1111</th>\n",
              "      <td>I could hardly find any Papdi in the dish</td>\n",
              "      <td>1</td>\n",
              "      <td>0</td>\n",
              "    </tr>\n",
              "    <tr>\n",
              "      <th>1112</th>\n",
              "      <td>This pizza was good, but NOT anywhere near bei...</td>\n",
              "      <td>2</td>\n",
              "      <td>0</td>\n",
              "    </tr>\n",
              "    <tr>\n",
              "      <th>1113</th>\n",
              "      <td>I ordered their sirloin burger and my date ord...</td>\n",
              "      <td>2</td>\n",
              "      <td>0</td>\n",
              "    </tr>\n",
              "    <tr>\n",
              "      <th>1114</th>\n",
              "      <td>The place is known for quantity and not qualit...</td>\n",
              "      <td>2</td>\n",
              "      <td>0</td>\n",
              "    </tr>\n",
              "  </tbody>\n",
              "</table>\n",
              "<p>1115 rows × 3 columns</p>\n",
              "</div>\n",
              "      <button class=\"colab-df-convert\" onclick=\"convertToInteractive('df-3815fefc-959d-4ec2-bbf9-74d9bed45757')\"\n",
              "              title=\"Convert this dataframe to an interactive table.\"\n",
              "              style=\"display:none;\">\n",
              "        \n",
              "  <svg xmlns=\"http://www.w3.org/2000/svg\" height=\"24px\"viewBox=\"0 0 24 24\"\n",
              "       width=\"24px\">\n",
              "    <path d=\"M0 0h24v24H0V0z\" fill=\"none\"/>\n",
              "    <path d=\"M18.56 5.44l.94 2.06.94-2.06 2.06-.94-2.06-.94-.94-2.06-.94 2.06-2.06.94zm-11 1L8.5 8.5l.94-2.06 2.06-.94-2.06-.94L8.5 2.5l-.94 2.06-2.06.94zm10 10l.94 2.06.94-2.06 2.06-.94-2.06-.94-.94-2.06-.94 2.06-2.06.94z\"/><path d=\"M17.41 7.96l-1.37-1.37c-.4-.4-.92-.59-1.43-.59-.52 0-1.04.2-1.43.59L10.3 9.45l-7.72 7.72c-.78.78-.78 2.05 0 2.83L4 21.41c.39.39.9.59 1.41.59.51 0 1.02-.2 1.41-.59l7.78-7.78 2.81-2.81c.8-.78.8-2.07 0-2.86zM5.41 20L4 18.59l7.72-7.72 1.47 1.35L5.41 20z\"/>\n",
              "  </svg>\n",
              "      </button>\n",
              "      \n",
              "  <style>\n",
              "    .colab-df-container {\n",
              "      display:flex;\n",
              "      flex-wrap:wrap;\n",
              "      gap: 12px;\n",
              "    }\n",
              "\n",
              "    .colab-df-convert {\n",
              "      background-color: #E8F0FE;\n",
              "      border: none;\n",
              "      border-radius: 50%;\n",
              "      cursor: pointer;\n",
              "      display: none;\n",
              "      fill: #1967D2;\n",
              "      height: 32px;\n",
              "      padding: 0 0 0 0;\n",
              "      width: 32px;\n",
              "    }\n",
              "\n",
              "    .colab-df-convert:hover {\n",
              "      background-color: #E2EBFA;\n",
              "      box-shadow: 0px 1px 2px rgba(60, 64, 67, 0.3), 0px 1px 3px 1px rgba(60, 64, 67, 0.15);\n",
              "      fill: #174EA6;\n",
              "    }\n",
              "\n",
              "    [theme=dark] .colab-df-convert {\n",
              "      background-color: #3B4455;\n",
              "      fill: #D2E3FC;\n",
              "    }\n",
              "\n",
              "    [theme=dark] .colab-df-convert:hover {\n",
              "      background-color: #434B5C;\n",
              "      box-shadow: 0px 1px 3px 1px rgba(0, 0, 0, 0.15);\n",
              "      filter: drop-shadow(0px 1px 2px rgba(0, 0, 0, 0.3));\n",
              "      fill: #FFFFFF;\n",
              "    }\n",
              "  </style>\n",
              "\n",
              "      <script>\n",
              "        const buttonEl =\n",
              "          document.querySelector('#df-3815fefc-959d-4ec2-bbf9-74d9bed45757 button.colab-df-convert');\n",
              "        buttonEl.style.display =\n",
              "          google.colab.kernel.accessAllowed ? 'block' : 'none';\n",
              "\n",
              "        async function convertToInteractive(key) {\n",
              "          const element = document.querySelector('#df-3815fefc-959d-4ec2-bbf9-74d9bed45757');\n",
              "          const dataTable =\n",
              "            await google.colab.kernel.invokeFunction('convertToInteractive',\n",
              "                                                     [key], {});\n",
              "          if (!dataTable) return;\n",
              "\n",
              "          const docLinkHtml = 'Like what you see? Visit the ' +\n",
              "            '<a target=\"_blank\" href=https://colab.research.google.com/notebooks/data_table.ipynb>data table notebook</a>'\n",
              "            + ' to learn more about interactive tables.';\n",
              "          element.innerHTML = '';\n",
              "          dataTable['output_type'] = 'display_data';\n",
              "          await google.colab.output.renderOutput(dataTable, element);\n",
              "          const docLink = document.createElement('div');\n",
              "          docLink.innerHTML = docLinkHtml;\n",
              "          element.appendChild(docLink);\n",
              "        }\n",
              "      </script>\n",
              "    </div>\n",
              "  </div>\n",
              "  "
            ]
          },
          "metadata": {},
          "execution_count": 29
        }
      ],
      "source": [
        "df_test"
      ]
    },
    {
      "cell_type": "code",
      "execution_count": 30,
      "metadata": {
        "colab": {
          "base_uri": "https://localhost:8080/",
          "height": 278
        },
        "id": "OEM8Hn6mGNKM",
        "outputId": "5481ef59-ed1e-4ce0-e91a-05f6c5745932"
      },
      "outputs": [
        {
          "output_type": "display_data",
          "data": {
            "text/plain": [
              "<Figure size 576x288 with 1 Axes>"
            ],
            "image/png": "[encoded data removed]"
          },
          "metadata": {
            "needs_background": "light"
          }
        }
      ],
      "source": [
        "aux_df = pd.DataFrame(df_test['rating'].value_counts(sort=False).sort_index())\n",
        "aux_df = aux_df.plot(kind='bar', title='Overall sentiment distribution (review)-TEST', figsize=(8, 4))\n"
      ]
    },
    {
      "cell_type": "code",
      "execution_count": 31,
      "metadata": {
        "colab": {
          "base_uri": "https://localhost:8080/",
          "height": 278
        },
        "id": "IR7a115Ky3Pr",
        "outputId": "161277e4-5de5-4fae-c3ca-b234b407c75b"
      },
      "outputs": [
        {
          "output_type": "display_data",
          "data": {
            "text/plain": [
              "<Figure size 864x288 with 2 Axes>"
            ],
            "image/png": "[encoded data removed]"
          },
          "metadata": {
            "needs_background": "light"
          }
        }
      ],
      "source": [
        "# Grafica Test\n",
        "aux_df = pd.DataFrame(df_test['rating_label'].value_counts(sort=False).sort_index())\n",
        "fig, axs = plt.subplots(1, 2, figsize=(12, 4))\n",
        "aux_df.plot(kind='bar', title='Sentiment distribution -- Test --', ax=axs[0])\n",
        "\n",
        "# Grafica Train\n",
        "aux_df = pd.DataFrame(df_train['rating_label'].value_counts(sort=False).sort_index())\n",
        "aux_df.plot(kind='bar', title='Sentiment distribution -- Train --', ax=axs[1])\n",
        "\n",
        "\n",
        "plt.show()"
      ]
    },
    {
      "cell_type": "code",
      "execution_count": 32,
      "metadata": {
        "id": "utXJC4a61UvM"
      },
      "outputs": [],
      "source": [
        "#Vamos a realizar una primera visualización de los datos\n",
        "#Separamos por frase las review y las pasamos a minusculas"
      ]
    },
    {
      "cell_type": "code",
      "execution_count": 33,
      "metadata": {
        "colab": {
          "base_uri": "https://localhost:8080/"
        },
        "id": "8z0Lq3zX0Y4W",
        "outputId": "96a09643-2187-4ecf-8e3d-e1a8be8d1633"
      },
      "outputs": [
        {
          "output_type": "execute_result",
          "data": {
            "text/plain": [
              "16684"
            ]
          },
          "metadata": {},
          "execution_count": 33
        }
      ],
      "source": [
        "splitted_reviews = df_train['review'].str.lower().str.split()\n",
        "words = splitted_reviews.apply(pd.Series).stack().reset_index(drop = True)\n",
        "\n",
        "vocabulary_ = Counter(words)\n",
        "len(vocabulary_)"
      ]
    },
    {
      "cell_type": "markdown",
      "metadata": {
        "id": "6kjmsuPG3FrC"
      },
      "source": [
        "#N-grams más frecuentes"
      ]
    },
    {
      "cell_type": "code",
      "execution_count": 34,
      "metadata": {
        "id": "kLZIDa3b3CGm"
      },
      "outputs": [],
      "source": [
        "bigrams_ = ngrams(words, 2)\n",
        "trigrams_ = ngrams(words, 3)"
      ]
    },
    {
      "cell_type": "code",
      "execution_count": 35,
      "metadata": {
        "id": "JMAaU1Kp3H85"
      },
      "outputs": [],
      "source": [
        "bigrams_freq_ = FreqDist(bigrams_)\n",
        "trigrams_freq_ = FreqDist(trigrams_)"
      ]
    },
    {
      "cell_type": "code",
      "execution_count": 36,
      "metadata": {
        "colab": {
          "base_uri": "https://localhost:8080/"
        },
        "id": "__0sRoAf3VXQ",
        "outputId": "36be623b-34b2-49ef-f053-75806186bcfb"
      },
      "outputs": [
        {
          "output_type": "execute_result",
          "data": {
            "text/plain": [
              "[(('and', 'the'), 1020),\n",
              " (('it', 'was'), 755),\n",
              " (('of', 'the'), 674),\n",
              " (('had', 'the'), 491),\n",
              " (('i', 'ordered'), 468),\n",
              " (('ordered', 'the'), 467),\n",
              " (('on', 'the'), 452),\n",
              " (('i', 'had'), 400),\n",
              " (('the', 'best'), 374),\n",
              " (('in', 'the'), 348)]"
            ]
          },
          "metadata": {},
          "execution_count": 36
        }
      ],
      "source": [
        "bigrams_freq_.most_common(10)"
      ]
    },
    {
      "cell_type": "markdown",
      "metadata": {
        "id": "Z9zbqc0_3khv"
      },
      "source": [
        "Vemos bastante claro que aqui tenemos palabras que eliminar ya que no nos dan ninguna información que nos indique sentimiento."
      ]
    },
    {
      "cell_type": "code",
      "execution_count": 37,
      "metadata": {
        "colab": {
          "base_uri": "https://localhost:8080/"
        },
        "id": "4pkqDhWr3dGW",
        "outputId": "ad1533ed-247d-4175-c5de-714fe4baaea7"
      },
      "outputs": [
        {
          "output_type": "execute_result",
          "data": {
            "text/plain": [
              "[(('i', 'ordered', 'the'), 240),\n",
              " (('and', 'it', 'was'), 219),\n",
              " (('i', 'had', 'the'), 208),\n",
              " (('i', 'got', 'the'), 141),\n",
              " (('one', 'of', 'the'), 118),\n",
              " (('of', 'the', 'best'), 99),\n",
              " (('i', 'ordered', 'a'), 80),\n",
              " (('we', 'ordered', 'the'), 76),\n",
              " (('we', 'had', 'the'), 72),\n",
              " (('it', 'was', 'a'), 72)]"
            ]
          },
          "metadata": {},
          "execution_count": 37
        }
      ],
      "source": [
        "trigrams_freq_.most_common(10)"
      ]
    },
    {
      "cell_type": "code",
      "execution_count": 38,
      "metadata": {
        "id": "jpx5uohh5Ray"
      },
      "outputs": [],
      "source": [
        "from wordcloud import WordCloud"
      ]
    },
    {
      "cell_type": "code",
      "execution_count": 39,
      "metadata": {
        "colab": {
          "base_uri": "https://localhost:8080/",
          "height": 357
        },
        "id": "sYJo78fL3yZp",
        "outputId": "a667737d-8e19-4bb7-cc32-162881830e0c"
      },
      "outputs": [
        {
          "output_type": "display_data",
          "data": {
            "text/plain": [
              "<Figure size 864x432 with 1 Axes>"
            ],
            "image/png": "[encoded data removed]"
          },
          "metadata": {
            "needs_background": "light"
          }
        }
      ],
      "source": [
        "def plot_word_cloud(text):\n",
        "    wordcloud = WordCloud(max_font_size=50, max_words=100, background_color=\"white\").generate(' '.join(text))\n",
        "    plt.figure(figsize=(12,6))\n",
        "    plt.imshow(wordcloud, interpolation='bilinear')\n",
        "    plt.axis('off')\n",
        "    plt.show()\n",
        "\n",
        "\n",
        "plot_word_cloud(words)"
      ]
    },
    {
      "cell_type": "code",
      "execution_count": 40,
      "metadata": {
        "colab": {
          "base_uri": "https://localhost:8080/"
        },
        "id": "eTgKpYVyCIeI",
        "outputId": "70427a63-ca3e-4dc4-9a60-3aad60c55d79"
      },
      "outputs": [
        {
          "output_type": "stream",
          "name": "stderr",
          "text": [
            "[nltk_data] Downloading package punkt to /root/nltk_data...\n",
            "[nltk_data]   Unzipping tokenizers/punkt.zip.\n",
            "[nltk_data] Downloading package stopwords to /root/nltk_data...\n",
            "[nltk_data]   Package stopwords is already up-to-date!\n"
          ]
        }
      ],
      "source": [
        "df_train[\"rating\"][2]\n",
        "import nltk\n",
        "nltk.download('punkt')\n",
        "import nltk\n",
        "nltk.download('stopwords')\n",
        "from nltk.corpus import stopwords"
      ]
    },
    {
      "cell_type": "code",
      "execution_count": 41,
      "metadata": {
        "colab": {
          "base_uri": "https://localhost:8080/",
          "height": 198
        },
        "id": "ssr0E-6F-vJ-",
        "outputId": "f3998a30-5b29-4f63-e223-14bdc5b425ee"
      },
      "outputs": [
        {
          "output_type": "display_data",
          "data": {
            "text/plain": [
              "<Figure size 432x288 with 1 Axes>"
            ],
            "image/png": "[encoded data removed]"
          },
          "metadata": {
            "needs_background": "light"
          }
        }
      ],
      "source": [
        "#Separo la nube por rating negativo y positivo para ver si nos da mas información\n",
        "stop_words = stopwords.words('english')\n",
        "#Vamos viendo la nube de palabras obtenida y añadire palabras a mi lista de stopWords\n",
        "# Añadir más palabras a la lista de stopwords\n",
        "stop_words.extend(['chiken',\"sushi\",\"roll\", \"cake\",\"crab\",\"eggs\",\"noodle\",\"beans\",\"pork\",\"pancake\",\"onion\",\"soup\",\"lobster\",'burger','burgers', \"ribs\",'chicken', 'ordered', 'taco', 'shrimp', 'pizza',\"steak\",\"bacon\",\"got\",\"cheese\", \"salad\",\"meat\",\"fries\",\"sauce\", \"came\",\"egg\", \"order\",\"tacos\",\"rice\",\"sandwich\",\"go\",\"mac\",\"beef\",\"pasta\",\"seafood\",\"rib\",\"fish\"])\n",
        "if 'not' in stop_words:\n",
        "    stop_words.remove('not')# Se quita la pabra not porque nos aparece en los comentarios negativos en expresiones como not good\n",
        "if 'no' in stop_words:\n",
        "    stop_words.remove('no')#por la misma razon que la anterior\n",
        "if \"up\" in stop_words:\n",
        "    stop_words.remove('up')#seguido de algún verbo nos cambia el sentido de la frase\n",
        "if \"over\" in stop_words:\n",
        "    stop_words.remove('over')  #se quita por la misma razon que antes seguido de un verbo cambia el sentido de la frase\n",
        "#quito la palabra no de mi lista de stop_words ya que creo que para el sentimiento negativo nos va a aportar bastante en comentarios como no good etc\n",
        "\n",
        "positivas = []\n",
        "for index, row in df_train.iterrows():\n",
        "  if row[\"rating\"] > 2:\n",
        "    review_pos = row[\"review\"]\n",
        "    # Tokenizar la review y convertir a minúsculas\n",
        "    tokens = nltk.word_tokenize(review_pos.lower())\n",
        "    # Añadir la lista de tokens a la lista de reviews positivas siempre que no sean Stop_words\n",
        "    positivas.append([word for word in tokens if word not in stop_words])\n",
        "# Unir las listas de tokens en una sola cadena de texto separada por espacios\n",
        "positivas_str = ' '.join([word for lista in positivas for word in lista])\n",
        "\n",
        "# Generar la nube de palabras\n",
        "wc = WordCloud(background_color='white', max_words=50)\n",
        "wc.generate(positivas_str)\n",
        "\n",
        "# Visualizar la nube de palabras\n",
        "plt.imshow(wc, interpolation='bilinear')\n",
        "plt.axis('off')\n",
        "plt.show()\n"
      ]
    },
    {
      "cell_type": "code",
      "execution_count": 42,
      "metadata": {
        "colab": {
          "base_uri": "https://localhost:8080/",
          "height": 198
        },
        "id": "IJ5h838VHeiP",
        "outputId": "b4e744f9-d00c-417a-9139-e5e94edad6b5"
      },
      "outputs": [
        {
          "output_type": "display_data",
          "data": {
            "text/plain": [
              "<Figure size 432x288 with 1 Axes>"
            ],
            "image/png": "[encoded data removed]"
          },
          "metadata": {
            "needs_background": "light"
          }
        }
      ],
      "source": [
        "negativas = []\n",
        "\n",
        "for index, row in df_train.iterrows():\n",
        "  if row[\"rating\"] < 2:\n",
        "    review_ne = row[\"review\"]\n",
        "    # Tokenizar la review y convertir a minúsculas\n",
        "    tokens = nltk.word_tokenize(review_ne.lower())\n",
        "    # Añadir la lista de tokens a la lista de reviews positivas siempre que no sean Stop_words\n",
        "    negativas.append([word for word in tokens if word not in stop_words])\n",
        "# Unir las listas de tokens en una sola cadena de texto separada por espacios\n",
        "negativas_str = ' '.join([word for lista in negativas for word in lista])\n",
        "\n",
        "# Generar la nube de palabras\n",
        "wc = WordCloud(background_color='white', max_words=50)\n",
        "wc.generate(negativas_str)\n",
        "\n",
        "# Visualizar la nube de palabras\n",
        "plt.imshow(wc, interpolation='bilinear')\n",
        "plt.axis('off')\n",
        "plt.show()\n",
        "#nos aparece la palabra good pero entendemos que es porque va spredecido por la negación, por eso vamos a mantenerlo para el analisis del sentimiento"
      ]
    },
    {
      "cell_type": "code",
      "execution_count": 43,
      "metadata": {
        "id": "fjdrUFHVMPj7"
      },
      "outputs": [],
      "source": [
        "if \"up\" in stop_words:\n",
        "    stop_words.remove('up')"
      ]
    },
    {
      "cell_type": "code",
      "execution_count": null,
      "metadata": {
        "id": "LQdCrFstZUYn"
      },
      "outputs": [],
      "source": [
        "for index, row in df_train.iterrows():\n",
        "  if row[\"rating\"] < 2:\n",
        "    review_ne = row[\"review\"]\n",
        "    print(review_ne)\n",
        "    print(\"\\n\")\n"
      ]
    },
    {
      "cell_type": "code",
      "execution_count": 47,
      "metadata": {
        "colab": {
          "base_uri": "https://localhost:8080/"
        },
        "id": "SJ3S-J2IO7Wr",
        "outputId": "f33605b0-1245-48ca-c32c-54cb1693192f"
      },
      "outputs": [
        {
          "output_type": "stream",
          "name": "stderr",
          "text": [
            "[nltk_data] Downloading package punkt to /root/nltk_data...\n",
            "[nltk_data]   Package punkt is already up-to-date!\n"
          ]
        }
      ],
      "source": [
        "from nltk.tokenize import PunktSentenceTokenizer\n",
        "import nltk\n",
        "nltk.download('punkt')\n",
        "import string"
      ]
    },
    {
      "cell_type": "code",
      "execution_count": 46,
      "metadata": {
        "id": "UIRtWK6SIMSh"
      },
      "outputs": [],
      "source": [
        "\n",
        "#La función para preprocesamiento y limpieza de los datos"
      ]
    },
    {
      "cell_type": "code",
      "execution_count": 48,
      "metadata": {
        "id": "oubL70ei4gdr"
      },
      "outputs": [],
      "source": [
        "from nltk.util import ngrams\n",
        "\n",
        "def nltk_cleaner(text, tokenizer, stop_words, lemmatizer, n=2):\n",
        "    clean_text = list()\n",
        "    \n",
        "    # Eliminar acentos, etc\n",
        "    text = unicodedata.normalize('NFKD', text).encode('ascii', 'ignore').decode('utf-8', 'ignore')\n",
        "    # Eliminar signos de puntuación\n",
        "    text = text.translate(str.maketrans('', '', string.punctuation))\n",
        "    # Separar palabras eliminando signos de puntuación y generar n-gramas\n",
        "    tokenized_text = tokenizer.tokenize(text)\n",
        "    ngrams_list = list(ngrams(tokenized_text, n))\n",
        "    \n",
        "    for word in tokenized_text:\n",
        "        # Eliminar espacios sobrantes, convertir a minúsculas y lematizar\n",
        "        clean_word = lemmatizer.lemmatize(word.lower().strip())\n",
        "        # Eliminar stop words y palabras con menos de 2 caracteres\n",
        "        if clean_word not in stop_words and len(clean_word) > 1:\n",
        "            # Convertir dígitos a palabras\n",
        "            if clean_word.isdigit():\n",
        "                clean_word = num2words(clean_word, lang='en')\n",
        "            clean_text.append(clean_word)\n",
        "    \n",
        "    # Agregar n-gramas al texto limpio\n",
        "    for ngram in ngrams_list:\n",
        "        is_stop_word = False\n",
        "        clean_ngram = ''\n",
        "        for word in ngram:\n",
        "            clean_word = lemmatizer.lemmatize(word.lower().strip())\n",
        "            if clean_word in stop_words:\n",
        "                is_stop_word = True\n",
        "                break\n",
        "            if len(clean_word) <= 1:\n",
        "                is_stop_word = True\n",
        "                break\n",
        "            if clean_word.isdigit():\n",
        "                clean_word = num2words(clean_word, lang='en')\n",
        "            clean_ngram += clean_word + ' '\n",
        "        if not is_stop_word:\n",
        "            clean_text.append(clean_ngram.strip())\n",
        "    \n",
        "    return ' '.join(clean_text)"
      ]
    },
    {
      "cell_type": "code",
      "execution_count": 49,
      "metadata": {
        "id": "qYg1y8NCIRw_"
      },
      "outputs": [],
      "source": [
        "#tokenizer =  PunktSentenceTokenizer()\n",
        "tokenizer = RegexpTokenizer(r'\\w+')\n",
        "\n",
        "lemmatizer = WordNetLemmatizer()"
      ]
    },
    {
      "cell_type": "code",
      "execution_count": 50,
      "metadata": {
        "colab": {
          "base_uri": "https://localhost:8080/"
        },
        "id": "dcM6RJmuL7Pw",
        "outputId": "e7fe7c68-2d8c-4cd6-f791-81f1874c3aa4"
      },
      "outputs": [
        {
          "output_type": "stream",
          "name": "stdout",
          "text": [
            "Chicken and waffles were really good!\n",
            "5\n"
          ]
        }
      ],
      "source": [
        "print(df_train['review'][1])\n",
        "print(df_train['rating'][1])"
      ]
    },
    {
      "cell_type": "code",
      "execution_count": 51,
      "metadata": {
        "colab": {
          "base_uri": "https://localhost:8080/",
          "height": 206
        },
        "id": "JxPtn6uVJmU4",
        "outputId": "47587021-e12a-4bf0-d24e-8f39faf4d69e"
      },
      "outputs": [
        {
          "output_type": "execute_result",
          "data": {
            "text/plain": [
              "                                              review  rating  rating_label  \\\n",
              "0  The tang of the tomato sauce is outstanding. A...       4             1   \n",
              "1              Chicken and waffles were really good!       5             1   \n",
              "2  The appetizer of colossal shrimp was very good...       4             1   \n",
              "3  The fish tacos here  omg! The salad was great ...       5             1   \n",
              "4  Ribs are great, as are the mac and cheese, fri...       4             1   \n",
              "\n",
              "                                        clean_review  \n",
              "0  tang tomato outstanding crust meal whole pie f...  \n",
              "1                     waffle really good really good  \n",
              "2  appetizer colossal wa good freshwater wa bit d...  \n",
              "3              omg wa great also wa great great also  \n",
              "4  great fry ring skip brisket blueberry cornbrea...  "
            ],
            "text/html": [
              "\n",
              "  <div id=\"df-284fec37-fe30-4092-84ff-3c7c54a1d70c\">\n",
              "    <div class=\"colab-df-container\">\n",
              "      <div>\n",
              "<style scoped>\n",
              "    .dataframe tbody tr th:only-of-type {\n",
              "        vertical-align: middle;\n",
              "    }\n",
              "\n",
              "    .dataframe tbody tr th {\n",
              "        vertical-align: top;\n",
              "    }\n",
              "\n",
              "    .dataframe thead th {\n",
              "        text-align: right;\n",
              "    }\n",
              "</style>\n",
              "<table border=\"1\" class=\"dataframe\">\n",
              "  <thead>\n",
              "    <tr style=\"text-align: right;\">\n",
              "      <th></th>\n",
              "      <th>review</th>\n",
              "      <th>rating</th>\n",
              "      <th>rating_label</th>\n",
              "      <th>clean_review</th>\n",
              "    </tr>\n",
              "  </thead>\n",
              "  <tbody>\n",
              "    <tr>\n",
              "      <th>0</th>\n",
              "      <td>The tang of the tomato sauce is outstanding. A...</td>\n",
              "      <td>4</td>\n",
              "      <td>1</td>\n",
              "      <td>tang tomato outstanding crust meal whole pie f...</td>\n",
              "    </tr>\n",
              "    <tr>\n",
              "      <th>1</th>\n",
              "      <td>Chicken and waffles were really good!</td>\n",
              "      <td>5</td>\n",
              "      <td>1</td>\n",
              "      <td>waffle really good really good</td>\n",
              "    </tr>\n",
              "    <tr>\n",
              "      <th>2</th>\n",
              "      <td>The appetizer of colossal shrimp was very good...</td>\n",
              "      <td>4</td>\n",
              "      <td>1</td>\n",
              "      <td>appetizer colossal wa good freshwater wa bit d...</td>\n",
              "    </tr>\n",
              "    <tr>\n",
              "      <th>3</th>\n",
              "      <td>The fish tacos here  omg! The salad was great ...</td>\n",
              "      <td>5</td>\n",
              "      <td>1</td>\n",
              "      <td>omg wa great also wa great great also</td>\n",
              "    </tr>\n",
              "    <tr>\n",
              "      <th>4</th>\n",
              "      <td>Ribs are great, as are the mac and cheese, fri...</td>\n",
              "      <td>4</td>\n",
              "      <td>1</td>\n",
              "      <td>great fry ring skip brisket blueberry cornbrea...</td>\n",
              "    </tr>\n",
              "  </tbody>\n",
              "</table>\n",
              "</div>\n",
              "      <button class=\"colab-df-convert\" onclick=\"convertToInteractive('df-284fec37-fe30-4092-84ff-3c7c54a1d70c')\"\n",
              "              title=\"Convert this dataframe to an interactive table.\"\n",
              "              style=\"display:none;\">\n",
              "        \n",
              "  <svg xmlns=\"http://www.w3.org/2000/svg\" height=\"24px\"viewBox=\"0 0 24 24\"\n",
              "       width=\"24px\">\n",
              "    <path d=\"M0 0h24v24H0V0z\" fill=\"none\"/>\n",
              "    <path d=\"M18.56 5.44l.94 2.06.94-2.06 2.06-.94-2.06-.94-.94-2.06-.94 2.06-2.06.94zm-11 1L8.5 8.5l.94-2.06 2.06-.94-2.06-.94L8.5 2.5l-.94 2.06-2.06.94zm10 10l.94 2.06.94-2.06 2.06-.94-2.06-.94-.94-2.06-.94 2.06-2.06.94z\"/><path d=\"M17.41 7.96l-1.37-1.37c-.4-.4-.92-.59-1.43-.59-.52 0-1.04.2-1.43.59L10.3 9.45l-7.72 7.72c-.78.78-.78 2.05 0 2.83L4 21.41c.39.39.9.59 1.41.59.51 0 1.02-.2 1.41-.59l7.78-7.78 2.81-2.81c.8-.78.8-2.07 0-2.86zM5.41 20L4 18.59l7.72-7.72 1.47 1.35L5.41 20z\"/>\n",
              "  </svg>\n",
              "      </button>\n",
              "      \n",
              "  <style>\n",
              "    .colab-df-container {\n",
              "      display:flex;\n",
              "      flex-wrap:wrap;\n",
              "      gap: 12px;\n",
              "    }\n",
              "\n",
              "    .colab-df-convert {\n",
              "      background-color: #E8F0FE;\n",
              "      border: none;\n",
              "      border-radius: 50%;\n",
              "      cursor: pointer;\n",
              "      display: none;\n",
              "      fill: #1967D2;\n",
              "      height: 32px;\n",
              "      padding: 0 0 0 0;\n",
              "      width: 32px;\n",
              "    }\n",
              "\n",
              "    .colab-df-convert:hover {\n",
              "      background-color: #E2EBFA;\n",
              "      box-shadow: 0px 1px 2px rgba(60, 64, 67, 0.3), 0px 1px 3px 1px rgba(60, 64, 67, 0.15);\n",
              "      fill: #174EA6;\n",
              "    }\n",
              "\n",
              "    [theme=dark] .colab-df-convert {\n",
              "      background-color: #3B4455;\n",
              "      fill: #D2E3FC;\n",
              "    }\n",
              "\n",
              "    [theme=dark] .colab-df-convert:hover {\n",
              "      background-color: #434B5C;\n",
              "      box-shadow: 0px 1px 3px 1px rgba(0, 0, 0, 0.15);\n",
              "      filter: drop-shadow(0px 1px 2px rgba(0, 0, 0, 0.3));\n",
              "      fill: #FFFFFF;\n",
              "    }\n",
              "  </style>\n",
              "\n",
              "      <script>\n",
              "        const buttonEl =\n",
              "          document.querySelector('#df-284fec37-fe30-4092-84ff-3c7c54a1d70c button.colab-df-convert');\n",
              "        buttonEl.style.display =\n",
              "          google.colab.kernel.accessAllowed ? 'block' : 'none';\n",
              "\n",
              "        async function convertToInteractive(key) {\n",
              "          const element = document.querySelector('#df-284fec37-fe30-4092-84ff-3c7c54a1d70c');\n",
              "          const dataTable =\n",
              "            await google.colab.kernel.invokeFunction('convertToInteractive',\n",
              "                                                     [key], {});\n",
              "          if (!dataTable) return;\n",
              "\n",
              "          const docLinkHtml = 'Like what you see? Visit the ' +\n",
              "            '<a target=\"_blank\" href=https://colab.research.google.com/notebooks/data_table.ipynb>data table notebook</a>'\n",
              "            + ' to learn more about interactive tables.';\n",
              "          element.innerHTML = '';\n",
              "          dataTable['output_type'] = 'display_data';\n",
              "          await google.colab.output.renderOutput(dataTable, element);\n",
              "          const docLink = document.createElement('div');\n",
              "          docLink.innerHTML = docLinkHtml;\n",
              "          element.appendChild(docLink);\n",
              "        }\n",
              "      </script>\n",
              "    </div>\n",
              "  </div>\n",
              "  "
            ]
          },
          "metadata": {},
          "execution_count": 51
        }
      ],
      "source": [
        "# Aplicar función nltk_cleaner() a la columna 'review'\n",
        "df_train['clean_review'] = df_train['review'].apply(lambda x: nltk_cleaner(x, tokenizer, stop_words, lemmatizer))\n",
        "df_train.head()\n",
        "\n",
        "\n"
      ]
    },
    {
      "cell_type": "code",
      "execution_count": 52,
      "metadata": {
        "colab": {
          "base_uri": "https://localhost:8080/",
          "height": 276
        },
        "id": "XP1aCeV6PGWO",
        "outputId": "54750154-665c-4143-9037-1f621869f94f"
      },
      "outputs": [
        {
          "output_type": "stream",
          "name": "stdout",
          "text": [
            "I had some of biggest chicken tamales I've ever seen. Wifey had the chimichanga which was smothered with a delicious green salsa.\n",
            "\n",
            " la review normalizada es: \n",
            " biggest tamale ive ever seen wifey chimichanga wa smothered delicious green salsa tamale ive ive ever ever seen seen wifey wa smothered delicious green green salsa\n"
          ]
        },
        {
          "output_type": "execute_result",
          "data": {
            "text/plain": [
              "                                              review  rating  rating_label  \\\n",
              "0  This was my first time having sushi and I defi...       5             1   \n",
              "1         I tried the spicy 'Nashville Hot Chicken'.       5             1   \n",
              "2  I had some of biggest chicken tamales I've eve...       5             1   \n",
              "3  First let me say, this isn't your Grandpas don...       5             1   \n",
              "4  We got the New York strip with mashed potatoes...       4             1   \n",
              "\n",
              "                                        clean_review  \n",
              "0  wa first time definitely picked right place fi...  \n",
              "1  tried spicy nashville hot spicy nashville nash...  \n",
              "2  biggest tamale ive ever seen wifey chimichanga...  \n",
              "3  first let say isnt grandpa donut shop factory ...  \n",
              "4  new york strip mashed potato bbq combo kielbas...  "
            ],
            "text/html": [
              "\n",
              "  <div id=\"df-3c464c34-212d-4540-a841-2419d57fb139\">\n",
              "    <div class=\"colab-df-container\">\n",
              "      <div>\n",
              "<style scoped>\n",
              "    .dataframe tbody tr th:only-of-type {\n",
              "        vertical-align: middle;\n",
              "    }\n",
              "\n",
              "    .dataframe tbody tr th {\n",
              "        vertical-align: top;\n",
              "    }\n",
              "\n",
              "    .dataframe thead th {\n",
              "        text-align: right;\n",
              "    }\n",
              "</style>\n",
              "<table border=\"1\" class=\"dataframe\">\n",
              "  <thead>\n",
              "    <tr style=\"text-align: right;\">\n",
              "      <th></th>\n",
              "      <th>review</th>\n",
              "      <th>rating</th>\n",
              "      <th>rating_label</th>\n",
              "      <th>clean_review</th>\n",
              "    </tr>\n",
              "  </thead>\n",
              "  <tbody>\n",
              "    <tr>\n",
              "      <th>0</th>\n",
              "      <td>This was my first time having sushi and I defi...</td>\n",
              "      <td>5</td>\n",
              "      <td>1</td>\n",
              "      <td>wa first time definitely picked right place fi...</td>\n",
              "    </tr>\n",
              "    <tr>\n",
              "      <th>1</th>\n",
              "      <td>I tried the spicy 'Nashville Hot Chicken'.</td>\n",
              "      <td>5</td>\n",
              "      <td>1</td>\n",
              "      <td>tried spicy nashville hot spicy nashville nash...</td>\n",
              "    </tr>\n",
              "    <tr>\n",
              "      <th>2</th>\n",
              "      <td>I had some of biggest chicken tamales I've eve...</td>\n",
              "      <td>5</td>\n",
              "      <td>1</td>\n",
              "      <td>biggest tamale ive ever seen wifey chimichanga...</td>\n",
              "    </tr>\n",
              "    <tr>\n",
              "      <th>3</th>\n",
              "      <td>First let me say, this isn't your Grandpas don...</td>\n",
              "      <td>5</td>\n",
              "      <td>1</td>\n",
              "      <td>first let say isnt grandpa donut shop factory ...</td>\n",
              "    </tr>\n",
              "    <tr>\n",
              "      <th>4</th>\n",
              "      <td>We got the New York strip with mashed potatoes...</td>\n",
              "      <td>4</td>\n",
              "      <td>1</td>\n",
              "      <td>new york strip mashed potato bbq combo kielbas...</td>\n",
              "    </tr>\n",
              "  </tbody>\n",
              "</table>\n",
              "</div>\n",
              "      <button class=\"colab-df-convert\" onclick=\"convertToInteractive('df-3c464c34-212d-4540-a841-2419d57fb139')\"\n",
              "              title=\"Convert this dataframe to an interactive table.\"\n",
              "              style=\"display:none;\">\n",
              "        \n",
              "  <svg xmlns=\"http://www.w3.org/2000/svg\" height=\"24px\"viewBox=\"0 0 24 24\"\n",
              "       width=\"24px\">\n",
              "    <path d=\"M0 0h24v24H0V0z\" fill=\"none\"/>\n",
              "    <path d=\"M18.56 5.44l.94 2.06.94-2.06 2.06-.94-2.06-.94-.94-2.06-.94 2.06-2.06.94zm-11 1L8.5 8.5l.94-2.06 2.06-.94-2.06-.94L8.5 2.5l-.94 2.06-2.06.94zm10 10l.94 2.06.94-2.06 2.06-.94-2.06-.94-.94-2.06-.94 2.06-2.06.94z\"/><path d=\"M17.41 7.96l-1.37-1.37c-.4-.4-.92-.59-1.43-.59-.52 0-1.04.2-1.43.59L10.3 9.45l-7.72 7.72c-.78.78-.78 2.05 0 2.83L4 21.41c.39.39.9.59 1.41.59.51 0 1.02-.2 1.41-.59l7.78-7.78 2.81-2.81c.8-.78.8-2.07 0-2.86zM5.41 20L4 18.59l7.72-7.72 1.47 1.35L5.41 20z\"/>\n",
              "  </svg>\n",
              "      </button>\n",
              "      \n",
              "  <style>\n",
              "    .colab-df-container {\n",
              "      display:flex;\n",
              "      flex-wrap:wrap;\n",
              "      gap: 12px;\n",
              "    }\n",
              "\n",
              "    .colab-df-convert {\n",
              "      background-color: #E8F0FE;\n",
              "      border: none;\n",
              "      border-radius: 50%;\n",
              "      cursor: pointer;\n",
              "      display: none;\n",
              "      fill: #1967D2;\n",
              "      height: 32px;\n",
              "      padding: 0 0 0 0;\n",
              "      width: 32px;\n",
              "    }\n",
              "\n",
              "    .colab-df-convert:hover {\n",
              "      background-color: #E2EBFA;\n",
              "      box-shadow: 0px 1px 2px rgba(60, 64, 67, 0.3), 0px 1px 3px 1px rgba(60, 64, 67, 0.15);\n",
              "      fill: #174EA6;\n",
              "    }\n",
              "\n",
              "    [theme=dark] .colab-df-convert {\n",
              "      background-color: #3B4455;\n",
              "      fill: #D2E3FC;\n",
              "    }\n",
              "\n",
              "    [theme=dark] .colab-df-convert:hover {\n",
              "      background-color: #434B5C;\n",
              "      box-shadow: 0px 1px 3px 1px rgba(0, 0, 0, 0.15);\n",
              "      filter: drop-shadow(0px 1px 2px rgba(0, 0, 0, 0.3));\n",
              "      fill: #FFFFFF;\n",
              "    }\n",
              "  </style>\n",
              "\n",
              "      <script>\n",
              "        const buttonEl =\n",
              "          document.querySelector('#df-3c464c34-212d-4540-a841-2419d57fb139 button.colab-df-convert');\n",
              "        buttonEl.style.display =\n",
              "          google.colab.kernel.accessAllowed ? 'block' : 'none';\n",
              "\n",
              "        async function convertToInteractive(key) {\n",
              "          const element = document.querySelector('#df-3c464c34-212d-4540-a841-2419d57fb139');\n",
              "          const dataTable =\n",
              "            await google.colab.kernel.invokeFunction('convertToInteractive',\n",
              "                                                     [key], {});\n",
              "          if (!dataTable) return;\n",
              "\n",
              "          const docLinkHtml = 'Like what you see? Visit the ' +\n",
              "            '<a target=\"_blank\" href=https://colab.research.google.com/notebooks/data_table.ipynb>data table notebook</a>'\n",
              "            + ' to learn more about interactive tables.';\n",
              "          element.innerHTML = '';\n",
              "          dataTable['output_type'] = 'display_data';\n",
              "          await google.colab.output.renderOutput(dataTable, element);\n",
              "          const docLink = document.createElement('div');\n",
              "          docLink.innerHTML = docLinkHtml;\n",
              "          element.appendChild(docLink);\n",
              "        }\n",
              "      </script>\n",
              "    </div>\n",
              "  </div>\n",
              "  "
            ]
          },
          "metadata": {},
          "execution_count": 52
        }
      ],
      "source": [
        "#vamos a realizar los mismos cambios hechos en train para test para poderlos aplicar en el modelo\n",
        "print(df_test['review'][2])\n",
        "\n",
        "print(\"\\n la review normalizada es: \\n\", nltk_cleaner(df_test['review'][2], tokenizer, stop_words, lemmatizer))\n",
        "# Aplicar función nltk_cleaner() a la columna 'review' en test\n",
        "df_test['clean_review'] = df_test['review'].apply(lambda x: nltk_cleaner(x, tokenizer, stop_words, lemmatizer))\n",
        "df_test.head()\n"
      ]
    },
    {
      "cell_type": "code",
      "execution_count": 53,
      "metadata": {
        "id": "hzEFgZOMruTK"
      },
      "outputs": [],
      "source": [
        "from sklearn.utils import shuffle"
      ]
    },
    {
      "cell_type": "code",
      "execution_count": null,
      "metadata": {
        "id": "pKZj3AGGRxwS"
      },
      "outputs": [],
      "source": [
        " # Mezclamos los datos con sus etiquetas\n",
        "#Creamos los datos de train para nuestro modelo\n",
        "x_train, y_train =shuffle(df_train['clean_review'],df_train['rating_label'])\n",
        "print(y_train.tail(25))\n",
        "#Creamos los datos de test\n",
        "x_test,y_test =shuffle(df_test['clean_review'],df_test['rating_label'])\n"
      ]
    },
    {
      "cell_type": "markdown",
      "source": [
        "#Primero, vamos a aplicar diferentes técnicas para conseguir un modelo de Machine Learning. En la última parte, realizaremos modelos con Deep Learning."
      ],
      "metadata": {
        "id": "mZQZSifgtMO4"
      }
    },
    {
      "cell_type": "markdown",
      "source": [
        "## Vamos a crear dos modelelos diferentes para la creación de Features"
      ],
      "metadata": {
        "id": "uHkmOaoC5Yos"
      }
    },
    {
      "cell_type": "code",
      "execution_count": 55,
      "metadata": {
        "colab": {
          "base_uri": "https://localhost:8080/",
          "height": 75
        },
        "id": "qD_2GHQYPJnJ",
        "outputId": "f8197222-bc47-4ebb-d743-afc2bbad36a1"
      },
      "outputs": [
        {
          "output_type": "execute_result",
          "data": {
            "text/plain": [
              "TfidfVectorizer(max_df=0.95, max_features=2500, min_df=3, strip_accents='ascii')"
            ],
            "text/html": [
              "<style>#sk-container-id-1 {color: black;background-color: white;}#sk-container-id-1 pre{padding: 0;}#sk-container-id-1 div.sk-toggleable {background-color: white;}#sk-container-id-1 label.sk-toggleable__label {cursor: pointer;display: block;width: 100%;margin-bottom: 0;padding: 0.3em;box-sizing: border-box;text-align: center;}#sk-container-id-1 label.sk-toggleable__label-arrow:before {content: \"▸\";float: left;margin-right: 0.25em;color: #696969;}#sk-container-id-1 label.sk-toggleable__label-arrow:hover:before {color: black;}#sk-container-id-1 div.sk-estimator:hover label.sk-toggleable__label-arrow:before {color: black;}#sk-container-id-1 div.sk-toggleable__content {max-height: 0;max-width: 0;overflow: hidden;text-align: left;background-color: #f0f8ff;}#sk-container-id-1 div.sk-toggleable__content pre {margin: 0.2em;color: black;border-radius: 0.25em;background-color: #f0f8ff;}#sk-container-id-1 input.sk-toggleable__control:checked~div.sk-toggleable__content {max-height: 200px;max-width: 100%;overflow: auto;}#sk-container-id-1 input.sk-toggleable__control:checked~label.sk-toggleable__label-arrow:before {content: \"▾\";}#sk-container-id-1 div.sk-estimator input.sk-toggleable__control:checked~label.sk-toggleable__label {background-color: #d4ebff;}#sk-container-id-1 div.sk-label input.sk-toggleable__control:checked~label.sk-toggleable__label {background-color: #d4ebff;}#sk-container-id-1 input.sk-hidden--visually {border: 0;clip: rect(1px 1px 1px 1px);clip: rect(1px, 1px, 1px, 1px);height: 1px;margin: -1px;overflow: hidden;padding: 0;position: absolute;width: 1px;}#sk-container-id-1 div.sk-estimator {font-family: monospace;background-color: #f0f8ff;border: 1px dotted black;border-radius: 0.25em;box-sizing: border-box;margin-bottom: 0.5em;}#sk-container-id-1 div.sk-estimator:hover {background-color: #d4ebff;}#sk-container-id-1 div.sk-parallel-item::after {content: \"\";width: 100%;border-bottom: 1px solid gray;flex-grow: 1;}#sk-container-id-1 div.sk-label:hover label.sk-toggleable__label {background-color: #d4ebff;}#sk-container-id-1 div.sk-serial::before {content: \"\";position: absolute;border-left: 1px solid gray;box-sizing: border-box;top: 0;bottom: 0;left: 50%;z-index: 0;}#sk-container-id-1 div.sk-serial {display: flex;flex-direction: column;align-items: center;background-color: white;padding-right: 0.2em;padding-left: 0.2em;position: relative;}#sk-container-id-1 div.sk-item {position: relative;z-index: 1;}#sk-container-id-1 div.sk-parallel {display: flex;align-items: stretch;justify-content: center;background-color: white;position: relative;}#sk-container-id-1 div.sk-item::before, #sk-container-id-1 div.sk-parallel-item::before {content: \"\";position: absolute;border-left: 1px solid gray;box-sizing: border-box;top: 0;bottom: 0;left: 50%;z-index: -1;}#sk-container-id-1 div.sk-parallel-item {display: flex;flex-direction: column;z-index: 1;position: relative;background-color: white;}#sk-container-id-1 div.sk-parallel-item:first-child::after {align-self: flex-end;width: 50%;}#sk-container-id-1 div.sk-parallel-item:last-child::after {align-self: flex-start;width: 50%;}#sk-container-id-1 div.sk-parallel-item:only-child::after {width: 0;}#sk-container-id-1 div.sk-dashed-wrapped {border: 1px dashed gray;margin: 0 0.4em 0.5em 0.4em;box-sizing: border-box;padding-bottom: 0.4em;background-color: white;}#sk-container-id-1 div.sk-label label {font-family: monospace;font-weight: bold;display: inline-block;line-height: 1.2em;}#sk-container-id-1 div.sk-label-container {text-align: center;}#sk-container-id-1 div.sk-container {/* jupyter's `normalize.less` sets `[hidden] { display: none; }` but bootstrap.min.css set `[hidden] { display: none !important; }` so we also need the `!important` here to be able to override the default hidden behavior on the sphinx rendered scikit-learn.org. See: https://github.com/scikit-learn/scikit-learn/issues/21755 */display: inline-block !important;position: relative;}#sk-container-id-1 div.sk-text-repr-fallback {display: none;}</style><div id=\"sk-container-id-1\" class=\"sk-top-container\"><div class=\"sk-text-repr-fallback\"><pre>TfidfVectorizer(max_df=0.95, max_features=2500, min_df=3, strip_accents=&#x27;ascii&#x27;)</pre><b>In a Jupyter environment, please rerun this cell to show the HTML representation or trust the notebook. <br />On GitHub, the HTML representation is unable to render, please try loading this page with nbviewer.org.</b></div><div class=\"sk-container\" hidden><div class=\"sk-item\"><div class=\"sk-estimator sk-toggleable\"><input class=\"sk-toggleable__control sk-hidden--visually\" id=\"sk-estimator-id-1\" type=\"checkbox\" checked><label for=\"sk-estimator-id-1\" class=\"sk-toggleable__label sk-toggleable__label-arrow\">TfidfVectorizer</label><div class=\"sk-toggleable__content\"><pre>TfidfVectorizer(max_df=0.95, max_features=2500, min_df=3, strip_accents=&#x27;ascii&#x27;)</pre></div></div></div></div></div>"
            ]
          },
          "metadata": {},
          "execution_count": 55
        }
      ],
      "source": [
        "cv = TfidfVectorizer(\n",
        "    max_df=0.95,\n",
        "    min_df=3,\n",
        "    max_features=2500,\n",
        "    strip_accents='ascii',\n",
        "    ngram_range=(1, 1)\n",
        ")\n",
        "cv.fit(x_train)"
      ]
    },
    {
      "cell_type": "code",
      "execution_count": 56,
      "metadata": {
        "colab": {
          "base_uri": "https://localhost:8080/"
        },
        "id": "yl0qmEvVcMbh",
        "outputId": "6af008a5-7432-4b18-9411-5547caecd3d4"
      },
      "outputs": [
        {
          "output_type": "stream",
          "name": "stdout",
          "text": [
            "[('best', 182), ('wrapped', 2477), ('stuffed', 2112), ('cream', 524), ('jalapeno', 1131), ('grilled', 978), ('kid', 1165), ('strip', 2108), ('container', 481), ('never', 1431), ('really', 1754), ('delicious', 601), ('feel', 799), ('healthy', 1025), ('looked', 1265), ('like', 1231), ('bad', 122), ('tasted', 2178), ('someone', 2009), ('used', 2352)]\n",
            "2500\n"
          ]
        }
      ],
      "source": [
        "print(list(cv.vocabulary_.items())[:20])\n",
        "print(len(cv.vocabulary_))"
      ]
    },
    {
      "cell_type": "code",
      "execution_count": 57,
      "metadata": {
        "colab": {
          "base_uri": "https://localhost:8080/",
          "height": 75
        },
        "id": "vPIYS4JfLS-v",
        "outputId": "283af76c-889f-47df-d98b-5ea8f41aeef3"
      },
      "outputs": [
        {
          "output_type": "execute_result",
          "data": {
            "text/plain": [
              "CountVectorizer(max_df=0.95, max_features=2500, min_df=5, ngram_range=(1, 2))"
            ],
            "text/html": [
              "<style>#sk-container-id-2 {color: black;background-color: white;}#sk-container-id-2 pre{padding: 0;}#sk-container-id-2 div.sk-toggleable {background-color: white;}#sk-container-id-2 label.sk-toggleable__label {cursor: pointer;display: block;width: 100%;margin-bottom: 0;padding: 0.3em;box-sizing: border-box;text-align: center;}#sk-container-id-2 label.sk-toggleable__label-arrow:before {content: \"▸\";float: left;margin-right: 0.25em;color: #696969;}#sk-container-id-2 label.sk-toggleable__label-arrow:hover:before {color: black;}#sk-container-id-2 div.sk-estimator:hover label.sk-toggleable__label-arrow:before {color: black;}#sk-container-id-2 div.sk-toggleable__content {max-height: 0;max-width: 0;overflow: hidden;text-align: left;background-color: #f0f8ff;}#sk-container-id-2 div.sk-toggleable__content pre {margin: 0.2em;color: black;border-radius: 0.25em;background-color: #f0f8ff;}#sk-container-id-2 input.sk-toggleable__control:checked~div.sk-toggleable__content {max-height: 200px;max-width: 100%;overflow: auto;}#sk-container-id-2 input.sk-toggleable__control:checked~label.sk-toggleable__label-arrow:before {content: \"▾\";}#sk-container-id-2 div.sk-estimator input.sk-toggleable__control:checked~label.sk-toggleable__label {background-color: #d4ebff;}#sk-container-id-2 div.sk-label input.sk-toggleable__control:checked~label.sk-toggleable__label {background-color: #d4ebff;}#sk-container-id-2 input.sk-hidden--visually {border: 0;clip: rect(1px 1px 1px 1px);clip: rect(1px, 1px, 1px, 1px);height: 1px;margin: -1px;overflow: hidden;padding: 0;position: absolute;width: 1px;}#sk-container-id-2 div.sk-estimator {font-family: monospace;background-color: #f0f8ff;border: 1px dotted black;border-radius: 0.25em;box-sizing: border-box;margin-bottom: 0.5em;}#sk-container-id-2 div.sk-estimator:hover {background-color: #d4ebff;}#sk-container-id-2 div.sk-parallel-item::after {content: \"\";width: 100%;border-bottom: 1px solid gray;flex-grow: 1;}#sk-container-id-2 div.sk-label:hover label.sk-toggleable__label {background-color: #d4ebff;}#sk-container-id-2 div.sk-serial::before {content: \"\";position: absolute;border-left: 1px solid gray;box-sizing: border-box;top: 0;bottom: 0;left: 50%;z-index: 0;}#sk-container-id-2 div.sk-serial {display: flex;flex-direction: column;align-items: center;background-color: white;padding-right: 0.2em;padding-left: 0.2em;position: relative;}#sk-container-id-2 div.sk-item {position: relative;z-index: 1;}#sk-container-id-2 div.sk-parallel {display: flex;align-items: stretch;justify-content: center;background-color: white;position: relative;}#sk-container-id-2 div.sk-item::before, #sk-container-id-2 div.sk-parallel-item::before {content: \"\";position: absolute;border-left: 1px solid gray;box-sizing: border-box;top: 0;bottom: 0;left: 50%;z-index: -1;}#sk-container-id-2 div.sk-parallel-item {display: flex;flex-direction: column;z-index: 1;position: relative;background-color: white;}#sk-container-id-2 div.sk-parallel-item:first-child::after {align-self: flex-end;width: 50%;}#sk-container-id-2 div.sk-parallel-item:last-child::after {align-self: flex-start;width: 50%;}#sk-container-id-2 div.sk-parallel-item:only-child::after {width: 0;}#sk-container-id-2 div.sk-dashed-wrapped {border: 1px dashed gray;margin: 0 0.4em 0.5em 0.4em;box-sizing: border-box;padding-bottom: 0.4em;background-color: white;}#sk-container-id-2 div.sk-label label {font-family: monospace;font-weight: bold;display: inline-block;line-height: 1.2em;}#sk-container-id-2 div.sk-label-container {text-align: center;}#sk-container-id-2 div.sk-container {/* jupyter's `normalize.less` sets `[hidden] { display: none; }` but bootstrap.min.css set `[hidden] { display: none !important; }` so we also need the `!important` here to be able to override the default hidden behavior on the sphinx rendered scikit-learn.org. See: https://github.com/scikit-learn/scikit-learn/issues/21755 */display: inline-block !important;position: relative;}#sk-container-id-2 div.sk-text-repr-fallback {display: none;}</style><div id=\"sk-container-id-2\" class=\"sk-top-container\"><div class=\"sk-text-repr-fallback\"><pre>CountVectorizer(max_df=0.95, max_features=2500, min_df=5, ngram_range=(1, 2))</pre><b>In a Jupyter environment, please rerun this cell to show the HTML representation or trust the notebook. <br />On GitHub, the HTML representation is unable to render, please try loading this page with nbviewer.org.</b></div><div class=\"sk-container\" hidden><div class=\"sk-item\"><div class=\"sk-estimator sk-toggleable\"><input class=\"sk-toggleable__control sk-hidden--visually\" id=\"sk-estimator-id-2\" type=\"checkbox\" checked><label for=\"sk-estimator-id-2\" class=\"sk-toggleable__label sk-toggleable__label-arrow\">CountVectorizer</label><div class=\"sk-toggleable__content\"><pre>CountVectorizer(max_df=0.95, max_features=2500, min_df=5, ngram_range=(1, 2))</pre></div></div></div></div></div>"
            ]
          },
          "metadata": {},
          "execution_count": 57
        }
      ],
      "source": [
        "\n",
        "#CountVectorizer con ngrams, max_features, min_df y max_df\n",
        "cv_2= CountVectorizer(ngram_range=(1, 2), max_features=2500, max_df=0.95, min_df=5)\n",
        "\n",
        "cv_2.fit(x_train)\n"
      ]
    },
    {
      "cell_type": "code",
      "execution_count": 58,
      "metadata": {
        "colab": {
          "base_uri": "https://localhost:8080/"
        },
        "id": "h_oskGmUsef9",
        "outputId": "e19fc76f-d347-4f45-ed5c-96c6b81625a9"
      },
      "outputs": [
        {
          "output_type": "stream",
          "name": "stdout",
          "text": [
            "[('best', 178), ('wrapped', 2480), ('stuffed', 2014), ('cream', 477), ('jalapeno', 1077), ('grilled', 931), ('kid', 1103), ('strip', 2010), ('container', 434), ('never', 1348), ('really', 1692), ('delicious', 534), ('feel', 733), ('healthy', 978), ('looked', 1194), ('like', 1159), ('bad', 117), ('tasted', 2064), ('someone', 1929), ('used', 2238)]\n"
          ]
        }
      ],
      "source": [
        "print(list(cv_2.vocabulary_.items())[:20])"
      ]
    },
    {
      "cell_type": "code",
      "execution_count": 59,
      "metadata": {
        "colab": {
          "base_uri": "https://localhost:8080/"
        },
        "id": "ea3p6_qqcW-4",
        "outputId": "583566c9-ddc9-4d69-ef85-c67866d3f97d"
      },
      "outputs": [
        {
          "output_type": "stream",
          "name": "stdout",
          "text": [
            "2500\n"
          ]
        }
      ],
      "source": [
        "print(len(cv_2.vocabulary_))"
      ]
    },
    {
      "cell_type": "code",
      "execution_count": 60,
      "metadata": {
        "id": "ziNM0Keow2y7"
      },
      "outputs": [],
      "source": [
        "import sklearn.preprocessing as pr"
      ]
    },
    {
      "cell_type": "code",
      "execution_count": 61,
      "metadata": {
        "id": "nAlQcIk5URYZ"
      },
      "outputs": [],
      "source": [
        "#Vamos a comparar ambos modelos con una regresión logistica\n"
      ]
    },
    {
      "cell_type": "markdown",
      "metadata": {
        "id": "QoZJZFlQwVKM"
      },
      "source": [
        "Palabras con el TF-IDF en alguna review\n"
      ]
    },
    {
      "cell_type": "code",
      "execution_count": 62,
      "metadata": {
        "colab": {
          "base_uri": "https://localhost:8080/"
        },
        "id": "gv0AlFxswR_z",
        "outputId": "69a7a2f0-5b26-4c0b-86b5-49ee6160e76e"
      },
      "outputs": [
        {
          "output_type": "stream",
          "name": "stdout",
          "text": [
            "ID: 48\n",
            "Rating: 1\n",
            "Review: cant wrong vanilla shake hamburger time favorite vanilla shake time favorite\n"
          ]
        }
      ],
      "source": [
        "i = 48 #random.randint(0, len(x_train))\n",
        "print('ID: {}'.format(i))\n",
        "print('Rating: {}'.format(y_train.iloc[i]))\n",
        "print('Review: {}'.format(x_train.iloc[i]))"
      ]
    },
    {
      "cell_type": "code",
      "execution_count": 63,
      "metadata": {
        "colab": {
          "base_uri": "https://localhost:8080/"
        },
        "id": "0KE1fxnbO8wB",
        "outputId": "c836eba0-f0b7-4f4f-8dd4-3d5427bef7f5"
      },
      "outputs": [
        {
          "output_type": "stream",
          "name": "stdout",
          "text": [
            "Accuracy for C=0.01: 0.7668161434977578\n",
            "Accuracy for C=0.05: 0.7865470852017937\n",
            "Accuracy for C=0.25: 0.8116591928251121\n",
            "Accuracy for C=0.5: 0.8197309417040358\n",
            "Accuracy for C=1: 0.8188340807174888\n",
            "Accuracy for C=2: 0.810762331838565\n",
            "Accuracy for C=5: 0.8008968609865471\n",
            "Accuracy for C=10: 0.7991031390134529\n",
            "Accuracy for C=100: 0.7614349775784753\n",
            "Accuracy for C=1000: 0.7291479820627803\n",
            "Modelo usuando TfidfVectorizer\n",
            "Confusion matrix:\n",
            "[[276 114]\n",
            " [188 537]]\n",
            "\n",
            "Classification report:\n",
            "              precision    recall  f1-score   support\n",
            "\n",
            "           0       0.59      0.71      0.65       390\n",
            "           1       0.82      0.74      0.78       725\n",
            "\n",
            "    accuracy                           0.73      1115\n",
            "   macro avg       0.71      0.72      0.71      1115\n",
            "weighted avg       0.74      0.73      0.73      1115\n",
            "\n",
            "Accuracy score:0.8197309417040358\n",
            "The best C:0.5\n"
          ]
        }
      ],
      "source": [
        "X_train_ = cv.fit_transform(x_train)\n",
        "X_test_ = cv.transform(x_test)\n",
        "\n",
        "c_params = [0.01, 0.05, 0.25, 0.5, 1, 2, 5, 10, 100, 1000]\n",
        "\n",
        "train_acc = []\n",
        "test_acc = []\n",
        "for c in c_params:\n",
        "    lr = LogisticRegression(C=c, solver='lbfgs', max_iter=1000, class_weight='balanced')\n",
        "    lr.fit(X_train_, y_train)\n",
        "    \n",
        "    train_predict = lr.predict(X_train_)\n",
        "    test_predict = lr.predict(X_test_)\n",
        "    \n",
        "    print(\"Accuracy for C={}: {}\".format(c, accuracy_score(y_test, test_predict)))\n",
        "    \n",
        "    train_acc.append(accuracy_score(y_train, train_predict))\n",
        "    test_acc.append(accuracy_score(y_test, test_predict))\n",
        "    \n",
        "print(\"Modelo usuando TfidfVectorizer\")\n",
        "print('Confusion matrix:\\n{}'.format(confusion_matrix(y_test, test_predict)))\n",
        "print('\\nClassification report:\\n{}'.format(classification_report(y_test, test_predict)))\n",
        "max_acc = max(test_acc)\n",
        "print('Accuracy score:{}'.format(max_acc))\n",
        "\n",
        "best_index = test_acc.index(max_acc)\n",
        "best_c = c_params[best_index]\n",
        "print('The best C:{}'.format(best_c))"
      ]
    },
    {
      "cell_type": "code",
      "execution_count": 64,
      "metadata": {
        "colab": {
          "base_uri": "https://localhost:8080/"
        },
        "id": "Q-de9k2HgtgI",
        "outputId": "6edb6d49-d10c-40bd-e4f1-1df36adfd892"
      },
      "outputs": [
        {
          "output_type": "stream",
          "name": "stdout",
          "text": [
            "Accuracy for C=0.001: 0.7730941704035874\n",
            "Accuracy for C=0.01: 0.8215246636771301\n",
            "Accuracy for C=0.05: 0.8125560538116592\n",
            "Accuracy for C=0.25: 0.8026905829596412\n",
            "Accuracy for C=0.5: 0.7991031390134529\n",
            "Accuracy for C=1: 0.7946188340807175\n",
            "Accuracy for C=2: 0.7838565022421524\n",
            "Accuracy for C=5: 0.7677130044843049\n",
            "Accuracy for C=10: 0.7614349775784753\n",
            "Accuracy for C=100: 0.7300448430493274\n",
            "Modelo usando CountVectorizer\n",
            "Confussion matrix:\n",
            "[[266 124]\n",
            " [177 548]]\n",
            "\n",
            "Classification report:\n",
            "              precision    recall  f1-score   support\n",
            "\n",
            "           0       0.60      0.68      0.64       390\n",
            "           1       0.82      0.76      0.78       725\n",
            "\n",
            "    accuracy                           0.73      1115\n",
            "   macro avg       0.71      0.72      0.71      1115\n",
            "weighted avg       0.74      0.73      0.73      1115\n",
            "\n",
            "Accuracy score:0.8215246636771301\n",
            "The best C:0.01\n"
          ]
        }
      ],
      "source": [
        "\n",
        "X_train_ = cv_2.fit_transform(x_train)\n",
        "X_test_ = cv_2.transform(x_test)\n",
        "c_params = [0.001,0.01, 0.05, 0.25, 0.5, 1,2,5,10, 100]\n",
        "\n",
        "train_acc = list()\n",
        "test_acc = list()\n",
        "for c in c_params:\n",
        "    lr = LogisticRegression(C=c, solver='lbfgs', max_iter=2000,class_weight='balanced')\n",
        "\n",
        "    lr.fit(X_train_, y_train)\n",
        "    \n",
        "    train_predict = lr.predict(X_train_)\n",
        "    test_predict = lr.predict(X_test_)\n",
        "    \n",
        "    print (\"Accuracy for C={}: {}\".format(c, accuracy_score(y_test, test_predict)))\n",
        "    \n",
        "    train_acc.append(accuracy_score(y_train, train_predict))\n",
        "    test_acc.append(accuracy_score(y_test, test_predict))\n",
        "\n",
        "print (\"Modelo usando CountVectorizer\")\n",
        "print('Confussion matrix:\\n{}'.format(confusion_matrix(y_test, test_predict)))\n",
        "print('\\nClassification report:\\n{}'.format(classification_report(y_test, test_predict)))\n",
        "print('Accuracy score:{}'.format(max(test_acc)))\n",
        "\n",
        "\n",
        "best_index = test_acc.index(max(test_acc))\n",
        "best_c = c_params[best_index]\n",
        "print('The best C:{}'.format(best_c))"
      ]
    },
    {
      "cell_type": "markdown",
      "source": [
        "Con ambos modelos obtenemos un accurcy y una matriz de confusión muy simales.\n",
        "Ambos modelos predicen correctacmente la clase positiva 1 pero la clase negativa tinenen problemas para su clasificación"
      ],
      "metadata": {
        "id": "FQunudeU6lY-"
      }
    },
    {
      "cell_type": "code",
      "execution_count": 65,
      "metadata": {
        "colab": {
          "base_uri": "https://localhost:8080/",
          "height": 585
        },
        "id": "qyWDW3MCk39f",
        "outputId": "31923a80-fc4e-4a25-f7d2-1c5a9cc504ac"
      },
      "outputs": [
        {
          "output_type": "display_data",
          "data": {
            "text/plain": [
              "<Figure size 864x576 with 1 Axes>"
            ],
            "image/png": "[encoded data removed]"
          },
          "metadata": {
            "needs_background": "light"
          }
        }
      ],
      "source": [
        "plt.figure(figsize=(12, 8))\n",
        "plt.plot(train_acc, label='train')\n",
        "plt.plot(test_acc, label='test')\n",
        "plt.axvline(np.argmax(test_acc), c='g', ls='--', alpha=0.8)\n",
        "plt.title('Accuracy evolution for different C values')\n",
        "plt.xlabel('C')\n",
        "plt.ylabel('Accuracy')\n",
        "plt.legend()\n",
        "plt.grid()\n",
        "plt.xticks(list(range(len(c_params))), c_params)\n",
        "plt.tight_layout()\n",
        "plt.show()"
      ]
    },
    {
      "cell_type": "markdown",
      "source": [
        "El C recomendado seria el 001, a partir de este dato obtendriamos oveffiting"
      ],
      "metadata": {
        "id": "i2CG86psr00K"
      }
    },
    {
      "cell_type": "code",
      "execution_count": 66,
      "metadata": {
        "id": "q8o_2v1clE7F"
      },
      "outputs": [],
      "source": [
        "def predict_review_sentiment(review_index, model):\n",
        "    print('Actual sentiment: {}'.format(df_test.iloc[review_index]['rating_label']))\n",
        "    r = df_test.iloc[review_index]['review']\n",
        "    print('Prediction: {}'.format(lr.predict(cv_2.transform([r]))))"
      ]
    },
    {
      "cell_type": "code",
      "execution_count": 67,
      "metadata": {
        "colab": {
          "base_uri": "https://localhost:8080/"
        },
        "id": "ZG1txBhQlLLL",
        "outputId": "e1bf8787-6283-4b09-d4a3-f77396fb11a1"
      },
      "outputs": [
        {
          "output_type": "stream",
          "name": "stdout",
          "text": [
            "\n",
            "Review no. 523\n",
            "Actual sentiment: 1\n",
            "Prediction: [1]\n",
            "\n",
            "Review no. 187\n",
            "Actual sentiment: 1\n",
            "Prediction: [1]\n",
            "\n",
            "Review no. 429\n",
            "Actual sentiment: 1\n",
            "Prediction: [1]\n",
            "\n",
            "Review no. 571\n",
            "Actual sentiment: 1\n",
            "Prediction: [1]\n",
            "\n",
            "Review no. 115\n",
            "Actual sentiment: 1\n",
            "Prediction: [1]\n"
          ]
        }
      ],
      "source": [
        "for i in random.sample(range(0, len(df_test)), 5):\n",
        "    print('\\nReview no. {}'.format(i))\n",
        "    predict_review_sentiment(i, lr)\n"
      ]
    },
    {
      "cell_type": "code",
      "execution_count": null,
      "metadata": {
        "id": "votrDgKUaRaV"
      },
      "outputs": [],
      "source": []
    },
    {
      "cell_type": "code",
      "execution_count": 68,
      "metadata": {
        "colab": {
          "base_uri": "https://localhost:8080/"
        },
        "id": "OdvLRDBlr6eU",
        "outputId": "c968b750-d96e-4448-f0df-76e7a05580fd"
      },
      "outputs": [
        {
          "output_type": "stream",
          "name": "stdout",
          "text": [
            "\n",
            "Review no. 503\n",
            "Actual sentiment: 0\n",
            "Prediction: [0]\n",
            "\n",
            "Review no. 117\n",
            "Actual sentiment: 0\n",
            "Prediction: [0]\n",
            "\n",
            "Review no. 23\n",
            "Actual sentiment: 0\n",
            "Prediction: [1]\n",
            "\n",
            "Review no. 401\n",
            "Actual sentiment: 0\n",
            "Prediction: [1]\n",
            "how can you screw up eggs?\n",
            "\n",
            " la review normalizada es: \n",
            " screw up screw up\n",
            "\n",
            " la review normalizada es: \n",
            " hand cut fry hanger plate pictured hanger wa cooked requested medium come piece cut up white asparagus no real filling side definitely not worth twenty-five maybe twelve best due cut lack side youre basically paying twenty-five 7oz hanger hand cut fry lacked flavor visually wa seasoning didnt taste hand cut cut fry wa cooked requested medium cut up up white white asparagus asparagus no no real real filling filling side definitely not not worth worth twenty-five twenty-five maybe maybe twelve best due side youre youre basically basically paying paying twenty-five hand cut cut fry fry lacked lacked flavor flavor visually wa seasoning didnt taste\n"
          ]
        }
      ],
      "source": [
        "\n",
        "df_test\n",
        "x=df_test.loc[df_test[\"rating_label\"] == 0]\n",
        "#print(x)\n",
        "\n",
        "print('\\nReview no. {}'.format(503))\n",
        "predict_review_sentiment(503, lr)\n",
        "print('\\nReview no. {}'.format(117))\n",
        "predict_review_sentiment(117, lr)\n",
        "print('\\nReview no. {}'.format(23))\n",
        "predict_review_sentiment(23, lr)\n",
        "print('\\nReview no. {}'.format(401))\n",
        "predict_review_sentiment(401, lr)\n",
        "df_test.loc[117][\"review\"]\n",
        "print(df_test['review'][23])\n",
        "\n",
        "print(\"\\n la review normalizada es: \\n\", nltk_cleaner(df_test['review'][23], tokenizer, stop_words, lemmatizer))\n",
        "print(\"\\n la review normalizada es: \\n\", nltk_cleaner(df_test['review'][401], tokenizer, stop_words, lemmatizer))"
      ]
    },
    {
      "cell_type": "markdown",
      "source": [
        "#Cambiamos la regresion logistica con modelos RandomForestClassifier y GradientBoostingClassifier"
      ],
      "metadata": {
        "id": "FjWEyq1g83aU"
      }
    },
    {
      "cell_type": "code",
      "execution_count": 69,
      "metadata": {
        "colab": {
          "base_uri": "https://localhost:8080/"
        },
        "id": "sB-KXiI1l-Zu",
        "outputId": "50446fab-629b-475e-9c3d-b724dddccf5b"
      },
      "outputs": [
        {
          "output_type": "stream",
          "name": "stdout",
          "text": [
            "Accuracy for n_estimators=10, max_depth=1, min_samples_split=2, min_samples_leaf=1: 0.6915\n",
            "Accuracy for n_estimators=10, max_depth=1, min_samples_split=2, min_samples_leaf=2: 0.6915\n",
            "Accuracy for n_estimators=10, max_depth=1, min_samples_split=2, min_samples_leaf=4: 0.6915\n",
            "Accuracy for n_estimators=10, max_depth=1, min_samples_split=5, min_samples_leaf=1: 0.6915\n",
            "Accuracy for n_estimators=10, max_depth=1, min_samples_split=5, min_samples_leaf=2: 0.6915\n",
            "Accuracy for n_estimators=10, max_depth=1, min_samples_split=5, min_samples_leaf=4: 0.6915\n",
            "Accuracy for n_estimators=10, max_depth=1, min_samples_split=10, min_samples_leaf=1: 0.6915\n",
            "Accuracy for n_estimators=10, max_depth=1, min_samples_split=10, min_samples_leaf=2: 0.6915\n",
            "Accuracy for n_estimators=10, max_depth=1, min_samples_split=10, min_samples_leaf=4: 0.6915\n",
            "Accuracy for n_estimators=10, max_depth=5, min_samples_split=2, min_samples_leaf=1: 0.7094\n",
            "Accuracy for n_estimators=10, max_depth=5, min_samples_split=2, min_samples_leaf=2: 0.7112\n",
            "Accuracy for n_estimators=10, max_depth=5, min_samples_split=2, min_samples_leaf=4: 0.7094\n",
            "Accuracy for n_estimators=10, max_depth=5, min_samples_split=5, min_samples_leaf=1: 0.7085\n",
            "Accuracy for n_estimators=10, max_depth=5, min_samples_split=5, min_samples_leaf=2: 0.7094\n",
            "Accuracy for n_estimators=10, max_depth=5, min_samples_split=5, min_samples_leaf=4: 0.7094\n",
            "Accuracy for n_estimators=10, max_depth=5, min_samples_split=10, min_samples_leaf=1: 0.7076\n",
            "Accuracy for n_estimators=10, max_depth=5, min_samples_split=10, min_samples_leaf=2: 0.7103\n",
            "Accuracy for n_estimators=10, max_depth=5, min_samples_split=10, min_samples_leaf=4: 0.7094\n",
            "Accuracy for n_estimators=10, max_depth=10, min_samples_split=2, min_samples_leaf=1: 0.7390\n",
            "Accuracy for n_estimators=10, max_depth=10, min_samples_split=2, min_samples_leaf=2: 0.7596\n",
            "Accuracy for n_estimators=10, max_depth=10, min_samples_split=2, min_samples_leaf=4: 0.7578\n",
            "Accuracy for n_estimators=10, max_depth=10, min_samples_split=5, min_samples_leaf=1: 0.7417\n",
            "Accuracy for n_estimators=10, max_depth=10, min_samples_split=5, min_samples_leaf=2: 0.7578\n",
            "Accuracy for n_estimators=10, max_depth=10, min_samples_split=5, min_samples_leaf=4: 0.7578\n",
            "Accuracy for n_estimators=10, max_depth=10, min_samples_split=10, min_samples_leaf=1: 0.7516\n",
            "Accuracy for n_estimators=10, max_depth=10, min_samples_split=10, min_samples_leaf=2: 0.7578\n",
            "Accuracy for n_estimators=10, max_depth=10, min_samples_split=10, min_samples_leaf=4: 0.7552\n",
            "Accuracy for n_estimators=10, max_depth=20, min_samples_split=2, min_samples_leaf=1: 0.7704\n",
            "Accuracy for n_estimators=10, max_depth=20, min_samples_split=2, min_samples_leaf=2: 0.7749\n",
            "Accuracy for n_estimators=10, max_depth=20, min_samples_split=2, min_samples_leaf=4: 0.7839\n",
            "Accuracy for n_estimators=10, max_depth=20, min_samples_split=5, min_samples_leaf=1: 0.7794\n",
            "Accuracy for n_estimators=10, max_depth=20, min_samples_split=5, min_samples_leaf=2: 0.7722\n",
            "Accuracy for n_estimators=10, max_depth=20, min_samples_split=5, min_samples_leaf=4: 0.7839\n",
            "Accuracy for n_estimators=10, max_depth=20, min_samples_split=10, min_samples_leaf=1: 0.7587\n",
            "Accuracy for n_estimators=10, max_depth=20, min_samples_split=10, min_samples_leaf=2: 0.7758\n",
            "Accuracy for n_estimators=10, max_depth=20, min_samples_split=10, min_samples_leaf=4: 0.7740\n",
            "Accuracy for n_estimators=10, max_depth=30, min_samples_split=2, min_samples_leaf=1: 0.7821\n",
            "Accuracy for n_estimators=10, max_depth=30, min_samples_split=2, min_samples_leaf=2: 0.7812\n",
            "Accuracy for n_estimators=10, max_depth=30, min_samples_split=2, min_samples_leaf=4: 0.7722\n",
            "Accuracy for n_estimators=10, max_depth=30, min_samples_split=5, min_samples_leaf=1: 0.7812\n",
            "Accuracy for n_estimators=10, max_depth=30, min_samples_split=5, min_samples_leaf=2: 0.7731\n",
            "Accuracy for n_estimators=10, max_depth=30, min_samples_split=5, min_samples_leaf=4: 0.7722\n",
            "Accuracy for n_estimators=10, max_depth=30, min_samples_split=10, min_samples_leaf=1: 0.7713\n",
            "Accuracy for n_estimators=10, max_depth=30, min_samples_split=10, min_samples_leaf=2: 0.7767\n",
            "Accuracy for n_estimators=10, max_depth=30, min_samples_split=10, min_samples_leaf=4: 0.7794\n",
            "Accuracy for n_estimators=50, max_depth=1, min_samples_split=2, min_samples_leaf=1: 0.7049\n",
            "Accuracy for n_estimators=50, max_depth=1, min_samples_split=2, min_samples_leaf=2: 0.7049\n",
            "Accuracy for n_estimators=50, max_depth=1, min_samples_split=2, min_samples_leaf=4: 0.7049\n",
            "Accuracy for n_estimators=50, max_depth=1, min_samples_split=5, min_samples_leaf=1: 0.7049\n",
            "Accuracy for n_estimators=50, max_depth=1, min_samples_split=5, min_samples_leaf=2: 0.7049\n",
            "Accuracy for n_estimators=50, max_depth=1, min_samples_split=5, min_samples_leaf=4: 0.7049\n",
            "Accuracy for n_estimators=50, max_depth=1, min_samples_split=10, min_samples_leaf=1: 0.7049\n",
            "Accuracy for n_estimators=50, max_depth=1, min_samples_split=10, min_samples_leaf=2: 0.7049\n",
            "Accuracy for n_estimators=50, max_depth=1, min_samples_split=10, min_samples_leaf=4: 0.7049\n",
            "Accuracy for n_estimators=50, max_depth=5, min_samples_split=2, min_samples_leaf=1: 0.7713\n",
            "Accuracy for n_estimators=50, max_depth=5, min_samples_split=2, min_samples_leaf=2: 0.7668\n",
            "Accuracy for n_estimators=50, max_depth=5, min_samples_split=2, min_samples_leaf=4: 0.7731\n",
            "Accuracy for n_estimators=50, max_depth=5, min_samples_split=5, min_samples_leaf=1: 0.7632\n",
            "Accuracy for n_estimators=50, max_depth=5, min_samples_split=5, min_samples_leaf=2: 0.7659\n",
            "Accuracy for n_estimators=50, max_depth=5, min_samples_split=5, min_samples_leaf=4: 0.7731\n",
            "Accuracy for n_estimators=50, max_depth=5, min_samples_split=10, min_samples_leaf=1: 0.7668\n",
            "Accuracy for n_estimators=50, max_depth=5, min_samples_split=10, min_samples_leaf=2: 0.7695\n",
            "Accuracy for n_estimators=50, max_depth=5, min_samples_split=10, min_samples_leaf=4: 0.7740\n",
            "Accuracy for n_estimators=50, max_depth=10, min_samples_split=2, min_samples_leaf=1: 0.7812\n",
            "Accuracy for n_estimators=50, max_depth=10, min_samples_split=2, min_samples_leaf=2: 0.7848\n",
            "Accuracy for n_estimators=50, max_depth=10, min_samples_split=2, min_samples_leaf=4: 0.7874\n",
            "Accuracy for n_estimators=50, max_depth=10, min_samples_split=5, min_samples_leaf=1: 0.7821\n",
            "Accuracy for n_estimators=50, max_depth=10, min_samples_split=5, min_samples_leaf=2: 0.7874\n",
            "Accuracy for n_estimators=50, max_depth=10, min_samples_split=5, min_samples_leaf=4: 0.7874\n",
            "Accuracy for n_estimators=50, max_depth=10, min_samples_split=10, min_samples_leaf=1: 0.7874\n",
            "Accuracy for n_estimators=50, max_depth=10, min_samples_split=10, min_samples_leaf=2: 0.7883\n",
            "Accuracy for n_estimators=50, max_depth=10, min_samples_split=10, min_samples_leaf=4: 0.7892\n",
            "Accuracy for n_estimators=50, max_depth=20, min_samples_split=2, min_samples_leaf=1: 0.7901\n",
            "Accuracy for n_estimators=50, max_depth=20, min_samples_split=2, min_samples_leaf=2: 0.7982\n",
            "Accuracy for n_estimators=50, max_depth=20, min_samples_split=2, min_samples_leaf=4: 0.8063\n",
            "Accuracy for n_estimators=50, max_depth=20, min_samples_split=5, min_samples_leaf=1: 0.8027\n",
            "Accuracy for n_estimators=50, max_depth=20, min_samples_split=5, min_samples_leaf=2: 0.8027\n",
            "Accuracy for n_estimators=50, max_depth=20, min_samples_split=5, min_samples_leaf=4: 0.8063\n",
            "Accuracy for n_estimators=50, max_depth=20, min_samples_split=10, min_samples_leaf=1: 0.7982\n",
            "Accuracy for n_estimators=50, max_depth=20, min_samples_split=10, min_samples_leaf=2: 0.7955\n",
            "Accuracy for n_estimators=50, max_depth=20, min_samples_split=10, min_samples_leaf=4: 0.7946\n",
            "Accuracy for n_estimators=50, max_depth=30, min_samples_split=2, min_samples_leaf=1: 0.8045\n",
            "Accuracy for n_estimators=50, max_depth=30, min_samples_split=2, min_samples_leaf=2: 0.8072\n",
            "Accuracy for n_estimators=50, max_depth=30, min_samples_split=2, min_samples_leaf=4: 0.8009\n",
            "Accuracy for n_estimators=50, max_depth=30, min_samples_split=5, min_samples_leaf=1: 0.8018\n",
            "Accuracy for n_estimators=50, max_depth=30, min_samples_split=5, min_samples_leaf=2: 0.8018\n",
            "Accuracy for n_estimators=50, max_depth=30, min_samples_split=5, min_samples_leaf=4: 0.8009\n",
            "Accuracy for n_estimators=50, max_depth=30, min_samples_split=10, min_samples_leaf=1: 0.8108\n",
            "Accuracy for n_estimators=50, max_depth=30, min_samples_split=10, min_samples_leaf=2: 0.8018\n",
            "Accuracy for n_estimators=50, max_depth=30, min_samples_split=10, min_samples_leaf=4: 0.8054\n",
            "Accuracy for n_estimators=100, max_depth=1, min_samples_split=2, min_samples_leaf=1: 0.7543\n",
            "Accuracy for n_estimators=100, max_depth=1, min_samples_split=2, min_samples_leaf=2: 0.7543\n",
            "Accuracy for n_estimators=100, max_depth=1, min_samples_split=2, min_samples_leaf=4: 0.7543\n",
            "Accuracy for n_estimators=100, max_depth=1, min_samples_split=5, min_samples_leaf=1: 0.7543\n",
            "Accuracy for n_estimators=100, max_depth=1, min_samples_split=5, min_samples_leaf=2: 0.7543\n",
            "Accuracy for n_estimators=100, max_depth=1, min_samples_split=5, min_samples_leaf=4: 0.7543\n",
            "Accuracy for n_estimators=100, max_depth=1, min_samples_split=10, min_samples_leaf=1: 0.7543\n",
            "Accuracy for n_estimators=100, max_depth=1, min_samples_split=10, min_samples_leaf=2: 0.7543\n",
            "Accuracy for n_estimators=100, max_depth=1, min_samples_split=10, min_samples_leaf=4: 0.7543\n",
            "Accuracy for n_estimators=100, max_depth=5, min_samples_split=2, min_samples_leaf=1: 0.7901\n",
            "Accuracy for n_estimators=100, max_depth=5, min_samples_split=2, min_samples_leaf=2: 0.7937\n",
            "Accuracy for n_estimators=100, max_depth=5, min_samples_split=2, min_samples_leaf=4: 0.7955\n",
            "Accuracy for n_estimators=100, max_depth=5, min_samples_split=5, min_samples_leaf=1: 0.7928\n",
            "Accuracy for n_estimators=100, max_depth=5, min_samples_split=5, min_samples_leaf=2: 0.7937\n",
            "Accuracy for n_estimators=100, max_depth=5, min_samples_split=5, min_samples_leaf=4: 0.7955\n",
            "Accuracy for n_estimators=100, max_depth=5, min_samples_split=10, min_samples_leaf=1: 0.7937\n",
            "Accuracy for n_estimators=100, max_depth=5, min_samples_split=10, min_samples_leaf=2: 0.7946\n",
            "Accuracy for n_estimators=100, max_depth=5, min_samples_split=10, min_samples_leaf=4: 0.7982\n",
            "Accuracy for n_estimators=100, max_depth=10, min_samples_split=2, min_samples_leaf=1: 0.8000\n",
            "Accuracy for n_estimators=100, max_depth=10, min_samples_split=2, min_samples_leaf=2: 0.7973\n",
            "Accuracy for n_estimators=100, max_depth=10, min_samples_split=2, min_samples_leaf=4: 0.8027\n",
            "Accuracy for n_estimators=100, max_depth=10, min_samples_split=5, min_samples_leaf=1: 0.7964\n",
            "Accuracy for n_estimators=100, max_depth=10, min_samples_split=5, min_samples_leaf=2: 0.8000\n",
            "Accuracy for n_estimators=100, max_depth=10, min_samples_split=5, min_samples_leaf=4: 0.8027\n",
            "Accuracy for n_estimators=100, max_depth=10, min_samples_split=10, min_samples_leaf=1: 0.7973\n",
            "Accuracy for n_estimators=100, max_depth=10, min_samples_split=10, min_samples_leaf=2: 0.7973\n",
            "Accuracy for n_estimators=100, max_depth=10, min_samples_split=10, min_samples_leaf=4: 0.8009\n",
            "Accuracy for n_estimators=100, max_depth=20, min_samples_split=2, min_samples_leaf=1: 0.8000\n",
            "Accuracy for n_estimators=100, max_depth=20, min_samples_split=2, min_samples_leaf=2: 0.8099\n",
            "Accuracy for n_estimators=100, max_depth=20, min_samples_split=2, min_samples_leaf=4: 0.8063\n",
            "Accuracy for n_estimators=100, max_depth=20, min_samples_split=5, min_samples_leaf=1: 0.8081\n",
            "Accuracy for n_estimators=100, max_depth=20, min_samples_split=5, min_samples_leaf=2: 0.8143\n",
            "Accuracy for n_estimators=100, max_depth=20, min_samples_split=5, min_samples_leaf=4: 0.8063\n",
            "Accuracy for n_estimators=100, max_depth=20, min_samples_split=10, min_samples_leaf=1: 0.8081\n",
            "Accuracy for n_estimators=100, max_depth=20, min_samples_split=10, min_samples_leaf=2: 0.8099\n",
            "Accuracy for n_estimators=100, max_depth=20, min_samples_split=10, min_samples_leaf=4: 0.8027\n",
            "Accuracy for n_estimators=100, max_depth=30, min_samples_split=2, min_samples_leaf=1: 0.8063\n",
            "Accuracy for n_estimators=100, max_depth=30, min_samples_split=2, min_samples_leaf=2: 0.8063\n",
            "Accuracy for n_estimators=100, max_depth=30, min_samples_split=2, min_samples_leaf=4: 0.8081\n",
            "Accuracy for n_estimators=100, max_depth=30, min_samples_split=5, min_samples_leaf=1: 0.8135\n",
            "Accuracy for n_estimators=100, max_depth=30, min_samples_split=5, min_samples_leaf=2: 0.8045\n",
            "Accuracy for n_estimators=100, max_depth=30, min_samples_split=5, min_samples_leaf=4: 0.8081\n",
            "Accuracy for n_estimators=100, max_depth=30, min_samples_split=10, min_samples_leaf=1: 0.8099\n",
            "Accuracy for n_estimators=100, max_depth=30, min_samples_split=10, min_samples_leaf=2: 0.8090\n",
            "Accuracy for n_estimators=100, max_depth=30, min_samples_split=10, min_samples_leaf=4: 0.7991\n",
            "Accuracy for n_estimators=200, max_depth=1, min_samples_split=2, min_samples_leaf=1: 0.7740\n",
            "Accuracy for n_estimators=200, max_depth=1, min_samples_split=2, min_samples_leaf=2: 0.7740\n",
            "Accuracy for n_estimators=200, max_depth=1, min_samples_split=2, min_samples_leaf=4: 0.7740\n",
            "Accuracy for n_estimators=200, max_depth=1, min_samples_split=5, min_samples_leaf=1: 0.7740\n",
            "Accuracy for n_estimators=200, max_depth=1, min_samples_split=5, min_samples_leaf=2: 0.7740\n",
            "Accuracy for n_estimators=200, max_depth=1, min_samples_split=5, min_samples_leaf=4: 0.7740\n",
            "Accuracy for n_estimators=200, max_depth=1, min_samples_split=10, min_samples_leaf=1: 0.7740\n",
            "Accuracy for n_estimators=200, max_depth=1, min_samples_split=10, min_samples_leaf=2: 0.7740\n",
            "Accuracy for n_estimators=200, max_depth=1, min_samples_split=10, min_samples_leaf=4: 0.7740\n",
            "Accuracy for n_estimators=200, max_depth=5, min_samples_split=2, min_samples_leaf=1: 0.7874\n",
            "Accuracy for n_estimators=200, max_depth=5, min_samples_split=2, min_samples_leaf=2: 0.7901\n",
            "Accuracy for n_estimators=200, max_depth=5, min_samples_split=2, min_samples_leaf=4: 0.7955\n",
            "Accuracy for n_estimators=200, max_depth=5, min_samples_split=5, min_samples_leaf=1: 0.7857\n",
            "Accuracy for n_estimators=200, max_depth=5, min_samples_split=5, min_samples_leaf=2: 0.7901\n",
            "Accuracy for n_estimators=200, max_depth=5, min_samples_split=5, min_samples_leaf=4: 0.7955\n",
            "Accuracy for n_estimators=200, max_depth=5, min_samples_split=10, min_samples_leaf=1: 0.7874\n",
            "Accuracy for n_estimators=200, max_depth=5, min_samples_split=10, min_samples_leaf=2: 0.7901\n",
            "Accuracy for n_estimators=200, max_depth=5, min_samples_split=10, min_samples_leaf=4: 0.7955\n",
            "Accuracy for n_estimators=200, max_depth=10, min_samples_split=2, min_samples_leaf=1: 0.8009\n",
            "Accuracy for n_estimators=200, max_depth=10, min_samples_split=2, min_samples_leaf=2: 0.7928\n",
            "Accuracy for n_estimators=200, max_depth=10, min_samples_split=2, min_samples_leaf=4: 0.7991\n",
            "Accuracy for n_estimators=200, max_depth=10, min_samples_split=5, min_samples_leaf=1: 0.7964\n",
            "Accuracy for n_estimators=200, max_depth=10, min_samples_split=5, min_samples_leaf=2: 0.7991\n",
            "Accuracy for n_estimators=200, max_depth=10, min_samples_split=5, min_samples_leaf=4: 0.7991\n",
            "Accuracy for n_estimators=200, max_depth=10, min_samples_split=10, min_samples_leaf=1: 0.7955\n",
            "Accuracy for n_estimators=200, max_depth=10, min_samples_split=10, min_samples_leaf=2: 0.7928\n",
            "Accuracy for n_estimators=200, max_depth=10, min_samples_split=10, min_samples_leaf=4: 0.7955\n",
            "Accuracy for n_estimators=200, max_depth=20, min_samples_split=2, min_samples_leaf=1: 0.8045\n",
            "Accuracy for n_estimators=200, max_depth=20, min_samples_split=2, min_samples_leaf=2: 0.8081\n",
            "Accuracy for n_estimators=200, max_depth=20, min_samples_split=2, min_samples_leaf=4: 0.8117\n",
            "Accuracy for n_estimators=200, max_depth=20, min_samples_split=5, min_samples_leaf=1: 0.8081\n",
            "Accuracy for n_estimators=200, max_depth=20, min_samples_split=5, min_samples_leaf=2: 0.8117\n",
            "Accuracy for n_estimators=200, max_depth=20, min_samples_split=5, min_samples_leaf=4: 0.8117\n",
            "Accuracy for n_estimators=200, max_depth=20, min_samples_split=10, min_samples_leaf=1: 0.8126\n",
            "Accuracy for n_estimators=200, max_depth=20, min_samples_split=10, min_samples_leaf=2: 0.8117\n",
            "Accuracy for n_estimators=200, max_depth=20, min_samples_split=10, min_samples_leaf=4: 0.8036\n",
            "Accuracy for n_estimators=200, max_depth=30, min_samples_split=2, min_samples_leaf=1: 0.8081\n",
            "Accuracy for n_estimators=200, max_depth=30, min_samples_split=2, min_samples_leaf=2: 0.8072\n",
            "Accuracy for n_estimators=200, max_depth=30, min_samples_split=2, min_samples_leaf=4: 0.8081\n",
            "Accuracy for n_estimators=200, max_depth=30, min_samples_split=5, min_samples_leaf=1: 0.8090\n",
            "Accuracy for n_estimators=200, max_depth=30, min_samples_split=5, min_samples_leaf=2: 0.8072\n",
            "Accuracy for n_estimators=200, max_depth=30, min_samples_split=5, min_samples_leaf=4: 0.8081\n",
            "Accuracy for n_estimators=200, max_depth=30, min_samples_split=10, min_samples_leaf=1: 0.8126\n",
            "Accuracy for n_estimators=200, max_depth=30, min_samples_split=10, min_samples_leaf=2: 0.8099\n",
            "Accuracy for n_estimators=200, max_depth=30, min_samples_split=10, min_samples_leaf=4: 0.8072\n",
            "\n",
            "Best parameters: {'n_estimators': 100, 'max_depth': 20, 'min_samples_split': 5, 'min_samples_leaf': 2}\n",
            "\n",
            "Random Forest:\n",
            "Confussion matrix:\n",
            "[[300  90]\n",
            " [117 608]]\n",
            "\n",
            "Classification report:\n",
            "              precision    recall  f1-score   support\n",
            "\n",
            "           0       0.72      0.77      0.74       390\n",
            "           1       0.87      0.84      0.85       725\n",
            "\n",
            "    accuracy                           0.81      1115\n",
            "   macro avg       0.80      0.80      0.80      1115\n",
            "weighted avg       0.82      0.81      0.82      1115\n",
            "\n",
            "Accuracy score: 0.8143\n"
          ]
        }
      ],
      "source": [
        "from sklearn.ensemble import RandomForestClassifier\n",
        "\n",
        "# Vectorizador\n",
        "cv = TfidfVectorizer(\n",
        "    max_df=0.95,\n",
        "    min_df=3,\n",
        "    max_features=2500,\n",
        "    strip_accents='ascii',\n",
        "    ngram_range=(1, 1)\n",
        ")\n",
        "\n",
        "\n",
        "\n",
        "X_train_ = cv.fit_transform(x_train)\n",
        "X_test_ = cv.transform(x_test)\n",
        "\n",
        "\n",
        "# Parámetros para ajustar el modelo\n",
        "n_estimators = [10, 50, 100, 200]\n",
        "max_depth = [1,5, 10, 20, 30]\n",
        "min_samples_split = [2, 5, 10]\n",
        "min_samples_leaf = [1, 2, 4]\n",
        "\n",
        "# Lista para almacenar los resultados\n",
        "test_acc = []\n",
        "\n",
        "# Ajuste del modelo con cada combinación de parámetros\n",
        "for n in n_estimators:\n",
        "    for d in max_depth:\n",
        "        for s in min_samples_split:\n",
        "            for l in min_samples_leaf:\n",
        "                clf = RandomForestClassifier(n_estimators=n, max_depth=d, \n",
        "                                             min_samples_split=s, min_samples_leaf=l,\n",
        "                                             class_weight='balanced', random_state=42)\n",
        "                clf.fit(X_train_, y_train)\n",
        "                test_predict = clf.predict(X_test_)\n",
        "                score = accuracy_score(y_test, test_predict)\n",
        "                test_acc.append(score)\n",
        "                print(\"Accuracy for n_estimators={}, max_depth={}, min_samples_split={}, min_samples_leaf={}: {:.4f}\".format(\n",
        "                    n, d, s, l, score\n",
        "                ))\n",
        "\n",
        "# Encontrar la mejor combinación de parámetros\n",
        "best_params_idx = np.argmax(test_acc)\n",
        "best_params = {\n",
        "    'n_estimators': n_estimators[best_params_idx // (len(max_depth)*len(min_samples_split)*len(min_samples_leaf))],\n",
        "    'max_depth': max_depth[(best_params_idx // (len(min_samples_split)*len(min_samples_leaf))) % len(max_depth)],\n",
        "    'min_samples_split': min_samples_split[(best_params_idx // len(min_samples_leaf)) % len(min_samples_split)],\n",
        "    'min_samples_leaf': min_samples_leaf[best_params_idx % len(min_samples_leaf)]\n",
        "}\n",
        "print(\"\\nBest parameters:\", best_params)\n",
        "\n",
        "# Entrenar modelo final con los mejores parámetros y mostrar resultados\n",
        "clf = RandomForestClassifier(**best_params, class_weight='balanced', random_state=42)\n",
        "clf.fit(X_train_, y_train)\n",
        "test_predict = clf.predict(X_test_)\n",
        "print(\"\\nRandom Forest:\")\n",
        "print('Confussion matrix:\\n{}'.format(confusion_matrix(y_test, test_predict)))\n",
        "print('\\nClassification report:\\n{}'.format(classification_report(y_test, test_predict)))\n",
        "print('Accuracy score: {:.4f}'.format(accuracy_score(y_test, test_predict)))"
      ]
    },
    {
      "cell_type": "code",
      "execution_count": null,
      "metadata": {
        "id": "vnjRaE41uEnk"
      },
      "outputs": [],
      "source": [
        "#Los resultados obtenicos me diante Random Forest han mejorado bastante nuestra solución anterior hecha por regresión logistica"
      ]
    },
    {
      "cell_type": "code",
      "execution_count": 70,
      "metadata": {
        "colab": {
          "base_uri": "https://localhost:8080/"
        },
        "id": "4DAto9UzohlQ",
        "outputId": "060e0291-753b-44f8-ac83-6593d5bd65ce"
      },
      "outputs": [
        {
          "output_type": "stream",
          "name": "stdout",
          "text": [
            "Best parameters: {'learning_rate': 0.5, 'max_depth': 2, 'min_samples_leaf': 1, 'min_samples_split': 5, 'n_estimators': 64, 'subsample': 1.0}\n",
            "[GradientBoostingClassifier] Accuracy: train = 0.7734, test = 0.8045\n"
          ]
        }
      ],
      "source": [
        "from sklearn.ensemble import GradientBoostingClassifier\n",
        "from sklearn.model_selection import GridSearchCV\n",
        "\n",
        "def classify_gboost(X_train, X_test, y_train, y_test):        \n",
        "    # Definir una cuadrícula de parámetros para explorar\n",
        "    param_grid = {\n",
        "        'n_estimators': [16, 32, 64],\n",
        "        'learning_rate': [0.1, 0.5, 1.0],\n",
        "        'max_depth': [1, 2, 3],\n",
        "        'subsample': [0.5, 0.75, 1.0],\n",
        "        'min_samples_split': [2, 5],\n",
        "        'min_samples_leaf': [1, 2]\n",
        "    }\n",
        "    \n",
        "    # Inicializar el clasificador\n",
        "    clf = GradientBoostingClassifier(random_state=42)#class_weight='balanced', no puedo utilizar la clase balanceada debido a la verisón de Sklearn\n",
        "    \n",
        "    # Usar GridSearchCV para ajustar el modelo con todas las combinaciones posibles de parámetros\n",
        "    grid_search = GridSearchCV(clf, param_grid, cv=5, n_jobs=-1)\n",
        "    grid_search.fit(X_train, y_train)\n",
        "    \n",
        "    # Imprimir los mejores parámetros y puntajes de precisión para el conjunto de entrenamiento y prueba\n",
        "    print(\"Best parameters:\", grid_search.best_params_)\n",
        "    print(\"[{}] Accuracy: train = {:.4f}, test = {:.4f}\".format(\n",
        "            clf.__class__.__name__,\n",
        "            grid_search.best_score_,\n",
        "            grid_search.score(X_test, y_test)))\n",
        "    \n",
        "    return grid_search.best_estimator_\n",
        "\n",
        "\n",
        "clf2 = classify_gboost(X_train_, X_test_, y_train, y_test)"
      ]
    },
    {
      "cell_type": "code",
      "execution_count": 71,
      "metadata": {
        "colab": {
          "base_uri": "https://localhost:8080/"
        },
        "id": "7LZXi53h9KJK",
        "outputId": "eae60e47-1387-48d1-faea-111c4abcb540"
      },
      "outputs": [
        {
          "output_type": "stream",
          "name": "stdout",
          "text": [
            "\n",
            "Gradient Boosting Classifier:\n",
            "Confusion matrix:\n",
            "[[290 100]\n",
            " [123 602]]\n",
            "\n",
            "Classification report:\n",
            "              precision    recall  f1-score   support\n",
            "\n",
            "           0       0.70      0.74      0.72       390\n",
            "           1       0.86      0.83      0.84       725\n",
            "\n",
            "    accuracy                           0.80      1115\n",
            "   macro avg       0.78      0.79      0.78      1115\n",
            "weighted avg       0.80      0.80      0.80      1115\n",
            "\n",
            "Accuracy score: 0.8000\n"
          ]
        }
      ],
      "source": [
        "# Entrenar modelo GradientBoostingClassifier con los mejores parámetros y mostrar resultados\n",
        "clf2 = GradientBoostingClassifier(**best_params, random_state=42)\n",
        "clf2.fit(X_train_, y_train)\n",
        "test_predict = clf2.predict(X_test_)\n",
        "print(\"\\nGradient Boosting Classifier:\")\n",
        "print('Confusion matrix:\\n{}'.format(confusion_matrix(y_test, test_predict)))\n",
        "print('\\nClassification report:\\n{}'.format(classification_report(y_test, test_predict)))\n",
        "print('Accuracy score: {:.4f}'.format(accuracy_score(y_test, test_predict)))"
      ]
    },
    {
      "cell_type": "markdown",
      "source": [
        "El modelo GradientBoostingClassifier nos da un resultado peor que el Random Forest para los comentarios negativos"
      ],
      "metadata": {
        "id": "hJeo0QO2-Il1"
      }
    },
    {
      "cell_type": "markdown",
      "metadata": {
        "id": "eZ70qyPBJmU6"
      },
      "source": [
        "# Aplicamos ahora Deep Learning\n",
        "\n"
      ]
    },
    {
      "cell_type": "code",
      "execution_count": 72,
      "metadata": {
        "id": "5dV0XiClPQce"
      },
      "outputs": [],
      "source": [
        "# Media de palabras en la reviews.\n",
        "# primero hacer el análisis para ver el número medio y máxcimo de palabras en las revies.\n",
        "#si una frase se queda corta, la palabras restantes se rellenaran de 0. Esto sería negativo por lo que hay que un contrar un valor optimo para no cortar muchos comentarios y no introducir muchos 0\n",
        "max = 0\n",
        "mean = []\n",
        "for example in x_train:\n",
        "  length = len(example)\n",
        "  mean.append(len(example))\n",
        "  if length > max:\n",
        "    max = length"
      ]
    },
    {
      "cell_type": "markdown",
      "metadata": {
        "id": "-euMZluFJmU7"
      },
      "source": [
        "## Media y Moda"
      ]
    },
    {
      "cell_type": "code",
      "execution_count": 73,
      "metadata": {
        "id": "uQOwOe1sQ6LG"
      },
      "outputs": [],
      "source": [
        "import statistics"
      ]
    },
    {
      "cell_type": "markdown",
      "source": [
        "Vamos a realizar diferentes calculos para elegir una longitud optima para nuestras reviews"
      ],
      "metadata": {
        "id": "jpp1RunosnL_"
      }
    },
    {
      "cell_type": "code",
      "execution_count": 74,
      "metadata": {
        "colab": {
          "base_uri": "https://localhost:8080/"
        },
        "id": "5ut5JJCvPWDH",
        "outputId": "e958eded-e6b5-4164-ad56-a9500aea139d"
      },
      "outputs": [
        {
          "output_type": "stream",
          "name": "stdout",
          "text": [
            "La media es:  165.06772106398276\n",
            "La moda es: 53\n",
            "53     50\n",
            "56     49\n",
            "73     48\n",
            "33     47\n",
            "31     45\n",
            "       ..\n",
            "541     1\n",
            "400     1\n",
            "805     1\n",
            "606     1\n",
            "368     1\n",
            "Length: 700, dtype: int64\n",
            "6955\n",
            "Cantidad de datos por encima de la moda: 5415\n",
            "Cantidad de datos por encima de la media: 2411\n",
            "Cantidad de datos por encima de la dato: 1867\n",
            "Cantidad de datos por debajo de la dato: 5075\n"
          ]
        }
      ],
      "source": [
        "result_mean=sum(mean) / len(mean)\n",
        "print(\"La media es: \",sum(mean) / len(mean))\n",
        "mode = statistics.mode(mean)\n",
        "print(\"La moda es:\", mode)\n",
        "datos_serie = pd.Series(mean)\n",
        "frecuencias = datos_serie.value_counts()\n",
        "print(frecuencias)\n",
        "print(len(mean))\n",
        "\n",
        "count_above_mode=0\n",
        "for example in x_train:\n",
        "  length = len(example)\n",
        "  if length > mode:\n",
        "    count_above_mode+=1\n",
        "print(\"Cantidad de datos por encima de la moda:\", count_above_mode)\n",
        "\n",
        "count_above_mean=0\n",
        "for example in x_train:\n",
        "  length = len(example)\n",
        "  if length > result_mean:\n",
        "    count_above_mean+=1\n",
        "print(\"Cantidad de datos por encima de la media:\", count_above_mean)\n",
        "#Me parece que voy a perder bastante información si elijo la media asi que voy a elegir un valor de cantidad máx superior\n",
        "count_above=0\n",
        "for example in x_train:\n",
        "  length = len(example)\n",
        "  if length > 200:\n",
        "    count_above+=1\n",
        "print(\"Cantidad de datos por encima de la dato:\", count_above)\n",
        "\n",
        "count_down=0\n",
        "for example in x_train:\n",
        "  length = len(example)\n",
        "  if length < 200:\n",
        "    count_down+=1\n",
        "print(\"Cantidad de datos por debajo de la dato:\", count_down)\n",
        "#Vamos a elgir como dato 200 "
      ]
    },
    {
      "cell_type": "markdown",
      "metadata": {
        "id": "UaEwUHnkJmU7"
      },
      "source": [
        "## maxima"
      ]
    },
    {
      "cell_type": "code",
      "execution_count": 75,
      "metadata": {
        "colab": {
          "base_uri": "https://localhost:8080/"
        },
        "id": "Ifu8Cp_6PaW7",
        "outputId": "555b79df-1b80-47e9-8330-3640d5076df7"
      },
      "outputs": [
        {
          "output_type": "execute_result",
          "data": {
            "text/plain": [
              "1912"
            ]
          },
          "metadata": {},
          "execution_count": 75
        }
      ],
      "source": [
        "max"
      ]
    },
    {
      "cell_type": "code",
      "execution_count": 76,
      "metadata": {
        "id": "ncKRqoxXUkNU"
      },
      "outputs": [],
      "source": [
        "from tensorflow.keras.utils import pad_sequences"
      ]
    },
    {
      "cell_type": "code",
      "execution_count": null,
      "metadata": {
        "id": "p1ybn8UmVPNM"
      },
      "outputs": [],
      "source": [
        "#Creamos un modelo simple de deeplearning\n"
      ]
    },
    {
      "cell_type": "code",
      "execution_count": 77,
      "metadata": {
        "colab": {
          "base_uri": "https://localhost:8080/"
        },
        "id": "7H4fSTStaEwe",
        "outputId": "1c162e29-c353-4876-ea3b-2701cbbbce19"
      },
      "outputs": [
        {
          "output_type": "stream",
          "name": "stdout",
          "text": [
            "Epoch 1/10\n",
            "218/218 [==============================] - 6s 4ms/step - loss: 0.6255 - accuracy: 0.6618 - val_loss: 0.4992 - val_accuracy: 0.8197\n",
            "Epoch 2/10\n",
            "218/218 [==============================] - 1s 3ms/step - loss: 0.4567 - accuracy: 0.8116 - val_loss: 0.4198 - val_accuracy: 0.8251\n",
            "Epoch 3/10\n",
            "218/218 [==============================] - 1s 3ms/step - loss: 0.3869 - accuracy: 0.8416 - val_loss: 0.4022 - val_accuracy: 0.8323\n",
            "Epoch 4/10\n",
            "218/218 [==============================] - 1s 4ms/step - loss: 0.3529 - accuracy: 0.8561 - val_loss: 0.4086 - val_accuracy: 0.8242\n",
            "Epoch 5/10\n",
            "218/218 [==============================] - 1s 5ms/step - loss: 0.3249 - accuracy: 0.8716 - val_loss: 0.4200 - val_accuracy: 0.8161\n",
            "Epoch 6/10\n",
            "218/218 [==============================] - 1s 5ms/step - loss: 0.3045 - accuracy: 0.8791 - val_loss: 0.4300 - val_accuracy: 0.8152\n",
            "Epoch 7/10\n",
            "218/218 [==============================] - 1s 3ms/step - loss: 0.2888 - accuracy: 0.8837 - val_loss: 0.4455 - val_accuracy: 0.8045\n",
            "Epoch 8/10\n",
            "218/218 [==============================] - 1s 3ms/step - loss: 0.2727 - accuracy: 0.8889 - val_loss: 0.4590 - val_accuracy: 0.7991\n",
            "Epoch 9/10\n",
            "218/218 [==============================] - 1s 3ms/step - loss: 0.2526 - accuracy: 0.9017 - val_loss: 0.4686 - val_accuracy: 0.8045\n",
            "Epoch 10/10\n",
            "218/218 [==============================] - 1s 3ms/step - loss: 0.2409 - accuracy: 0.9065 - val_loss: 0.4758 - val_accuracy: 0.8081\n",
            "35/35 [==============================] - 0s 2ms/step\n",
            "Confusion matrix:\n",
            "[[291  99]\n",
            " [115 610]]\n",
            "\n",
            "Classification report:\n",
            "              precision    recall  f1-score   support\n",
            "\n",
            "           0       0.72      0.75      0.73       390\n",
            "           1       0.86      0.84      0.85       725\n",
            "\n",
            "    accuracy                           0.81      1115\n",
            "   macro avg       0.79      0.79      0.79      1115\n",
            "weighted avg       0.81      0.81      0.81      1115\n",
            "\n",
            "Accuracy score: 0.8081\n"
          ]
        }
      ],
      "source": [
        "from keras.models import Sequential\n",
        "from keras.layers import Dense, Dropout\n",
        "from sklearn.svm import SVC\n",
        "from sklearn.metrics import confusion_matrix, classification_report, accuracy_score\n",
        "#Modelo simple con una capa densa \n",
        "# Vectorizador\n",
        "cv = TfidfVectorizer(\n",
        "    max_df=0.95,\n",
        "    min_df=3,\n",
        "    max_features=2500,\n",
        "    strip_accents='ascii',\n",
        "    ngram_range=(1, 1)\n",
        ")\n",
        "\n",
        "X_train_ = cv.fit_transform(x_train)\n",
        "X_test_ = cv.transform(x_test)\n",
        "\n",
        "# Crear modelo secuencial\n",
        "model = Sequential()\n",
        "\n",
        "# Añadir capa densa al modelo\n",
        "model.add(Dense(64, input_dim=X_train_.shape[1], activation='relu'))\n",
        "model.add(Dropout(0.5))\n",
        "model.add(Dense(1, activation='sigmoid'))\n",
        "\n",
        "# Compilar modelo\n",
        "model.compile(loss='binary_crossentropy', optimizer='adam', metrics=['accuracy'])\n",
        "\n",
        "X_train_ = X_train_.toarray()\n",
        "X_test_ = X_test_.toarray()\n",
        "\n",
        "# Entrenar modelo\n",
        "model.fit(X_train_, y_train, epochs=10, batch_size=32, validation_data=(X_test_, y_test))\n",
        "\n",
        "test_predict = (model.predict(X_test_) > 0.5).astype(\"int32\")\n",
        "\n",
        "print('Confusion matrix:\\n{}'.format(confusion_matrix(y_test, test_predict)))\n",
        "print('\\nClassification report:\\n{}'.format(classification_report(y_test, test_predict)))\n",
        "print('Accuracy score: {:.4f}'.format(accuracy_score(y_test, test_predict)))"
      ]
    },
    {
      "cell_type": "code",
      "execution_count": 78,
      "metadata": {
        "colab": {
          "base_uri": "https://localhost:8080/",
          "height": 590
        },
        "id": "L8Y6dzcQcjcf",
        "outputId": "2910b6f8-77ff-452a-a322-a60ace1fab14"
      },
      "outputs": [
        {
          "output_type": "stream",
          "name": "stdout",
          "text": [
            "35/35 [==============================] - 0s 1ms/step\n"
          ]
        },
        {
          "output_type": "display_data",
          "data": {
            "text/plain": [
              "<Figure size 432x288 with 2 Axes>"
            ],
            "image/png": "[encoded data removed]"
          },
          "metadata": {
            "needs_background": "light"
          }
        },
        {
          "output_type": "display_data",
          "data": {
            "text/plain": [
              "<Figure size 432x288 with 1 Axes>"
            ],
            "image/png": "[encoded data removed]"
          },
          "metadata": {
            "needs_background": "light"
          }
        }
      ],
      "source": [
        "from sklearn.metrics import confusion_matrix, roc_curve, roc_auc_score\n",
        "import matplotlib.pyplot as plt\n",
        "\n",
        "# Obtener predicciones\n",
        "y_pred = model.predict(X_test_)\n",
        "\n",
        "# Convertir predicciones en etiquetas de clase\n",
        "y_pred = (y_pred > 0.5)\n",
        "\n",
        "# Calcular matriz de confusión\n",
        "cm = confusion_matrix(y_test, y_pred)\n",
        "\n",
        "# Plot matriz de confusión\n",
        "plt.imshow(cm, cmap=plt.cm.Blues)\n",
        "plt.title('Matriz de confusión')\n",
        "plt.colorbar()\n",
        "plt.xticks([0,1], ['Negativo', 'Positivo'])\n",
        "plt.yticks([0,1], ['Negativo', 'Positivo'])\n",
        "plt.xlabel('Etiqueta predicha')\n",
        "plt.ylabel('Etiqueta verdadera')\n",
        "\n",
        "# Plot gráfica ROC\n",
        "fpr, tpr, thresholds = roc_curve(y_test, y_pred)\n",
        "auc = roc_auc_score(y_test, y_pred)\n",
        "\n",
        "plt.figure()\n",
        "plt.plot(fpr, tpr, color='darkorange', lw=2, label='ROC curve (AUC = {:.2f})'.format(auc))\n",
        "plt.plot([0, 1], [0, 1], color='navy', lw=2, linestyle='--')\n",
        "plt.xlim([0.0, 1.0])\n",
        "plt.ylim([0.0, 1.05])\n",
        "plt.xlabel('Tasa de falsos positivos')\n",
        "plt.ylabel('Tasa de verdaderos positivos')\n",
        "plt.title('Gráfica ROC')\n",
        "plt.legend(loc=\"lower right\")\n",
        "plt.show()"
      ]
    },
    {
      "cell_type": "markdown",
      "source": [
        "#Creamos un modelo con una capa LSTM. Ahora vamos a dividir los datos entre train, val y test, para realizar un estudio más completo."
      ],
      "metadata": {
        "id": "jIF0eW8L_UKO"
      }
    },
    {
      "cell_type": "markdown",
      "source": [
        "El modelo 1 utilizamos CountVectorizer, que convierte el texto en una matriz de recuento de palabras, una capa de embedding que inicializa los pesos de la red utilizando la matriz de recuento de palabras generada por CountVectorizer. Ademas añadimos una capa LSTM"
      ],
      "metadata": {
        "id": "dXrkn2vCjx4T"
      }
    },
    {
      "cell_type": "code",
      "execution_count": 80,
      "metadata": {
        "colab": {
          "base_uri": "https://localhost:8080/"
        },
        "id": "rJBO43fuPab-",
        "outputId": "be25d2e7-521f-40d6-bf9e-5521ec7157f6"
      },
      "outputs": [
        {
          "output_type": "stream",
          "name": "stdout",
          "text": [
            "Epoch 1/50\n",
            "157/157 [==============================] - 5s 17ms/step - loss: 0.6891 - accuracy: 0.5486 - val_loss: 0.6865 - val_accuracy: 0.5603\n",
            "Epoch 2/50\n",
            "157/157 [==============================] - 2s 13ms/step - loss: 0.6886 - accuracy: 0.5510 - val_loss: 0.6863 - val_accuracy: 0.5603\n",
            "Epoch 3/50\n",
            "157/157 [==============================] - 2s 13ms/step - loss: 0.6882 - accuracy: 0.5510 - val_loss: 0.6859 - val_accuracy: 0.5603\n",
            "Epoch 4/50\n",
            "157/157 [==============================] - 2s 13ms/step - loss: 0.6884 - accuracy: 0.5510 - val_loss: 0.6859 - val_accuracy: 0.5603\n",
            "Epoch 5/50\n",
            "157/157 [==============================] - 2s 15ms/step - loss: 0.6883 - accuracy: 0.5510 - val_loss: 0.6859 - val_accuracy: 0.5603\n",
            "Epoch 6/50\n",
            "157/157 [==============================] - 2s 14ms/step - loss: 0.6883 - accuracy: 0.5510 - val_loss: 0.6862 - val_accuracy: 0.5603\n",
            "Epoch 7/50\n",
            "157/157 [==============================] - 2s 15ms/step - loss: 0.6880 - accuracy: 0.5510 - val_loss: 0.6859 - val_accuracy: 0.5603\n",
            "Epoch 8/50\n",
            "157/157 [==============================] - 2s 13ms/step - loss: 0.6884 - accuracy: 0.5510 - val_loss: 0.6864 - val_accuracy: 0.5603\n",
            "Epoch 9/50\n",
            "157/157 [==============================] - 2s 13ms/step - loss: 0.6882 - accuracy: 0.5510 - val_loss: 0.6864 - val_accuracy: 0.5603\n",
            "Epoch 10/50\n",
            "157/157 [==============================] - 2s 13ms/step - loss: 0.6882 - accuracy: 0.5510 - val_loss: 0.6861 - val_accuracy: 0.5603\n",
            "Epoch 11/50\n",
            "157/157 [==============================] - 2s 13ms/step - loss: 0.6882 - accuracy: 0.5510 - val_loss: 0.6859 - val_accuracy: 0.5603\n",
            "Epoch 12/50\n",
            "157/157 [==============================] - 2s 13ms/step - loss: 0.6881 - accuracy: 0.5510 - val_loss: 0.6859 - val_accuracy: 0.5603\n",
            "Epoch 13/50\n",
            "157/157 [==============================] - 2s 14ms/step - loss: 0.6882 - accuracy: 0.5510 - val_loss: 0.6861 - val_accuracy: 0.5603\n",
            "Epoch 14/50\n",
            "157/157 [==============================] - 2s 13ms/step - loss: 0.6882 - accuracy: 0.5510 - val_loss: 0.6862 - val_accuracy: 0.5603\n",
            "Epoch 15/50\n",
            "157/157 [==============================] - 2s 12ms/step - loss: 0.6881 - accuracy: 0.5510 - val_loss: 0.6859 - val_accuracy: 0.5603\n",
            "Epoch 16/50\n",
            "157/157 [==============================] - 2s 12ms/step - loss: 0.6880 - accuracy: 0.5510 - val_loss: 0.6860 - val_accuracy: 0.5603\n",
            "Epoch 17/50\n",
            "157/157 [==============================] - 2s 13ms/step - loss: 0.6882 - accuracy: 0.5510 - val_loss: 0.6867 - val_accuracy: 0.5603\n",
            "Epoch 18/50\n",
            "157/157 [==============================] - 2s 12ms/step - loss: 0.6882 - accuracy: 0.5510 - val_loss: 0.6861 - val_accuracy: 0.5603\n",
            "Epoch 19/50\n",
            "157/157 [==============================] - 2s 14ms/step - loss: 0.6881 - accuracy: 0.5510 - val_loss: 0.6862 - val_accuracy: 0.5603\n",
            "Epoch 20/50\n",
            "157/157 [==============================] - 2s 14ms/step - loss: 0.6881 - accuracy: 0.5510 - val_loss: 0.6862 - val_accuracy: 0.5603\n",
            "Epoch 21/50\n",
            "157/157 [==============================] - 2s 13ms/step - loss: 0.6881 - accuracy: 0.5510 - val_loss: 0.6863 - val_accuracy: 0.5603\n",
            "Epoch 22/50\n",
            "157/157 [==============================] - 2s 13ms/step - loss: 0.6881 - accuracy: 0.5510 - val_loss: 0.6860 - val_accuracy: 0.5603\n",
            "Epoch 23/50\n",
            "157/157 [==============================] - 2s 12ms/step - loss: 0.6881 - accuracy: 0.5510 - val_loss: 0.6862 - val_accuracy: 0.5603\n",
            "Epoch 24/50\n",
            "157/157 [==============================] - 2s 12ms/step - loss: 0.6881 - accuracy: 0.5510 - val_loss: 0.6863 - val_accuracy: 0.5603\n",
            "Epoch 25/50\n",
            "157/157 [==============================] - 2s 13ms/step - loss: 0.6881 - accuracy: 0.5510 - val_loss: 0.6861 - val_accuracy: 0.5603\n",
            "Epoch 26/50\n",
            "157/157 [==============================] - 2s 14ms/step - loss: 0.6880 - accuracy: 0.5510 - val_loss: 0.6861 - val_accuracy: 0.5603\n",
            "Epoch 27/50\n",
            "157/157 [==============================] - 2s 14ms/step - loss: 0.6881 - accuracy: 0.5510 - val_loss: 0.6861 - val_accuracy: 0.5603\n",
            "Epoch 28/50\n",
            "157/157 [==============================] - 2s 13ms/step - loss: 0.6880 - accuracy: 0.5510 - val_loss: 0.6863 - val_accuracy: 0.5603\n",
            "Epoch 29/50\n",
            "157/157 [==============================] - 2s 13ms/step - loss: 0.6880 - accuracy: 0.5510 - val_loss: 0.6864 - val_accuracy: 0.5603\n",
            "Epoch 30/50\n",
            "157/157 [==============================] - 2s 13ms/step - loss: 0.6957 - accuracy: 0.5460 - val_loss: 0.6860 - val_accuracy: 0.5603\n",
            "Epoch 31/50\n",
            "157/157 [==============================] - 2s 13ms/step - loss: 0.6895 - accuracy: 0.5510 - val_loss: 0.6853 - val_accuracy: 0.5603\n",
            "Epoch 32/50\n",
            "157/157 [==============================] - 2s 13ms/step - loss: 0.6884 - accuracy: 0.5468 - val_loss: 0.6861 - val_accuracy: 0.5603\n",
            "Epoch 33/50\n",
            "157/157 [==============================] - 2s 14ms/step - loss: 0.6879 - accuracy: 0.5508 - val_loss: 0.6941 - val_accuracy: 0.4386\n",
            "Epoch 34/50\n",
            "157/157 [==============================] - 2s 13ms/step - loss: 0.6891 - accuracy: 0.5504 - val_loss: 0.6867 - val_accuracy: 0.5603\n",
            "Epoch 35/50\n",
            "157/157 [==============================] - 2s 13ms/step - loss: 0.6882 - accuracy: 0.5510 - val_loss: 0.6857 - val_accuracy: 0.5603\n",
            "Epoch 36/50\n",
            "157/157 [==============================] - 2s 13ms/step - loss: 0.6886 - accuracy: 0.5510 - val_loss: 0.6858 - val_accuracy: 0.5603\n",
            "Epoch 37/50\n",
            "157/157 [==============================] - 2s 13ms/step - loss: 0.6889 - accuracy: 0.5510 - val_loss: 0.6861 - val_accuracy: 0.5603\n",
            "Epoch 38/50\n",
            "157/157 [==============================] - 2s 12ms/step - loss: 0.6882 - accuracy: 0.5510 - val_loss: 0.6871 - val_accuracy: 0.5603\n",
            "Epoch 39/50\n",
            "157/157 [==============================] - 2s 15ms/step - loss: 0.6883 - accuracy: 0.5510 - val_loss: 0.6862 - val_accuracy: 0.5603\n",
            "Epoch 40/50\n",
            "157/157 [==============================] - 2s 16ms/step - loss: 0.6882 - accuracy: 0.5490 - val_loss: 0.6856 - val_accuracy: 0.5603\n",
            "Epoch 41/50\n",
            "157/157 [==============================] - 2s 13ms/step - loss: 0.6887 - accuracy: 0.5510 - val_loss: 0.6856 - val_accuracy: 0.5603\n",
            "Epoch 42/50\n",
            "157/157 [==============================] - 2s 13ms/step - loss: 0.6883 - accuracy: 0.5510 - val_loss: 0.6853 - val_accuracy: 0.5603\n",
            "Epoch 43/50\n",
            "157/157 [==============================] - 2s 13ms/step - loss: 0.6884 - accuracy: 0.5510 - val_loss: 0.6881 - val_accuracy: 0.5603\n",
            "Epoch 44/50\n",
            "157/157 [==============================] - 2s 13ms/step - loss: 0.6883 - accuracy: 0.5510 - val_loss: 0.6859 - val_accuracy: 0.5603\n",
            "Epoch 45/50\n",
            "157/157 [==============================] - 2s 13ms/step - loss: 0.6881 - accuracy: 0.5510 - val_loss: 0.6867 - val_accuracy: 0.5603\n",
            "Epoch 46/50\n",
            "157/157 [==============================] - 2s 14ms/step - loss: 0.6884 - accuracy: 0.5510 - val_loss: 0.6860 - val_accuracy: 0.5603\n",
            "Epoch 47/50\n",
            "157/157 [==============================] - 2s 13ms/step - loss: 0.6883 - accuracy: 0.5512 - val_loss: 0.6853 - val_accuracy: 0.5603\n",
            "Epoch 48/50\n",
            "157/157 [==============================] - 2s 13ms/step - loss: 0.6888 - accuracy: 0.5510 - val_loss: 0.6864 - val_accuracy: 0.5603\n",
            "Epoch 49/50\n",
            "157/157 [==============================] - 2s 13ms/step - loss: 0.6884 - accuracy: 0.5510 - val_loss: 0.6857 - val_accuracy: 0.5603\n",
            "Epoch 50/50\n",
            "157/157 [==============================] - 2s 12ms/step - loss: 0.6881 - accuracy: 0.5510 - val_loss: 0.6859 - val_accuracy: 0.5614\n",
            "35/35 [==============================] - 1s 9ms/step\n",
            "Confusion matrix:\n",
            "[[  1 389]\n",
            " [  0 725]]\n",
            "\n",
            "Classification report:\n",
            "              precision    recall  f1-score   support\n",
            "\n",
            "           0       1.00      0.00      0.01       390\n",
            "           1       0.65      1.00      0.79       725\n",
            "\n",
            "    accuracy                           0.65      1115\n",
            "   macro avg       0.83      0.50      0.40      1115\n",
            "weighted avg       0.77      0.65      0.51      1115\n",
            "\n",
            "Accuracy score: 0.6511\n"
          ]
        }
      ],
      "source": [
        "from keras.models import Sequential\n",
        "from keras.layers import Embedding, LSTM, Dense\n",
        "from keras.preprocessing.text import Tokenizer\n",
        "\n",
        "\n",
        "from sklearn.metrics import confusion_matrix, classification_report, accuracy_score\n",
        "print(\"-----Modelo 1------\")\n",
        "# Split data into train and validation sets\n",
        "x_train, x_val, y_train, y_val = train_test_split(x_train, y_train, test_size=0.15, random_state=42)\n",
        "\n",
        "# Vectorize text data\n",
        "cv = CountVectorizer(ngram_range=(1, 2), max_features=2500, max_df=0.95, min_df=5)\n",
        "X_train_ = cv.fit_transform(x_train)\n",
        "X_val_ = cv.transform(x_val)\n",
        "X_test_ = cv.transform(x_test)\n",
        "\n",
        "\n",
        "# Pad sequences\n",
        "max_len = 400\n",
        "X_train = pad_sequences(X_train_.toarray(), maxlen=max_len)\n",
        "X_val = pad_sequences(X_val_.toarray(), maxlen=max_len)\n",
        "X_test = pad_sequences(X_test_.toarray(), maxlen=max_len)\n",
        "# Create sequential model\n",
        "model = Sequential()\n",
        "\n",
        "# Add embedding layer\n",
        "model.add(Embedding(input_dim=len(cv.get_feature_names_out())+1, output_dim=50, input_length=max_len,trainable=False))# con el trainable=False tengo unos datos muy malos por lo que no es suficiente los pesos obtenidos con counvetorizer\n",
        "\n",
        "# Add LSTM layer\n",
        "model.add(LSTM(units=64))\n",
        "\n",
        "# Add dense layer and compile the model\n",
        "model.add(Dense(units=1, activation='sigmoid'))\n",
        "model.compile(loss='binary_crossentropy', optimizer='adam', metrics=['accuracy'])\n",
        "\n",
        "# Train the model\n",
        "model.fit(X_train, y_train, epochs=50, batch_size=32,shuffle=True, validation_data=(X_val, y_val))\n",
        "\n",
        "# Evaluate the model\n",
        "test_predict = (model.predict(X_test) > 0.5).astype(\"int32\")\n",
        "\n",
        "print('Confusion matrix:\\n{}'.format(confusion_matrix(y_test, test_predict)))\n",
        "print('\\nClassification report:\\n{}'.format(classification_report(y_test, test_predict)))\n",
        "print('Accuracy score: {:.4f}'.format(accuracy_score(y_test, test_predict)))"
      ]
    },
    {
      "cell_type": "code",
      "source": [
        "#El resultado con este modelo es muy malo ya que no precide ninguna de las reviews negativas"
      ],
      "metadata": {
        "id": "nD9QLajnkQel"
      },
      "execution_count": null,
      "outputs": []
    },
    {
      "cell_type": "markdown",
      "source": [
        "el modelo 2 inicializa los pesos de la red utilizando una matriz de embedding que se entrena desde cero"
      ],
      "metadata": {
        "id": "zPaHB7_akt_P"
      }
    },
    {
      "cell_type": "code",
      "execution_count": 81,
      "metadata": {
        "colab": {
          "base_uri": "https://localhost:8080/"
        },
        "id": "YwL0iRg8oDJ0",
        "outputId": "c548ec53-b20f-474d-d256-0072907930d2"
      },
      "outputs": [
        {
          "output_type": "stream",
          "name": "stdout",
          "text": [
            "-----Modelo 2-----\n",
            "Epoch 1/25\n",
            "134/134 [==============================] - 18s 121ms/step - loss: 0.5874 - accuracy: 0.6885 - val_loss: 0.4874 - val_accuracy: 0.7586\n",
            "Epoch 2/25\n",
            "134/134 [==============================] - 9s 65ms/step - loss: 0.3785 - accuracy: 0.8433 - val_loss: 0.5227 - val_accuracy: 0.7467\n",
            "Epoch 3/25\n",
            "134/134 [==============================] - 6s 45ms/step - loss: 0.2898 - accuracy: 0.8932 - val_loss: 0.5253 - val_accuracy: 0.7692\n",
            "Epoch 4/25\n",
            "134/134 [==============================] - 5s 35ms/step - loss: 0.2148 - accuracy: 0.9201 - val_loss: 0.6279 - val_accuracy: 0.7586\n",
            "Epoch 5/25\n",
            "134/134 [==============================] - 4s 27ms/step - loss: 0.1652 - accuracy: 0.9426 - val_loss: 0.6508 - val_accuracy: 0.7533\n",
            "Epoch 6/25\n",
            "134/134 [==============================] - 4s 31ms/step - loss: 0.1414 - accuracy: 0.9520 - val_loss: 0.7360 - val_accuracy: 0.7533\n",
            "Epoch 7/25\n",
            "134/134 [==============================] - 3s 25ms/step - loss: 0.1165 - accuracy: 0.9600 - val_loss: 0.8773 - val_accuracy: 0.7454\n",
            "Epoch 8/25\n",
            "134/134 [==============================] - 3s 19ms/step - loss: 0.1076 - accuracy: 0.9611 - val_loss: 0.8697 - val_accuracy: 0.7467\n",
            "Epoch 9/25\n",
            "134/134 [==============================] - 2s 17ms/step - loss: 0.1037 - accuracy: 0.9618 - val_loss: 0.8935 - val_accuracy: 0.7493\n",
            "Epoch 10/25\n",
            "134/134 [==============================] - 3s 22ms/step - loss: 0.0808 - accuracy: 0.9681 - val_loss: 0.9956 - val_accuracy: 0.7387\n",
            "Epoch 11/25\n",
            "134/134 [==============================] - 3s 22ms/step - loss: 0.0677 - accuracy: 0.9754 - val_loss: 1.0843 - val_accuracy: 0.7321\n",
            "Epoch 12/25\n",
            "134/134 [==============================] - 3s 19ms/step - loss: 0.0651 - accuracy: 0.9782 - val_loss: 1.0051 - val_accuracy: 0.7188\n",
            "Epoch 13/25\n",
            "134/134 [==============================] - 2s 18ms/step - loss: 0.0771 - accuracy: 0.9738 - val_loss: 1.2122 - val_accuracy: 0.7347\n",
            "Epoch 14/25\n",
            "134/134 [==============================] - 2s 18ms/step - loss: 0.0619 - accuracy: 0.9787 - val_loss: 1.1018 - val_accuracy: 0.7294\n",
            "Epoch 15/25\n",
            "134/134 [==============================] - 2s 17ms/step - loss: 0.0554 - accuracy: 0.9829 - val_loss: 1.2217 - val_accuracy: 0.7188\n",
            "Epoch 16/25\n",
            "134/134 [==============================] - 2s 17ms/step - loss: 0.0377 - accuracy: 0.9878 - val_loss: 1.4174 - val_accuracy: 0.7387\n",
            "Epoch 17/25\n",
            "134/134 [==============================] - 2s 18ms/step - loss: 0.0345 - accuracy: 0.9890 - val_loss: 1.4507 - val_accuracy: 0.7334\n",
            "Epoch 18/25\n",
            "134/134 [==============================] - 2s 14ms/step - loss: 0.0282 - accuracy: 0.9913 - val_loss: 1.5678 - val_accuracy: 0.7281\n",
            "Epoch 19/25\n",
            "134/134 [==============================] - 2s 15ms/step - loss: 0.0603 - accuracy: 0.9789 - val_loss: 1.1458 - val_accuracy: 0.7281\n",
            "Epoch 20/25\n",
            "134/134 [==============================] - 3s 21ms/step - loss: 0.0520 - accuracy: 0.9822 - val_loss: 1.3076 - val_accuracy: 0.7255\n",
            "Epoch 21/25\n",
            "134/134 [==============================] - 3s 23ms/step - loss: 0.0376 - accuracy: 0.9883 - val_loss: 1.3201 - val_accuracy: 0.7294\n",
            "Epoch 22/25\n",
            "134/134 [==============================] - 3s 22ms/step - loss: 0.0244 - accuracy: 0.9923 - val_loss: 1.4881 - val_accuracy: 0.7215\n",
            "Epoch 23/25\n",
            "134/134 [==============================] - 2s 16ms/step - loss: 0.0196 - accuracy: 0.9937 - val_loss: 1.6232 - val_accuracy: 0.7175\n",
            "Epoch 24/25\n",
            "134/134 [==============================] - 2s 17ms/step - loss: 0.0174 - accuracy: 0.9948 - val_loss: 1.7731 - val_accuracy: 0.7241\n",
            "Epoch 25/25\n",
            "134/134 [==============================] - 2s 18ms/step - loss: 0.0150 - accuracy: 0.9965 - val_loss: 1.7970 - val_accuracy: 0.7175\n",
            "35/35 [==============================] - 0s 5ms/step\n",
            "Confusion matrix:\n",
            "[[268 122]\n",
            " [164 561]]\n",
            "\n",
            "Classification report:\n",
            "              precision    recall  f1-score   support\n",
            "\n",
            "           0       0.62      0.69      0.65       390\n",
            "           1       0.82      0.77      0.80       725\n",
            "\n",
            "    accuracy                           0.74      1115\n",
            "   macro avg       0.72      0.73      0.72      1115\n",
            "weighted avg       0.75      0.74      0.75      1115\n",
            "\n",
            "Test Accuracy score: 0.7435\n"
          ]
        }
      ],
      "source": [
        "from keras.models import Sequential\n",
        "from keras.layers import Embedding, LSTM, Dense\n",
        "from keras.preprocessing.text import Tokenizer\n",
        "\n",
        "\n",
        "from sklearn.metrics import confusion_matrix, classification_report, accuracy_score\n",
        "\n",
        "print(\"-----Modelo 2-----\")\n",
        "# Vectorizador\n",
        "tokenizer = Tokenizer()\n",
        "tokenizer.fit_on_texts(x_train)\n",
        "x_train, x_val, y_train, y_val = train_test_split(x_train, y_train, test_size=0.15, random_state=42)\n",
        "X_train = tokenizer.texts_to_sequences(x_train)\n",
        "X_val = tokenizer.texts_to_sequences(x_val)\n",
        "X_test = tokenizer.texts_to_sequences(x_test)\n",
        "\n",
        "max_len = 400\n",
        "X_train = pad_sequences(X_train, maxlen=max_len)\n",
        "X_val = pad_sequences(X_val, maxlen=max_len)\n",
        "X_test = pad_sequences(X_test, maxlen=max_len)\n",
        "\n",
        "# Crear modelo secuencial\n",
        "model = Sequential()\n",
        "\n",
        "# Añadir capa de Embedding\n",
        "\n",
        "model.add(Embedding(input_dim=len(tokenizer.word_index)+1, output_dim=50, input_length=max_len))\n",
        "\n",
        "# Añadir capa de LSTM\n",
        "model.add(LSTM(units=64))\n",
        "\n",
        "# Añadir capa densa al modelo y compilarlo\n",
        "model.add(Dense(units=1, activation='sigmoid'))\n",
        "model.compile(loss='binary_crossentropy', optimizer='adam', metrics=['accuracy'])\n",
        "\n",
        "# Entrenar modelo\n",
        "model.fit(X_train, y_train, epochs=25, batch_size=32,shuffle=True, validation_data=(X_val, y_val))\n",
        "\n",
        "test_predict = (model.predict(X_test) > 0.5).astype(\"int32\")\n",
        "\n",
        "print('Confusion matrix:\\n{}'.format(confusion_matrix(y_test, test_predict)))\n",
        "print('\\nClassification report:\\n{}'.format(classification_report(y_test, test_predict)))\n",
        "print('Test Accuracy score: {:.4f}'.format(accuracy_score(y_test, test_predict)))"
      ]
    },
    {
      "cell_type": "markdown",
      "source": [
        "Nos salen unos datos mjores que en el modelo anterior"
      ],
      "metadata": {
        "id": "AttkYscgk9p4"
      }
    },
    {
      "cell_type": "markdown",
      "metadata": {
        "id": "vR0j0guXVLOl"
      },
      "source": [
        "Vamos a ver con GRU:"
      ]
    },
    {
      "cell_type": "code",
      "execution_count": 82,
      "metadata": {
        "id": "EpGUNPoPVqbf"
      },
      "outputs": [],
      "source": [
        "from keras.layers import Embedding, LSTM, Dense, Dropout, GRUV2, SimpleRNN"
      ]
    },
    {
      "cell_type": "code",
      "execution_count": 83,
      "metadata": {
        "colab": {
          "base_uri": "https://localhost:8080/"
        },
        "id": "o0GfdySYVNsE",
        "outputId": "d52ef8bc-7816-4e4b-ec69-95e7a4607525"
      },
      "outputs": [
        {
          "output_type": "stream",
          "name": "stdout",
          "text": [
            "Epoch 1/25\n",
            "134/134 [==============================] - 21s 139ms/step - loss: 0.6112 - accuracy: 0.6539 - val_loss: 0.4260 - val_accuracy: 0.8045\n",
            "Epoch 2/25\n",
            "134/134 [==============================] - 8s 63ms/step - loss: 0.3812 - accuracy: 0.8389 - val_loss: 0.4480 - val_accuracy: 0.7964\n",
            "Epoch 3/25\n",
            "134/134 [==============================] - 5s 38ms/step - loss: 0.2683 - accuracy: 0.8923 - val_loss: 0.5307 - val_accuracy: 0.7991\n",
            "Epoch 4/25\n",
            "134/134 [==============================] - 4s 28ms/step - loss: 0.1991 - accuracy: 0.9211 - val_loss: 0.6081 - val_accuracy: 0.7749\n",
            "Epoch 5/25\n",
            "134/134 [==============================] - 4s 28ms/step - loss: 0.1544 - accuracy: 0.9365 - val_loss: 0.7699 - val_accuracy: 0.7785\n",
            "Epoch 6/25\n",
            "134/134 [==============================] - 3s 22ms/step - loss: 0.1238 - accuracy: 0.9532 - val_loss: 0.7309 - val_accuracy: 0.7830\n",
            "Epoch 7/25\n",
            "134/134 [==============================] - 3s 23ms/step - loss: 0.0958 - accuracy: 0.9616 - val_loss: 0.8709 - val_accuracy: 0.7830\n",
            "Epoch 8/25\n",
            "134/134 [==============================] - 3s 22ms/step - loss: 0.0822 - accuracy: 0.9714 - val_loss: 1.0806 - val_accuracy: 0.7749\n",
            "Epoch 9/25\n",
            "134/134 [==============================] - 3s 22ms/step - loss: 0.0624 - accuracy: 0.9770 - val_loss: 1.0198 - val_accuracy: 0.7632\n",
            "Epoch 10/25\n",
            "134/134 [==============================] - 2s 15ms/step - loss: 0.0613 - accuracy: 0.9787 - val_loss: 1.0181 - val_accuracy: 0.7668\n",
            "Epoch 11/25\n",
            "134/134 [==============================] - 3s 24ms/step - loss: 0.0475 - accuracy: 0.9810 - val_loss: 1.2237 - val_accuracy: 0.7650\n",
            "Epoch 12/25\n",
            "134/134 [==============================] - 3s 19ms/step - loss: 0.0532 - accuracy: 0.9803 - val_loss: 1.2438 - val_accuracy: 0.7677\n",
            "Epoch 13/25\n",
            "134/134 [==============================] - 2s 17ms/step - loss: 0.0461 - accuracy: 0.9829 - val_loss: 1.2684 - val_accuracy: 0.7704\n",
            "Epoch 14/25\n",
            "134/134 [==============================] - 2s 18ms/step - loss: 0.0334 - accuracy: 0.9888 - val_loss: 1.5745 - val_accuracy: 0.7435\n",
            "Epoch 15/25\n",
            "134/134 [==============================] - 2s 18ms/step - loss: 0.0495 - accuracy: 0.9822 - val_loss: 1.2781 - val_accuracy: 0.7570\n",
            "Epoch 16/25\n",
            "134/134 [==============================] - 3s 19ms/step - loss: 0.0250 - accuracy: 0.9920 - val_loss: 1.2914 - val_accuracy: 0.7605\n",
            "Epoch 17/25\n",
            "134/134 [==============================] - 2s 16ms/step - loss: 0.0261 - accuracy: 0.9904 - val_loss: 1.6214 - val_accuracy: 0.7561\n",
            "Epoch 18/25\n",
            "134/134 [==============================] - 2s 17ms/step - loss: 0.0434 - accuracy: 0.9848 - val_loss: 1.1807 - val_accuracy: 0.7668\n",
            "Epoch 19/25\n",
            "134/134 [==============================] - 3s 18ms/step - loss: 0.0202 - accuracy: 0.9941 - val_loss: 1.5487 - val_accuracy: 0.7561\n",
            "Epoch 20/25\n",
            "134/134 [==============================] - 2s 18ms/step - loss: 0.0147 - accuracy: 0.9953 - val_loss: 1.4995 - val_accuracy: 0.7632\n",
            "Epoch 21/25\n",
            "134/134 [==============================] - 2s 16ms/step - loss: 0.0114 - accuracy: 0.9958 - val_loss: 1.7687 - val_accuracy: 0.7534\n",
            "Epoch 22/25\n",
            "134/134 [==============================] - 2s 18ms/step - loss: 0.0100 - accuracy: 0.9958 - val_loss: 1.8983 - val_accuracy: 0.7498\n",
            "Epoch 23/25\n",
            "134/134 [==============================] - 2s 16ms/step - loss: 0.0084 - accuracy: 0.9967 - val_loss: 2.0059 - val_accuracy: 0.7534\n",
            "Epoch 24/25\n",
            "134/134 [==============================] - 2s 16ms/step - loss: 0.0077 - accuracy: 0.9977 - val_loss: 2.1375 - val_accuracy: 0.7552\n",
            "Epoch 25/25\n",
            "134/134 [==============================] - 2s 17ms/step - loss: 0.0065 - accuracy: 0.9974 - val_loss: 2.2528 - val_accuracy: 0.7453\n",
            "35/35 [==============================] - 1s 8ms/step\n",
            "Confusion matrix:\n",
            "[[286 104]\n",
            " [180 545]]\n",
            "\n",
            "Classification report:\n",
            "              precision    recall  f1-score   support\n",
            "\n",
            "           0       0.61      0.73      0.67       390\n",
            "           1       0.84      0.75      0.79       725\n",
            "\n",
            "    accuracy                           0.75      1115\n",
            "   macro avg       0.73      0.74      0.73      1115\n",
            "weighted avg       0.76      0.75      0.75      1115\n",
            "\n",
            "Accuracy score: 0.7453\n"
          ]
        }
      ],
      "source": [
        "# Vectorizador\n",
        "tokenizer = Tokenizer()\n",
        "tokenizer.fit_on_texts(x_train)\n",
        "\n",
        "X_train = tokenizer.texts_to_sequences(x_train)\n",
        "X_test = tokenizer.texts_to_sequences(x_test)\n",
        "\n",
        "max_len = 400\n",
        "X_train = pad_sequences(X_train, maxlen=max_len)\n",
        "X_test = pad_sequences(X_test, maxlen=max_len)\n",
        "\n",
        "# Crear modelo secuencial\n",
        "model = Sequential()\n",
        "\n",
        "# Añadir capa de Embedding\n",
        "\n",
        "model.add(Embedding(input_dim=len(tokenizer.word_index)+1, output_dim=50, input_length=max_len))\n",
        "\n",
        "# Añadir capa de GRUV2\n",
        "model.add(GRUV2(units=64))\n",
        "\n",
        "# Añadir capa densa al modelo y compilarlo\n",
        "model.add(Dense(units=1, activation='sigmoid'))\n",
        "model.compile(loss='binary_crossentropy', optimizer='adam', metrics=['accuracy'])\n",
        "\n",
        "# Entrenar modelo\n",
        "model.fit(X_train, y_train, epochs=25, batch_size=32, shuffle=True,validation_data=(X_test, y_test))\n",
        "\n",
        "test_predict = (model.predict(X_test) > 0.5).astype(\"int32\")\n",
        "\n",
        "print('Confusion matrix:\\n{}'.format(confusion_matrix(y_test, test_predict)))\n",
        "print('\\nClassification report:\\n{}'.format(classification_report(y_test, test_predict)))\n",
        "print('Accuracy score: {:.4f}'.format(accuracy_score(y_test, test_predict)))"
      ]
    },
    {
      "cell_type": "code",
      "source": [
        "#Tanto con la capa LSTM como el modelo con la capa GRUV2 obtenemos resultados similares"
      ],
      "metadata": {
        "id": "K2sgBwxHlxgT"
      },
      "execution_count": null,
      "outputs": []
    },
    {
      "cell_type": "markdown",
      "source": [
        "Vamos a realizar un modelo más complejo, añadiendo diferentes capas de GRUV2 y MaxPooling. Ademas probamos con diferentes learnig rates y diferentes max_len(maximo de palabras por review)"
      ],
      "metadata": {
        "id": "j_eslysumk9R"
      }
    },
    {
      "cell_type": "code",
      "execution_count": 84,
      "metadata": {
        "colab": {
          "base_uri": "https://localhost:8080/"
        },
        "id": "UfME8afVXpAf",
        "outputId": "a4eae947-eb72-4c6d-bab2-fbbcac4f5a25"
      },
      "outputs": [
        {
          "output_type": "stream",
          "name": "stdout",
          "text": [
            "Epoch 1/12\n",
            "20/20 [==============================] - 11s 115ms/step - loss: 0.6902 - accuracy: 0.5445 - val_loss: 0.6927 - val_accuracy: 0.5080\n",
            "Epoch 2/12\n",
            "20/20 [==============================] - 1s 61ms/step - loss: 0.6839 - accuracy: 0.5588 - val_loss: 0.6941 - val_accuracy: 0.5080\n",
            "Epoch 3/12\n",
            "20/20 [==============================] - 1s 59ms/step - loss: 0.6807 - accuracy: 0.5585 - val_loss: 0.6938 - val_accuracy: 0.5080\n",
            "Epoch 4/12\n",
            "20/20 [==============================] - 1s 59ms/step - loss: 0.6744 - accuracy: 0.5600 - val_loss: 0.6906 - val_accuracy: 0.5080\n",
            "Epoch 5/12\n",
            "20/20 [==============================] - 1s 60ms/step - loss: 0.6659 - accuracy: 0.6143 - val_loss: 0.6854 - val_accuracy: 0.5769\n",
            "Epoch 6/12\n",
            "20/20 [==============================] - 1s 59ms/step - loss: 0.6507 - accuracy: 0.6663 - val_loss: 0.6860 - val_accuracy: 0.5756\n",
            "Epoch 7/12\n",
            "20/20 [==============================] - 1s 59ms/step - loss: 0.6317 - accuracy: 0.6768 - val_loss: 0.6774 - val_accuracy: 0.5849\n",
            "Epoch 8/12\n",
            "20/20 [==============================] - 1s 59ms/step - loss: 0.5848 - accuracy: 0.7248 - val_loss: 0.6650 - val_accuracy: 0.5836\n",
            "Epoch 9/12\n",
            "20/20 [==============================] - 1s 60ms/step - loss: 0.5147 - accuracy: 0.7834 - val_loss: 0.6857 - val_accuracy: 0.5729\n",
            "Epoch 10/12\n",
            "20/20 [==============================] - 1s 60ms/step - loss: 0.4661 - accuracy: 0.8131 - val_loss: 0.6973 - val_accuracy: 0.5743\n",
            "Epoch 11/12\n",
            "20/20 [==============================] - 1s 62ms/step - loss: 0.4330 - accuracy: 0.8293 - val_loss: 0.7142 - val_accuracy: 0.5849\n",
            "Epoch 12/12\n",
            "20/20 [==============================] - 1s 63ms/step - loss: 0.4043 - accuracy: 0.8504 - val_loss: 0.7466 - val_accuracy: 0.5703\n",
            "35/35 [==============================] - 1s 10ms/step\n",
            "Confusion matrix:\n",
            "[[269 121]\n",
            " [ 88 637]]\n",
            "\n",
            "Classification report:\n",
            "              precision    recall  f1-score   support\n",
            "\n",
            "           0       0.75      0.69      0.72       390\n",
            "           1       0.84      0.88      0.86       725\n",
            "\n",
            "    accuracy                           0.81      1115\n",
            "   macro avg       0.80      0.78      0.79      1115\n",
            "weighted avg       0.81      0.81      0.81      1115\n",
            "\n",
            "Accuracy score: 0.8126\n"
          ]
        }
      ],
      "source": [
        "from keras.layers import Dropout, Conv1D, MaxPooling1D\n",
        "from keras.optimizers import Adam\n",
        "\n",
        "\n",
        "num_epochs = 12\n",
        "lr = 0.0001\n",
        "max_len=450 #he probado con diferentes valores y al final el mejor valor creo que es 450 para este modelo\n",
        "\n",
        "X_train = pad_sequences(X_train, maxlen=max_len)\n",
        "X_val = pad_sequences(X_val, maxlen=max_len)\n",
        "X_test = pad_sequences(X_test, maxlen=max_len)\n",
        "# Crear modelo secuencial\n",
        "model = Sequential()\n",
        "\n",
        "# Añadir capa de Embedding\n",
        "model.add(Embedding(input_dim=len(tokenizer.word_index)+1, output_dim=80, input_length=max_len))\n",
        "\n",
        "# Añadir capa de Conv1D\n",
        "model.add(Conv1D(filters=32, kernel_size=3, activation='relu'))\n",
        "model.add(MaxPooling1D(pool_size=2))\n",
        "\n",
        "# Añadir primera capa de GRUV2\n",
        "model.add(GRUV2(units=220, return_sequences=True))\n",
        "model.add(Dropout(0.2))\n",
        "\n",
        "# Añadir segunda capa de GRUV2\n",
        "model.add(GRUV2(units=32, return_sequences=True))\n",
        "model.add(Dropout(0.3))\n",
        "\n",
        "# Añadir tercera capa de GRUV2\n",
        "model.add(GRUV2(units=3))\n",
        "model.add(Dropout(0.4))\n",
        "\n",
        "# Añadir capa densa al modelo y compilarlo\n",
        "model.add(Dense(units=1, activation='sigmoid'))\n",
        "opt = Adam(learning_rate=lr)\n",
        "model.compile(loss='binary_crossentropy', optimizer=opt, metrics=['accuracy'])\n",
        "\n",
        "# Entrenar modelo\n",
        "H = model.fit(X_train, y_train, epochs=num_epochs, batch_size=220, shuffle=True, validation_data=(X_val, y_val))\n",
        "\n",
        "test_predict = (model.predict(X_test) > 0.5).astype(\"int32\")\n",
        "\n",
        "print('Confusion matrix:\\n{}'.format(confusion_matrix(y_test, test_predict)))\n",
        "print('\\nClassification report:\\n{}'.format(classification_report(y_test, test_predict)))\n",
        "print('Accuracy score: {:.4f}'.format(accuracy_score(y_test, test_predict)))"
      ]
    },
    {
      "cell_type": "code",
      "execution_count": 85,
      "metadata": {
        "colab": {
          "base_uri": "https://localhost:8080/",
          "height": 316
        },
        "id": "PGi86ORUZTZs",
        "outputId": "1a8a04af-99b0-4273-be6e-924e6b3d7651"
      },
      "outputs": [
        {
          "output_type": "execute_result",
          "data": {
            "text/plain": [
              "<matplotlib.legend.Legend at 0x7f257ec6fd30>"
            ]
          },
          "metadata": {},
          "execution_count": 85
        },
        {
          "output_type": "display_data",
          "data": {
            "text/plain": [
              "<Figure size 432x288 with 1 Axes>"
            ],
            "image/png": "[encoded data removed]"
          },
          "metadata": {}
        }
      ],
      "source": [
        "\n",
        "\n",
        "# Gráfica de precisión\n",
        "plt.style.use(\"ggplot\")\n",
        "plt.figure()\n",
        "plt.plot(np.arange(0, num_epochs), H.history[\"accuracy\"], label=\"train_acc\")\n",
        "plt.plot(np.arange(0, num_epochs), H.history[\"val_accuracy\"], label=\"val_acc\")\n",
        "\n",
        "plt.title(\"Accuracy\")\n",
        "plt.xlabel(\"Epoch #\")\n",
        "plt.ylabel(\"Accuracy\")\n",
        "plt.legend()"
      ]
    },
    {
      "cell_type": "code",
      "execution_count": 102,
      "metadata": {
        "id": "BjI13xhlhPz_"
      },
      "outputs": [],
      "source": [
        "#A partir de la 4ª epoca parece que hay overfiting por lo que el resultado más correcto nos esta saliendo con este numero de epocas. \n",
        "#Tb he pobado diderentes valores de lr y epocas.\n",
        "#Con este modelo conseguimos una precison mejor para ambas clases"
      ]
    },
    {
      "cell_type": "markdown",
      "metadata": {
        "id": "HmvGms17JmU8"
      },
      "source": [
        "## word2vec Embedding"
      ]
    },
    {
      "cell_type": "code",
      "execution_count": 91,
      "metadata": {
        "id": "4-12mpvjP1bl"
      },
      "outputs": [],
      "source": [
        "from tensorflow.keras.preprocessing.text import Tokenizer\n",
        "from tensorflow.keras.preprocessing.sequence import pad_sequences\n",
        "from tensorflow.keras.layers import Embedding, Conv1D, MaxPooling1D, GRU, Dropout, Flatten, Dense\n",
        "from tensorflow.keras.models import Sequential\n",
        "from tensorflow.keras.optimizers import Adam\n",
        "import numpy as np\n",
        "from sklearn.metrics import confusion_matrix, classification_report, accuracy_score\n",
        "from gensim.models import Word2Vec\n"
      ]
    },
    {
      "cell_type": "code",
      "execution_count": 92,
      "metadata": {
        "id": "-Rzg2L8KttVV"
      },
      "outputs": [],
      "source": [
        "\n",
        "# Crear modelo Word2Vec\n",
        "W2V_EPOCH=60\n",
        "W2V_SIZE = 300 # tamaño de vectores\n",
        "ww2v_model = Word2Vec(min_count=2,\n",
        "                      window=5,\n",
        "                      size=W2V_SIZE)\n",
        "\n",
        "\n",
        "\n",
        "\n"
      ]
    },
    {
      "cell_type": "code",
      "execution_count": 93,
      "metadata": {
        "id": "tj1o4u2G5fFa"
      },
      "outputs": [],
      "source": [
        "sentences = []\n",
        "import nltk\n",
        "from nltk.tokenize import word_tokenize\n",
        "for review in x_train:\n",
        "    tokens = word_tokenize(review)\n",
        "    sentences.append(tokens)\n",
        "ww2v_model.build_vocab(sentences)\n",
        "ww2v_model.train(sentences, total_examples=len(sentences), epochs=W2V_EPOCH)\n",
        "\n",
        "# Obtener tokens y crear diccionario con índices\n",
        "tokenizer = Tokenizer(num_words=None, oov_token=\"<OOV>\")\n",
        "tokenizer.fit_on_texts(x_train)\n",
        "word_index = tokenizer.word_index"
      ]
    },
    {
      "cell_type": "code",
      "execution_count": 94,
      "metadata": {
        "colab": {
          "base_uri": "https://localhost:8080/"
        },
        "id": "q2wZ6iGRt63C",
        "outputId": "98ff3382-747b-4890-adaa-4e9bee97a9b3"
      },
      "outputs": [
        {
          "output_type": "stream",
          "name": "stdout",
          "text": [
            "True\n",
            "Parecido a great\n",
            " [('burritostacosin', 0.4096377491950989), ('adrian', 0.40426820516586304), ('qas', 0.38458290696144104), ('scenery', 0.3814598023891449), ('portiona', 0.37222957611083984), ('excellent', 0.3673878312110901), ('plump', 0.36502012610435486), ('awesome', 0.3598875403404236), ('burmese', 0.35796862840652466), ('fresh', 0.35500484704971313)]\n",
            "Parecido a delicious\n",
            " [('absolutely', 0.4746272563934326), ('outstanding', 0.39136233925819397), ('tasty', 0.37803977727890015), ('goodness', 0.36669987440109253), ('excellent', 0.3593333959579468), ('amazing', 0.3574063777923584), ('yummy', 0.34891051054000854), ('loved', 0.3430445194244385), ('seranata', 0.34135109186172485), ('enjoyed', 0.3321746587753296)]\n",
            "Parecido a overcooked\n",
            " [('painfully', 0.670258641242981), ('abomination', 0.6250166893005371), ('obvious', 0.6084259152412415), ('frankly', 0.5719550848007202), ('mistaken', 0.5555098056793213), ('provolone', 0.48824578523635864), ('smh', 0.47831207513809204), ('bill', 0.46513819694519043), ('doused', 0.463214635848999), ('churrasco', 0.4396441578865051)]\n",
            "Parecido a bad\n",
            " [('mantou', 0.628400444984436), ('kibbeh', 0.5656796097755432), ('sand', 0.5070171356201172), ('crayfish', 0.4907333254814148), ('improperly', 0.4881437122821808), ('face', 0.4847944974899292), ('leathery', 0.47576969861984253), ('bellow', 0.4554198682308197), ('aftermath', 0.45534011721611023), ('nightmarish', 0.4491405189037323)]\n"
          ]
        }
      ],
      "source": [
        "\n",
        "print('best' in ww2v_model.wv.vocab)\n",
        "\n",
        "# obtener vector de una palabra\n",
        "vector = ww2v_model.wv['great']\n",
        "vector = ww2v_model.wv['delicious']\n",
        "vector = ww2v_model.wv['overcooked']\n",
        "vector = ww2v_model.wv['bad']\n",
        "# obtener palabras similares\n",
        "similar_words_great = ww2v_model.wv.most_similar('great')\n",
        "print(\"Parecido a great\\n\",similar_words_great)\n",
        "similar_words_delicious= ww2v_model.wv.most_similar('delicious')\n",
        "print(\"Parecido a delicious\\n\",similar_words_delicious)\n",
        "similar_words_overcooked= ww2v_model.wv.most_similar('overcooked')\n",
        "print(\"Parecido a overcooked\\n\",similar_words_overcooked)\n",
        "similar_words_bad= ww2v_model.wv.most_similar('bad')\n",
        "print(\"Parecido a bad\\n\",similar_words_bad)\n",
        "\n",
        "#como vemos aunque hay palabras que no tienen nada que ver con las nuestras si que hay agunas que presentan relacion\n",
        "#Great apararece como similar a good, awesome, better\n",
        "#delicious aparecen: amazing, good, loved\n",
        "#overcooked aparecen: mistaken, rubbery, chewy\n",
        "#bad aparecen: nightmarish\n",
        "\n",
        "#Por lo que parece que esta cogiendo mas o menos bien el sentido positivo y negativo de las palabras"
      ]
    },
    {
      "cell_type": "code",
      "source": [
        "\n",
        "\n",
        "# Convertir textos a secuencias de índices y hacer padding\n",
        "X_train = pad_sequences(tokenizer.texts_to_sequences(x_train), maxlen=450, padding=\"post\", truncating=\"post\")\n",
        "X_val = pad_sequences(tokenizer.texts_to_sequences(x_val), maxlen=450, padding=\"post\", truncating=\"post\")\n",
        "X_test = pad_sequences(tokenizer.texts_to_sequences(x_test), maxlen=450, padding=\"post\", truncating=\"post\")\n",
        "\n",
        "# Crear matriz de embedding\n",
        "embedding_matrix = np.zeros((len(tokenizer.word_index) + 1, W2V_SIZE))\n",
        "for word, i in word_index.items():\n",
        "    if word in ww2v_model.wv.vocab:\n",
        "        embedding_matrix[i] = ww2v_model.wv[word]\n",
        "\n",
        "# Crear modelo secuencial\n",
        "model = Sequential()\n",
        "\n",
        "# Añadir capa de Embedding con los pesos pre-entrenados\n",
        "embedding_layer = Embedding(len(tokenizer.word_index) + 1,\n",
        "                            W2V_SIZE,\n",
        "                            weights=[embedding_matrix],\n",
        "                            input_length=450,\n",
        "                            trainable=False) # Los pesos son fijos, no se vuelven a entrenar\n",
        "model.add(embedding_layer)\n",
        "\n",
        "# Añadir capa de Conv1D\n",
        "model.add(Conv1D(filters=32, kernel_size=3, activation='relu'))\n",
        "model.add(MaxPooling1D(pool_size=2))\n",
        "\n",
        "# Añadir capa de GRU\n",
        "model.add(GRU(units=64, return_sequences=True))\n",
        "model.add(Dropout(0.2))\n",
        "\n",
        "# Añadir capa densa al modelo y compilarlo\n",
        "model.add(Flatten())\n",
        "model.add(Dense(units=1, activation='sigmoid'))\n",
        "opt = Adam(learning_rate=0.0001)\n",
        "model.compile(loss='binary_crossentropy', optimizer=opt, metrics=['accuracy'])\n",
        "\n",
        "# Entrenar modelo\n",
        "num_epochs = 30\n",
        "batch_size = 220\n",
        "H = model.fit(X_train, y_train, epochs=num_epochs, batch_size=batch_size, shuffle=True, validation_data=(X_val, y_val))\n"
      ],
      "metadata": {
        "colab": {
          "base_uri": "https://localhost:8080/"
        },
        "id": "X-yMfh8KjLMB",
        "outputId": "228b6c57-4c11-47f6-ccb3-3fbef75c481f"
      },
      "execution_count": 95,
      "outputs": [
        {
          "output_type": "stream",
          "name": "stdout",
          "text": [
            "Epoch 1/30\n",
            "20/20 [==============================] - 3s 48ms/step - loss: 0.6862 - accuracy: 0.5602 - val_loss: 0.6786 - val_accuracy: 0.5597\n",
            "Epoch 2/30\n",
            "20/20 [==============================] - 0s 21ms/step - loss: 0.6635 - accuracy: 0.6187 - val_loss: 0.6629 - val_accuracy: 0.5862\n",
            "Epoch 3/30\n",
            "20/20 [==============================] - 0s 21ms/step - loss: 0.6369 - accuracy: 0.6447 - val_loss: 0.6369 - val_accuracy: 0.6300\n",
            "Epoch 4/30\n",
            "20/20 [==============================] - 0s 21ms/step - loss: 0.5977 - accuracy: 0.6923 - val_loss: 0.5957 - val_accuracy: 0.6684\n",
            "Epoch 5/30\n",
            "20/20 [==============================] - 0s 21ms/step - loss: 0.5497 - accuracy: 0.7276 - val_loss: 0.5498 - val_accuracy: 0.7334\n",
            "Epoch 6/30\n",
            "20/20 [==============================] - 0s 21ms/step - loss: 0.5081 - accuracy: 0.7604 - val_loss: 0.5151 - val_accuracy: 0.7533\n",
            "Epoch 7/30\n",
            "20/20 [==============================] - 0s 21ms/step - loss: 0.4831 - accuracy: 0.7728 - val_loss: 0.4964 - val_accuracy: 0.7626\n",
            "Epoch 8/30\n",
            "20/20 [==============================] - 0s 21ms/step - loss: 0.4716 - accuracy: 0.7808 - val_loss: 0.4885 - val_accuracy: 0.7692\n",
            "Epoch 9/30\n",
            "20/20 [==============================] - 0s 21ms/step - loss: 0.4646 - accuracy: 0.7881 - val_loss: 0.4850 - val_accuracy: 0.7692\n",
            "Epoch 10/30\n",
            "20/20 [==============================] - 0s 21ms/step - loss: 0.4585 - accuracy: 0.7918 - val_loss: 0.4830 - val_accuracy: 0.7719\n",
            "Epoch 11/30\n",
            "20/20 [==============================] - 0s 21ms/step - loss: 0.4528 - accuracy: 0.7927 - val_loss: 0.4847 - val_accuracy: 0.7732\n",
            "Epoch 12/30\n",
            "20/20 [==============================] - 0s 21ms/step - loss: 0.4491 - accuracy: 0.7979 - val_loss: 0.4805 - val_accuracy: 0.7759\n",
            "Epoch 13/30\n",
            "20/20 [==============================] - 0s 21ms/step - loss: 0.4447 - accuracy: 0.7993 - val_loss: 0.4797 - val_accuracy: 0.7785\n",
            "Epoch 14/30\n",
            "20/20 [==============================] - 0s 21ms/step - loss: 0.4410 - accuracy: 0.8016 - val_loss: 0.4758 - val_accuracy: 0.7785\n",
            "Epoch 15/30\n",
            "20/20 [==============================] - 0s 21ms/step - loss: 0.4355 - accuracy: 0.8056 - val_loss: 0.4747 - val_accuracy: 0.7825\n",
            "Epoch 16/30\n",
            "20/20 [==============================] - 0s 21ms/step - loss: 0.4314 - accuracy: 0.8108 - val_loss: 0.4793 - val_accuracy: 0.7812\n",
            "Epoch 17/30\n",
            "20/20 [==============================] - 0s 21ms/step - loss: 0.4289 - accuracy: 0.8054 - val_loss: 0.4738 - val_accuracy: 0.7825\n",
            "Epoch 18/30\n",
            "20/20 [==============================] - 0s 21ms/step - loss: 0.4236 - accuracy: 0.8108 - val_loss: 0.4721 - val_accuracy: 0.7798\n",
            "Epoch 19/30\n",
            "20/20 [==============================] - 0s 21ms/step - loss: 0.4192 - accuracy: 0.8162 - val_loss: 0.4747 - val_accuracy: 0.7878\n",
            "Epoch 20/30\n",
            "20/20 [==============================] - 0s 23ms/step - loss: 0.4151 - accuracy: 0.8176 - val_loss: 0.4754 - val_accuracy: 0.7865\n",
            "Epoch 21/30\n",
            "20/20 [==============================] - 0s 21ms/step - loss: 0.4112 - accuracy: 0.8197 - val_loss: 0.4719 - val_accuracy: 0.7851\n",
            "Epoch 22/30\n",
            "20/20 [==============================] - 0s 22ms/step - loss: 0.4067 - accuracy: 0.8204 - val_loss: 0.4729 - val_accuracy: 0.7905\n",
            "Epoch 23/30\n",
            "20/20 [==============================] - 1s 26ms/step - loss: 0.4017 - accuracy: 0.8239 - val_loss: 0.4710 - val_accuracy: 0.7878\n",
            "Epoch 24/30\n",
            "20/20 [==============================] - 0s 22ms/step - loss: 0.3971 - accuracy: 0.8265 - val_loss: 0.4758 - val_accuracy: 0.7891\n",
            "Epoch 25/30\n",
            "20/20 [==============================] - 0s 21ms/step - loss: 0.3919 - accuracy: 0.8283 - val_loss: 0.4752 - val_accuracy: 0.7838\n",
            "Epoch 26/30\n",
            "20/20 [==============================] - 0s 21ms/step - loss: 0.3861 - accuracy: 0.8326 - val_loss: 0.4746 - val_accuracy: 0.7838\n",
            "Epoch 27/30\n",
            "20/20 [==============================] - 0s 21ms/step - loss: 0.3813 - accuracy: 0.8316 - val_loss: 0.4746 - val_accuracy: 0.7838\n",
            "Epoch 28/30\n",
            "20/20 [==============================] - 0s 21ms/step - loss: 0.3748 - accuracy: 0.8361 - val_loss: 0.4812 - val_accuracy: 0.7838\n",
            "Epoch 29/30\n",
            "20/20 [==============================] - 0s 21ms/step - loss: 0.3684 - accuracy: 0.8436 - val_loss: 0.4834 - val_accuracy: 0.7838\n",
            "Epoch 30/30\n",
            "20/20 [==============================] - 0s 21ms/step - loss: 0.3614 - accuracy: 0.8464 - val_loss: 0.4870 - val_accuracy: 0.7798\n"
          ]
        }
      ]
    },
    {
      "cell_type": "code",
      "source": [
        "# Predecir en el conjunto de test\n",
        "test_predict = (model.predict(X_test) > 0.5).astype(\"int32\")\n",
        "\n",
        "# Convertir y_test y y_train a enteros\n",
        "y_test = y_test.astype(\"int32\")\n",
        "y_train = y_train.astype(\"int32\")\n",
        "\n",
        "# Mostrar métricas de evaluación\n",
        "print('Confusion matrix:\\n{}'.format(confusion_matrix(y_test, test_predict)))\n",
        "print('\\nClassification report:\\n{}'.format(classification_report(y_test, test_predict)))\n",
        "print('Accuracy score: {:.4f}'.format(accuracy_score(y_test, test_predict)))\n",
        "\n",
        "# Gráfica de precisión\n",
        "plt.style.use(\"ggplot\")\n",
        "plt.figure()\n",
        "plt.plot(np.arange(0, num_epochs), H.history[\"accuracy\"], label=\"train_acc\")\n",
        "plt.plot(np.arange(0, num_epochs), H.history[\"val_accuracy\"], label=\"val_acc\")\n",
        "\n",
        "plt.title(\"Accuracy\")\n",
        "plt.xlabel(\"Epoch #\")\n",
        "plt.ylabel(\"Accuracy\")\n",
        "plt.legend()"
      ],
      "metadata": {
        "colab": {
          "base_uri": "https://localhost:8080/",
          "height": 594
        },
        "id": "xkITeBrQjTio",
        "outputId": "a75d7a00-7333-4d78-851e-8fd463c2d626"
      },
      "execution_count": 98,
      "outputs": [
        {
          "output_type": "stream",
          "name": "stdout",
          "text": [
            "35/35 [==============================] - 0s 7ms/step\n",
            "Confusion matrix:\n",
            "[[271 119]\n",
            " [102 623]]\n",
            "\n",
            "Classification report:\n",
            "              precision    recall  f1-score   support\n",
            "\n",
            "           0       0.73      0.69      0.71       390\n",
            "           1       0.84      0.86      0.85       725\n",
            "\n",
            "    accuracy                           0.80      1115\n",
            "   macro avg       0.78      0.78      0.78      1115\n",
            "weighted avg       0.80      0.80      0.80      1115\n",
            "\n",
            "Accuracy score: 0.8018\n"
          ]
        },
        {
          "output_type": "execute_result",
          "data": {
            "text/plain": [
              "<matplotlib.legend.Legend at 0x7f257dd88670>"
            ]
          },
          "metadata": {},
          "execution_count": 98
        },
        {
          "output_type": "display_data",
          "data": {
            "text/plain": [
              "<Figure size 432x288 with 1 Axes>"
            ],
            "image/png": "[encoded data removed]"
          },
          "metadata": {}
        }
      ]
    },
    {
      "cell_type": "markdown",
      "source": [
        "A partir de la época 20, se observa la presencia de overfitting en el modelo. En comparación con el modelo anterior, el segundo modelo presenta menos overfitting. Por lo tanto, se puede concluir que la segunda gráfica es mejor en términos de capacidad del modelo para generalizar en nuevos datos."
      ],
      "metadata": {
        "id": "9101gVDHn8im"
      }
    },
    {
      "cell_type": "code",
      "source": [
        "# Plot gráfica ROC\n",
        "fpr, tpr, thresholds = roc_curve(y_test, y_pred)\n",
        "auc = roc_auc_score(y_test, y_pred)\n",
        "\n",
        "plt.figure()\n",
        "plt.plot(fpr, tpr, color='darkorange', lw=2, label='ROC curve (AUC = {:.2f})'.format(auc))\n",
        "plt.plot([0, 1], [0, 1], color='navy', lw=2, linestyle='--')\n",
        "plt.xlim([0.0, 1.0])\n",
        "plt.ylim([0.0, 1.05])\n",
        "plt.xlabel('Tasa de falsos positivos')\n",
        "plt.ylabel('Tasa de verdaderos positivos')\n",
        "plt.title('Gráfica ROC')\n",
        "plt.legend(loc=\"lower right\")\n",
        "plt.show()"
      ],
      "metadata": {
        "colab": {
          "base_uri": "https://localhost:8080/",
          "height": 299
        },
        "id": "iUe-i1gruRGi",
        "outputId": "5ed750f4-4f8b-47c9-e934-864e6c649f86"
      },
      "execution_count": 97,
      "outputs": [
        {
          "output_type": "display_data",
          "data": {
            "text/plain": [
              "<Figure size 432x288 with 1 Axes>"
            ],
            "image/png": "[encoded data removed]"
          },
          "metadata": {}
        }
      ]
    },
    {
      "cell_type": "markdown",
      "source": [
        "# Conclusiones Modelo word2vec Embedding"
      ],
      "metadata": {
        "id": "UEyAN3o0vaA6"
      }
    },
    {
      "cell_type": "markdown",
      "source": [
        "La matriz de confusión muestra que el modelo clasificó correctamente 271 instancias negativas y 623 instancias positivas, mientras que clasificó incorrectamente 119 instancias negativas y 102 instancias positivas. El reporte de clasificación muestra que la precisión del modelo es del 73% para la clase negativa y del 84% para la clase positiva. El recall del modelo es del 69% para la clase negativa y del 86% para la clase positiva, lo que significa que el modelo identifica correctamente el 69% de las instancias negativas y el 86% de las instancias positivas. El F1-score es una medida combinada de precisión y recall, y es del 71% para la clase negativa y del 85% para la clase positiva. El accuracy score, que es la fracción de instancias clasificadas correctamente, es del 80%. Por loq ue podemos decir que el modelo tiene unos resultados correctos aunque se podrían mejorar, podriamos realizar una busqueda de hiperparametros o realizar un modelo más complejo añadiendo capas."
      ],
      "metadata": {
        "id": "KJpJNJVyovCa"
      }
    },
    {
      "cell_type": "markdown",
      "source": [
        "Un AUC perfecto sería 1, lo que significa que el modelo clasifica perfectamente todos los puntos. Un AUC de 0,5 indica un rendimiento aleatorio, mientras que un AUC inferior a 0,5 indica que el modelo está clasificando peor que aleatoriamente.\n",
        "La curva de ROC también nos da un resultado más o menos bueno ya que es del 0.79."
      ],
      "metadata": {
        "id": "sMvec_QbqW0V"
      }
    }
  ],
  "metadata": {
    "accelerator": "GPU",
    "colab": {
      "machine_shape": "hm",
      "provenance": []
    },
    "gpuClass": "premium",
    "kernelspec": {
      "display_name": "Python 3 (ipykernel)",
      "language": "python",
      "name": "python3"
    },
    "language_info": {
      "codemirror_mode": {
        "name": "ipython",
        "version": 3
      },
      "file_extension": ".py",
      "mimetype": "text/x-python",
      "name": "python",
      "nbconvert_exporter": "python",
      "pygments_lexer": "ipython3",
      "version": "3.9.13"
    }
  },
  "nbformat": 4,
  "nbformat_minor": 0
}